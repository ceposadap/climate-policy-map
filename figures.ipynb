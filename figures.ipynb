{
 "cells": [
  {
   "cell_type": "code",
   "execution_count": 62,
   "metadata": {},
   "outputs": [],
   "source": [
    "import pandas as pd\n",
    "import numpy as np\n",
    "import matplotlib.pyplot as plt\n",
    "\n",
    "import sys, os, django\n",
    "\n",
    "sys.path.append('/home/galm/software/django/tmv/BasicBrowser/')\n",
    "os.environ.setdefault(\"DJANGO_SETTINGS_MODULE\", \"BasicBrowser.settings\")\n",
    "django.setup()\n",
    "\n",
    "from django.db.models import Q, F, Sum, Count, FloatField, Case, When, Value, Max\n",
    "from sklearn.manifold import TSNE\n",
    "from scoping.models import *"
   ]
  },
  {
   "cell_type": "code",
   "execution_count": 63,
   "metadata": {},
   "outputs": [
    {
     "data": {
      "text/html": [
       "<div>\n",
       "<style scoped>\n",
       "    .dataframe tbody tr th:only-of-type {\n",
       "        vertical-align: middle;\n",
       "    }\n",
       "\n",
       "    .dataframe tbody tr th {\n",
       "        vertical-align: top;\n",
       "    }\n",
       "\n",
       "    .dataframe thead th {\n",
       "        text-align: right;\n",
       "    }\n",
       "</style>\n",
       "<table border=\"1\" class=\"dataframe\">\n",
       "  <thead>\n",
       "    <tr style=\"text-align: right;\">\n",
       "      <th></th>\n",
       "      <th>PY</th>\n",
       "      <th>content</th>\n",
       "      <th>id</th>\n",
       "      <th>relevant</th>\n",
       "      <th>seen</th>\n",
       "      <th>title</th>\n",
       "      <th>wosarticle__de</th>\n",
       "      <th>wosarticle__wc</th>\n",
       "      <th>1 - Adaptation</th>\n",
       "      <th>1 - Mitigation</th>\n",
       "      <th>...</th>\n",
       "      <th>mit/ad</th>\n",
       "      <th>1 - Mitigation - prediction</th>\n",
       "      <th>1 - Adaptation - prediction</th>\n",
       "      <th>3 - Economic instruments - prediction</th>\n",
       "      <th>3 - Goal setting - prediction</th>\n",
       "      <th>3 - Information policies - prediction</th>\n",
       "      <th>3 - International policies - prediction</th>\n",
       "      <th>3 - Planning and public provisioning/services - prediction</th>\n",
       "      <th>3 - Regulatory instruments - prediction</th>\n",
       "      <th>3 - Voluntary actions - prediction</th>\n",
       "    </tr>\n",
       "  </thead>\n",
       "  <tbody>\n",
       "    <tr>\n",
       "      <th>0</th>\n",
       "      <td>1992.0</td>\n",
       "      <td>Some new aspects of microbiology in water-in-o...</td>\n",
       "      <td>599544</td>\n",
       "      <td>0.0</td>\n",
       "      <td>0.0</td>\n",
       "      <td>SOLUBILIZATION AND GROWTH OF CANDIDA-PSEUDOTRO...</td>\n",
       "      <td>YEAST; GROWTH; ORGANIC SOLVENT; MICROEMULSION;...</td>\n",
       "      <td>['Biotechnology &amp; Applied Microbiology']</td>\n",
       "      <td>0.0</td>\n",
       "      <td>0.0</td>\n",
       "      <td>...</td>\n",
       "      <td>0.0</td>\n",
       "      <td>NaN</td>\n",
       "      <td>NaN</td>\n",
       "      <td>0.0</td>\n",
       "      <td>0.0</td>\n",
       "      <td>0.0</td>\n",
       "      <td>0.0</td>\n",
       "      <td>0.0</td>\n",
       "      <td>0.0</td>\n",
       "      <td>0.0</td>\n",
       "    </tr>\n",
       "    <tr>\n",
       "      <th>1</th>\n",
       "      <td>2018.0</td>\n",
       "      <td>The present experimental study is investigated...</td>\n",
       "      <td>1305496</td>\n",
       "      <td>0.0</td>\n",
       "      <td>0.0</td>\n",
       "      <td>Novel Garcinia gummi-gutta methyl ester (GGME)...</td>\n",
       "      <td>Garcinia gummi-gutta methyl ester; Immobilized...</td>\n",
       "      <td>['Green &amp; Sustainable Science &amp; Technology; En...</td>\n",
       "      <td>0.0</td>\n",
       "      <td>0.0</td>\n",
       "      <td>...</td>\n",
       "      <td>0.0</td>\n",
       "      <td>1.0</td>\n",
       "      <td>0.0</td>\n",
       "      <td>0.0</td>\n",
       "      <td>0.0</td>\n",
       "      <td>0.0</td>\n",
       "      <td>0.0</td>\n",
       "      <td>0.0</td>\n",
       "      <td>0.0</td>\n",
       "      <td>0.0</td>\n",
       "    </tr>\n",
       "    <tr>\n",
       "      <th>2</th>\n",
       "      <td>2000.0</td>\n",
       "      <td>The DAYCENT ecosystem model was used to addres...</td>\n",
       "      <td>1860140</td>\n",
       "      <td>0.0</td>\n",
       "      <td>0.0</td>\n",
       "      <td>Interaction of soil carbon sequestration and N...</td>\n",
       "      <td>soil C; N2O flux; climate forcing; land use ma...</td>\n",
       "      <td>['Environmental Sciences']</td>\n",
       "      <td>0.0</td>\n",
       "      <td>0.0</td>\n",
       "      <td>...</td>\n",
       "      <td>0.0</td>\n",
       "      <td>1.0</td>\n",
       "      <td>0.0</td>\n",
       "      <td>0.0</td>\n",
       "      <td>0.0</td>\n",
       "      <td>0.0</td>\n",
       "      <td>0.0</td>\n",
       "      <td>0.0</td>\n",
       "      <td>0.0</td>\n",
       "      <td>0.0</td>\n",
       "    </tr>\n",
       "    <tr>\n",
       "      <th>3</th>\n",
       "      <td>1997.0</td>\n",
       "      <td>A new air mass-based synoptic procedure is use...</td>\n",
       "      <td>615984</td>\n",
       "      <td>0.0</td>\n",
       "      <td>0.0</td>\n",
       "      <td>An evaluation of climate/mortality relationshi...</td>\n",
       "      <td>acclimatization; air mass; climate and human m...</td>\n",
       "      <td>['Environmental Sciences; Public, Environmenta...</td>\n",
       "      <td>0.0</td>\n",
       "      <td>0.0</td>\n",
       "      <td>...</td>\n",
       "      <td>0.0</td>\n",
       "      <td>0.0</td>\n",
       "      <td>0.0</td>\n",
       "      <td>0.0</td>\n",
       "      <td>0.0</td>\n",
       "      <td>0.0</td>\n",
       "      <td>0.0</td>\n",
       "      <td>0.0</td>\n",
       "      <td>0.0</td>\n",
       "      <td>0.0</td>\n",
       "    </tr>\n",
       "    <tr>\n",
       "      <th>4</th>\n",
       "      <td>2009.0</td>\n",
       "      <td>Fresh produce is increasingly implicated in fo...</td>\n",
       "      <td>328444</td>\n",
       "      <td>0.0</td>\n",
       "      <td>0.0</td>\n",
       "      <td>Persistence of Escherichia coli on Injured ice...</td>\n",
       "      <td>0</td>\n",
       "      <td>['Biotechnology &amp; Applied Microbiology; Food S...</td>\n",
       "      <td>0.0</td>\n",
       "      <td>0.0</td>\n",
       "      <td>...</td>\n",
       "      <td>0.0</td>\n",
       "      <td>0.0</td>\n",
       "      <td>0.0</td>\n",
       "      <td>0.0</td>\n",
       "      <td>0.0</td>\n",
       "      <td>0.0</td>\n",
       "      <td>0.0</td>\n",
       "      <td>0.0</td>\n",
       "      <td>0.0</td>\n",
       "      <td>0.0</td>\n",
       "    </tr>\n",
       "  </tbody>\n",
       "</table>\n",
       "<p>5 rows × 66 columns</p>\n",
       "</div>"
      ],
      "text/plain": [
       "       PY                                            content       id  \\\n",
       "0  1992.0  Some new aspects of microbiology in water-in-o...   599544   \n",
       "1  2018.0  The present experimental study is investigated...  1305496   \n",
       "2  2000.0  The DAYCENT ecosystem model was used to addres...  1860140   \n",
       "3  1997.0  A new air mass-based synoptic procedure is use...   615984   \n",
       "4  2009.0  Fresh produce is increasingly implicated in fo...   328444   \n",
       "\n",
       "   relevant  seen                                              title  \\\n",
       "0       0.0   0.0  SOLUBILIZATION AND GROWTH OF CANDIDA-PSEUDOTRO...   \n",
       "1       0.0   0.0  Novel Garcinia gummi-gutta methyl ester (GGME)...   \n",
       "2       0.0   0.0  Interaction of soil carbon sequestration and N...   \n",
       "3       0.0   0.0  An evaluation of climate/mortality relationshi...   \n",
       "4       0.0   0.0  Persistence of Escherichia coli on Injured ice...   \n",
       "\n",
       "                                      wosarticle__de  \\\n",
       "0  YEAST; GROWTH; ORGANIC SOLVENT; MICROEMULSION;...   \n",
       "1  Garcinia gummi-gutta methyl ester; Immobilized...   \n",
       "2  soil C; N2O flux; climate forcing; land use ma...   \n",
       "3  acclimatization; air mass; climate and human m...   \n",
       "4                                                  0   \n",
       "\n",
       "                                      wosarticle__wc  1 - Adaptation  \\\n",
       "0           ['Biotechnology & Applied Microbiology']             0.0   \n",
       "1  ['Green & Sustainable Science & Technology; En...             0.0   \n",
       "2                         ['Environmental Sciences']             0.0   \n",
       "3  ['Environmental Sciences; Public, Environmenta...             0.0   \n",
       "4  ['Biotechnology & Applied Microbiology; Food S...             0.0   \n",
       "\n",
       "   1 - Mitigation  ...  mit/ad  1 - Mitigation - prediction  \\\n",
       "0             0.0  ...     0.0                          NaN   \n",
       "1             0.0  ...     0.0                          1.0   \n",
       "2             0.0  ...     0.0                          1.0   \n",
       "3             0.0  ...     0.0                          0.0   \n",
       "4             0.0  ...     0.0                          0.0   \n",
       "\n",
       "   1 - Adaptation - prediction  3 - Economic instruments - prediction  \\\n",
       "0                          NaN                                    0.0   \n",
       "1                          0.0                                    0.0   \n",
       "2                          0.0                                    0.0   \n",
       "3                          0.0                                    0.0   \n",
       "4                          0.0                                    0.0   \n",
       "\n",
       "   3 - Goal setting - prediction  3 - Information policies - prediction  \\\n",
       "0                            0.0                                    0.0   \n",
       "1                            0.0                                    0.0   \n",
       "2                            0.0                                    0.0   \n",
       "3                            0.0                                    0.0   \n",
       "4                            0.0                                    0.0   \n",
       "\n",
       "   3 - International policies - prediction  \\\n",
       "0                                      0.0   \n",
       "1                                      0.0   \n",
       "2                                      0.0   \n",
       "3                                      0.0   \n",
       "4                                      0.0   \n",
       "\n",
       "   3 - Planning and public provisioning/services - prediction  \\\n",
       "0                                                0.0            \n",
       "1                                                0.0            \n",
       "2                                                0.0            \n",
       "3                                                0.0            \n",
       "4                                                0.0            \n",
       "\n",
       "   3 - Regulatory instruments - prediction  3 - Voluntary actions - prediction  \n",
       "0                                      0.0                                 0.0  \n",
       "1                                      0.0                                 0.0  \n",
       "2                                      0.0                                 0.0  \n",
       "3                                      0.0                                 0.0  \n",
       "4                                      0.0                                 0.0  \n",
       "\n",
       "[5 rows x 66 columns]"
      ]
     },
     "execution_count": 63,
     "metadata": {},
     "output_type": "execute_result"
    }
   ],
   "source": [
    "df = pd.read_csv('data/document_ratings.csv')\n",
    "df.head()"
   ]
  },
  {
   "cell_type": "code",
   "execution_count": 64,
   "metadata": {},
   "outputs": [
    {
     "data": {
      "text/plain": [
       "Index(['PY', 'content', 'id', 'relevant', 'seen', 'title', 'wosarticle__de',\n",
       "       'wosarticle__wc', '1 - Adaptation', '1 - Mitigation',\n",
       "       '2 - Governance & policies', '3 - <hidden>tax/emission trading',\n",
       "       '3 - Economic instruments', '3 - Goal setting',\n",
       "       '3 - Government procurement & public services<hidden>',\n",
       "       '3 - Information policies', '3 - Information<hidden>',\n",
       "       '3 - International policies', '3 - Other<hidden>',\n",
       "       '3 - Planning and public provisioning/services',\n",
       "       '3 - Regulation<hidden>', '3 - Regulatory instruments',\n",
       "       '3 - Subsidies<hidden>', '3 - Voluntary actions',\n",
       "       '3 - voluntary agreement<hidden>', '4 - Behavioral interventions',\n",
       "       '4 - Emissions trading ', '4 - Feed in tariffs',\n",
       "       '4 - Financial mechanisms', '4 - Financial regulation & insurance',\n",
       "       '4 - Government procurement', '4 - Infrastructure policy & management',\n",
       "       '4 - Innovation policies', '4 - International agreements',\n",
       "       '4 - Investments, credits and loans',\n",
       "       '4 - Labeling and certificates /Consumption and production choices',\n",
       "       '4 - Legal frameworks and implementation',\n",
       "       '4 - Other governance services or programs',\n",
       "       '4 - Other voluntary actions', '4 - Performance/ Appliance standards',\n",
       "       '4 - Public information/ awareness campaigns',\n",
       "       '4 - Rationing, bans & moratoria',\n",
       "       '4 - Reports and assessments/ monitoring and evaluation',\n",
       "       '4 - Spatial & land-use planning',\n",
       "       '4 - Subsidy/compensation/ allowance', '4 - Targets & goals', '4 - Tax',\n",
       "       '4 - Voluntary agreements', '5 - Company & organizations', '5 - Local',\n",
       "       '5 - National', '5 - Sub-national/ regional',\n",
       "       '5 - Supranational & international', 'prediction',\n",
       "       '0 - relevance - prediction', '2 - Governance & policies - prediction',\n",
       "       'mit/ad', '1 - Mitigation - prediction', '1 - Adaptation - prediction',\n",
       "       '3 - Economic instruments - prediction',\n",
       "       '3 - Goal setting - prediction',\n",
       "       '3 - Information policies - prediction',\n",
       "       '3 - International policies - prediction',\n",
       "       '3 - Planning and public provisioning/services - prediction',\n",
       "       '3 - Regulatory instruments - prediction',\n",
       "       '3 - Voluntary actions - prediction'],\n",
       "      dtype='object')"
      ]
     },
     "execution_count": 64,
     "metadata": {},
     "output_type": "execute_result"
    }
   ],
   "source": [
    "df.columns"
   ]
  },
  {
   "cell_type": "code",
   "execution_count": 66,
   "metadata": {},
   "outputs": [],
   "source": [
    "predictions = [c for c in df.columns if \"- prediction\" in c]\n",
    "for c in predictions:\n",
    "    rating = c.replace(' - prediction','')\n",
    "    if \"0 \" in rating:\n",
    "        rating = \"relevant\"\n",
    "    df.loc[df[rating]==1,c] = 1"
   ]
  },
  {
   "cell_type": "code",
   "execution_count": 68,
   "metadata": {},
   "outputs": [
    {
     "name": "stdout",
     "output_type": "stream",
     "text": [
      "1068\n"
     ]
    },
    {
     "data": {
      "text/plain": [
       "<matplotlib.legend.Legend at 0x7fd7963be518>"
      ]
     },
     "execution_count": 68,
     "metadata": {},
     "output_type": "execute_result"
    },
    {
     "data": {
      "image/png": "[encoded data removed]",
      "text/plain": [
       "<Figure size 1050x600 with 1 Axes>"
      ]
     },
     "metadata": {},
     "output_type": "display_data"
    }
   ],
   "source": [
    "fig, ax = plt.subplots(dpi=150, figsize=(7,4))\n",
    "df['mit/ad'] = df['1 - Mitigation - prediction'] + df['1 - Adaptation - prediction']\n",
    "mitigation = df.loc[df['0 - relevance - prediction']>0.5,'1 - Mitigation - prediction'].sum()\n",
    "adaptation = df.loc[df['0 - relevance - prediction']>0.5,'1 - Adaptation - prediction'].sum()\n",
    "overlap = df.loc[df['mit/ad']==2,].shape[0]\n",
    "nonmitad = df.loc[(df['0 - relevance - prediction']>0.5) & (df['mit/ad']==0),].shape[0]\n",
    "\n",
    "print(overlap)\n",
    "\n",
    "lw = 2\n",
    "alpha=0.4\n",
    "ec = \"grey\"\n",
    "\n",
    "ax.bar(\n",
    "    0,mitigation,\n",
    "    alpha=alpha, label=\"Mitigation\",\n",
    "    lw=lw, edgecolor=ec\n",
    ")\n",
    "ax.bar(\n",
    "    0,adaptation,bottom=mitigation-overlap,\n",
    "    alpha=alpha, label=\"Adaptation\",\n",
    "    lw=lw, edgecolor=ec\n",
    ")\n",
    "ax.bar(\n",
    "    0,nonmitad,bottom=mitigation-overlap+adaptation,\n",
    "    alpha=alpha, label=\"Non Mitigation/Adaptation\",\n",
    "    lw=lw, edgecolor=ec\n",
    ")\n",
    "\n",
    "ax.set_xticks([])\n",
    "\n",
    "ax.legend()\n"
   ]
  },
  {
   "cell_type": "code",
   "execution_count": 71,
   "metadata": {},
   "outputs": [
    {
     "data": {
      "text/plain": [
       "array([1992., 2018., 2000., 1997., 2009., 2017., 2011., 2012., 2015.,\n",
       "       2014., 2006., 2008., 2005., 2016., 2003., 2013., 1991., 2001.,\n",
       "       2007., 1996., 2010., 2004., 2002., 1999., 1993., 1994., 1998.,\n",
       "       1995., 1990., 1988., 1989., 1986., 1978., 1987., 2019., 1980.,\n",
       "          0., 1960., 1985., 1979.])"
      ]
     },
     "execution_count": 71,
     "metadata": {},
     "output_type": "execute_result"
    }
   ],
   "source": [
    "df['PY'].unique()"
   ]
  },
  {
   "cell_type": "code",
   "execution_count": 73,
   "metadata": {},
   "outputs": [
    {
     "data": {
      "text/plain": [
       "<matplotlib.legend.Legend at 0x7fd789e8ce48>"
      ]
     },
     "execution_count": 73,
     "metadata": {},
     "output_type": "execute_result"
    },
    {
     "data": {
      "image/png": "[encoded data removed]",
      "text/plain": [
       "<Figure size 1050x600 with 1 Axes>"
      ]
     },
     "metadata": {},
     "output_type": "display_data"
    }
   ],
   "source": [
    "fig, ax = plt.subplots(dpi=150, figsize=(7,4))\n",
    "\n",
    "labels = []\n",
    "\n",
    "for y, group in df.groupby('PY'):\n",
    "    if y < 1985:\n",
    "        continue\n",
    "    mitigation = group.loc[group['0 - relevance - prediction']>0.5,'1 - Mitigation - prediction'].sum()\n",
    "    adaptation = group.loc[group['0 - relevance - prediction']>0.5,'1 - Adaptation - prediction'].sum()\n",
    "    overlap = group.loc[group['mit/ad']==2,].shape[0]\n",
    "    nonmitad = group.loc[(group['0 - relevance - prediction']>0.5) & (df['mit/ad']==0),].shape[0]\n",
    "\n",
    "\n",
    "    lw = 2\n",
    "    alpha=0.4\n",
    "    ec = \"grey\"\n",
    "    \n",
    "    if len(labels)==0:\n",
    "        labels = [\"Mitigation\", \"Adaptation\", \"Non Mitigation/Adaptation\"]\n",
    "    else:\n",
    "        labels = [None, None, None]\n",
    "\n",
    "    ax.bar(\n",
    "        y,mitigation,\n",
    "        alpha=alpha, label=labels[0],\n",
    "        lw=lw, edgecolor=ec, color=\"C0\"\n",
    "    )\n",
    "    ax.bar(\n",
    "        y,adaptation,bottom=mitigation-overlap,\n",
    "        alpha=alpha, label=labels[1],\n",
    "        lw=lw, edgecolor=ec, color=\"C1\"\n",
    "    )\n",
    "    ax.bar(\n",
    "        y,nonmitad,bottom=mitigation-overlap+adaptation,\n",
    "        alpha=alpha, label=labels[2],\n",
    "        lw=lw, edgecolor=ec, color=\"C2\"\n",
    "    )\n",
    "\n",
    "    ax.set_xticks([])\n",
    "\n",
    "ax.legend()"
   ]
  },
  {
   "cell_type": "markdown",
   "metadata": {},
   "source": [
    "# Now just those predicted to be about gov+pol"
   ]
  },
  {
   "cell_type": "code",
   "execution_count": 75,
   "metadata": {},
   "outputs": [
    {
     "data": {
      "text/plain": [
       "<matplotlib.legend.Legend at 0x7fd789db9fd0>"
      ]
     },
     "execution_count": 75,
     "metadata": {},
     "output_type": "execute_result"
    },
    {
     "data": {
      "image/png": "[encoded data removed]",
      "text/plain": [
       "<Figure size 1050x600 with 1 Axes>"
      ]
     },
     "metadata": {},
     "output_type": "display_data"
    }
   ],
   "source": [
    "fig, ax = plt.subplots(dpi=150, figsize=(7,4))\n",
    "\n",
    "labels = []\n",
    "\n",
    "for y, group in df[df['2 - Governance & policies - prediction']>=0.5].groupby('PY'):\n",
    "    if y < 1985:\n",
    "        continue\n",
    "    mitigation = group.loc[group['0 - relevance - prediction']>0.5,'1 - Mitigation - prediction'].sum()\n",
    "    adaptation = group.loc[group['0 - relevance - prediction']>0.5,'1 - Adaptation - prediction'].sum()\n",
    "    overlap = group.loc[group['mit/ad']==2,].shape[0]\n",
    "    nonmitad = group.loc[(group['0 - relevance - prediction']>0.5) & (df['mit/ad']==0),].shape[0]\n",
    "\n",
    "\n",
    "    lw = 2\n",
    "    alpha=0.4\n",
    "    ec = \"grey\"\n",
    "    \n",
    "    if len(labels)==0:\n",
    "        labels = [\"Mitigation\", \"Adaptation\", \"Non Mitigation/Adaptation\"]\n",
    "    else:\n",
    "        labels = [None, None, None]\n",
    "\n",
    "    ax.bar(\n",
    "        y,mitigation,\n",
    "        alpha=alpha, label=labels[0],\n",
    "        lw=lw, edgecolor=ec, color=\"C0\"\n",
    "    )\n",
    "    ax.bar(\n",
    "        y,adaptation,bottom=mitigation-overlap,\n",
    "        alpha=alpha, label=labels[1],\n",
    "        lw=lw, edgecolor=ec, color=\"C1\"\n",
    "    )\n",
    "    ax.bar(\n",
    "        y,nonmitad,bottom=mitigation-overlap+adaptation,\n",
    "        alpha=alpha, label=labels[2],\n",
    "        lw=lw, edgecolor=ec, color=\"C2\"\n",
    "    )\n",
    "\n",
    "    ax.set_xticks([])\n",
    "\n",
    "ax.legend()"
   ]
  },
  {
   "cell_type": "code",
   "execution_count": 77,
   "metadata": {},
   "outputs": [
    {
     "name": "stdout",
     "output_type": "stream",
     "text": [
      "mitigation adaptation policy False\n",
      "(114841, 66)\n",
      "114841\n"
     ]
    }
   ],
   "source": [
    "setup_query = True\n",
    "if setup_query:\n",
    "    p = Project.objects.get(pk=217)\n",
    "    q, created = Query.objects.get_or_create(\n",
    "        project=p,\n",
    "        creator=User.objects.get(pk=1),\n",
    "        title=\"mitigation adaptation policy\"\n",
    "    )\n",
    "    print(q, created)\n",
    "    \n",
    "    q.doc_set.clear()\n",
    "    \n",
    "    qdf = df[\n",
    "        (df['0 - relevance - prediction']>0.5) & \n",
    "        (\n",
    "            (df['1 - Mitigation - prediction']>0.5) |\n",
    "            (df['1 - Adaptation - prediction']>0.5) |\n",
    "            (df['2 - Governance & policies - prediction']>0.5)\n",
    "        )\n",
    "    ]\n",
    "    \n",
    "    print(qdf.shape)\n",
    "    \n",
    "    T = Doc.query.through\n",
    "    dqs = [T(doc_id=did, query=q) for did in list(qdf['id'])]\n",
    "    T.objects.bulk_create(dqs)\n",
    "    q.r_count = q.doc_set.count()\n",
    "    q.save()\n",
    "    print(q.r_count)"
   ]
  },
  {
   "cell_type": "code",
   "execution_count": null,
   "metadata": {},
   "outputs": [],
   "source": []
  }
 ],
 "metadata": {
  "kernelspec": {
   "display_name": "tmv",
   "language": "python",
   "name": "tmv"
  },
  "language_info": {
   "codemirror_mode": {
    "name": "ipython",
    "version": 3
   },
   "file_extension": ".py",
   "mimetype": "text/x-python",
   "name": "python",
   "nbconvert_exporter": "python",
   "pygments_lexer": "ipython3",
   "version": "3.6.7"
  },
  "varInspector": {
   "cols": {
    "lenName": 16,
    "lenType": 16,
    "lenVar": 40
   },
   "kernels_config": {
    "python": {
     "delete_cmd_postfix": "",
     "delete_cmd_prefix": "del ",
     "library": "var_list.py",
     "varRefreshCmd": "print(var_dic_list())"
    },
    "r": {
     "delete_cmd_postfix": ") ",
     "delete_cmd_prefix": "rm(",
     "library": "var_list.r",
     "varRefreshCmd": "cat(var_dic_list()) "
    }
   },
   "types_to_exclude": [
    "module",
    "function",
    "builtin_function_or_method",
    "instance",
    "_Feature"
   ],
   "window_display": false
  }
 },
 "nbformat": 4,
 "nbformat_minor": 2
}
