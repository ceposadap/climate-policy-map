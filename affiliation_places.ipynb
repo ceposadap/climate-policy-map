{
 "cells": [
  {
   "cell_type": "code",
   "execution_count": 3,
   "metadata": {},
   "outputs": [],
   "source": [
    "import networkx as nx\n",
    "import pickle\n",
    "import random\n",
    "import scipy\n",
    "from scipy.sparse import tril, find\n",
    "import django\n",
    "import sys, os\n",
    "import pandas as pd\n",
    "import matplotlib.pyplot as plt\n",
    "import igraph\n",
    "from django.core.management import call_command\n",
    "\n",
    "sys.path.append('/home/galm/software/django/tmv/BasicBrowser/')\n",
    "os.environ.setdefault(\"DJANGO_SETTINGS_MODULE\", \"BasicBrowser.settings\")\n",
    "django.setup()\n",
    "\n",
    "from scoping.models import *\n",
    "from cities.models import *\n"
   ]
  },
  {
   "cell_type": "code",
   "execution_count": 9,
   "metadata": {},
   "outputs": [
    {
     "name": "stdout",
     "output_type": "stream",
     "text": [
      " * Univ Virginia, Dept Civil & Environm Engn, *, *, *.\n"
     ]
    },
    {
     "data": {
      "text/html": [
       "<div>\n",
       "<style scoped>\n",
       "    .dataframe tbody tr th:only-of-type {\n",
       "        vertical-align: middle;\n",
       "    }\n",
       "\n",
       "    .dataframe tbody tr th {\n",
       "        vertical-align: top;\n",
       "    }\n",
       "\n",
       "    .dataframe thead th {\n",
       "        text-align: right;\n",
       "    }\n",
       "</style>\n",
       "<table border=\"1\" class=\"dataframe\">\n",
       "  <thead>\n",
       "    <tr style=\"text-align: right;\">\n",
       "      <th></th>\n",
       "      <th>continent</th>\n",
       "      <th>country</th>\n",
       "      <th>fai</th>\n",
       "      <th>id</th>\n",
       "    </tr>\n",
       "  </thead>\n",
       "  <tbody>\n",
       "    <tr>\n",
       "      <th>0</th>\n",
       "      <td>Europe</td>\n",
       "      <td>United Kingdom</td>\n",
       "      <td>Liverpool John Moores Univ, Res Ctr Evolutionary Anthropol &amp; Palaeoecol, Sch Nat Sci &amp; Psychol, Liverpool L3 3AF, Merseyside, England.</td>\n",
       "      <td>1095</td>\n",
       "    </tr>\n",
       "    <tr>\n",
       "      <th>1</th>\n",
       "      <td>Europe</td>\n",
       "      <td>Austria</td>\n",
       "      <td>Leopold Franzens Univ Innsbruck, Inst Bot, A-6020 Innsbruck, Austria.</td>\n",
       "      <td>1133</td>\n",
       "    </tr>\n",
       "    <tr>\n",
       "      <th>2</th>\n",
       "      <td>North America</td>\n",
       "      <td>United States</td>\n",
       "      <td>Arizona State Univ, Sch Sustainabil, Tempe, AZ 85287 USA.</td>\n",
       "      <td>1135</td>\n",
       "    </tr>\n",
       "    <tr>\n",
       "      <th>3</th>\n",
       "      <td>North America</td>\n",
       "      <td>United States</td>\n",
       "      <td>Columbia Univ, Dept Econ, 1022 Int Affairs Bldg,MC 3308,420 West 118th St, New York, NY 10027 USA.</td>\n",
       "      <td>1152</td>\n",
       "    </tr>\n",
       "    <tr>\n",
       "      <th>4</th>\n",
       "      <td>Europe</td>\n",
       "      <td>Poland</td>\n",
       "      <td>Panstwowy Inst Badawczy, Inst Ochrony Srodowiska, Warsaw, Poland.</td>\n",
       "      <td>1164</td>\n",
       "    </tr>\n",
       "  </tbody>\n",
       "</table>\n",
       "</div>"
      ],
      "text/plain": [
       "       continent         country  \\\n",
       "0  Europe         United Kingdom   \n",
       "1  Europe         Austria          \n",
       "2  North America  United States    \n",
       "3  North America  United States    \n",
       "4  Europe         Poland           \n",
       "\n",
       "                                                                                                                                      fai  \\\n",
       "0  Liverpool John Moores Univ, Res Ctr Evolutionary Anthropol & Palaeoecol, Sch Nat Sci & Psychol, Liverpool L3 3AF, Merseyside, England.   \n",
       "1  Leopold Franzens Univ Innsbruck, Inst Bot, A-6020 Innsbruck, Austria.                                                                    \n",
       "2  Arizona State Univ, Sch Sustainabil, Tempe, AZ 85287 USA.                                                                                \n",
       "3  Columbia Univ, Dept Econ, 1022 Int Affairs Bldg,MC 3308,420 West 118th St, New York, NY 10027 USA.                                       \n",
       "4  Panstwowy Inst Badawczy, Inst Ochrony Srodowiska, Warsaw, Poland.                                                                        \n",
       "\n",
       "     id  \n",
       "0  1095  \n",
       "1  1133  \n",
       "2  1135  \n",
       "3  1152  \n",
       "4  1164  "
      ]
     },
     "execution_count": 9,
     "metadata": {},
     "output_type": "execute_result"
    }
   ],
   "source": [
    "q = Query.objects.get(pk=7965)\n",
    "\n",
    "pd.set_option('display.max_colwidth', -1)\n",
    "dis = []\n",
    "pat = \"[a-z|A-Z]{2} [0-9]{5}\"\n",
    "for d in q.doc_set.all():\n",
    "    if d.docauthinst_set.exists():\n",
    "        fai = d.docauthinst_set.order_by('position').first().institution\n",
    "        if fai==\"\" or fai==[\"\"] or fai==\"['']\":\n",
    "            continue\n",
    "        cstring = fai.split(',')[-1]\n",
    "        country = None\n",
    "        cstring = cstring.replace('.','')\n",
    "        if \"USA\" in cstring:\n",
    "            country = Country.objects.get(name=\"United States\")\n",
    "        if country is None:\n",
    "            if \"Trinid & Tobago\" in cstring:\n",
    "                country = Country.objects.get(name=\"Trinidad and Tobago\")\n",
    "        if country is None:\n",
    "            for ukc in [\"england\",\"scotland\",\"wales\",\"northern Ireland\"]:\n",
    "                if ukc in cstring.lower():\n",
    "                    country = Country.objects.get(name=\"United Kingdom\") \n",
    "                    \n",
    "        if country is None:\n",
    "            if \"DEM REP CONGO\" in cstring:\n",
    "                country = Country.objects.get(name__icontains=\"Democratic Republic of the Congo\")\n",
    "            if \"Cote Ivoire\" in cstring:\n",
    "                country = Country.objects.get(name__icontains=\"Ivory Coast\")\n",
    "            if \"Papua New\".lower() in cstring.lower():\n",
    "                country = Country.objects.get(name=\"Papua New Guinea\")\n",
    "            if \"Fr Polynesia\".lower() in cstring.lower():\n",
    "                country = Country.objects.get(name=\"French Polynesia\")\n",
    "            if \"Byelarus\".lower() in cstring.lower():\n",
    "                country = Country.objects.get(name=\"Belarus\")\n",
    "            if \"Rom~nia\" in cstring:\n",
    "                country = Country.objects.get(name=\"Romania\")\n",
    "            if \"Neth Antilles\" in cstring:\n",
    "                country = Country.objects.get(name=\"Netherlands Antilles\")\n",
    "            if \"St Kitts & Nevi\".lower() in cstring.lower():\n",
    "                country = Country.objects.get(name=\"Saint Kitts and Nevis\")\n",
    "            if \"Saint Vincent\".lower() in cstring.lower():\n",
    "                country = Country.objects.get(name=\"Saint Vincent and the Grenadines\")\n",
    "            if \"Cent Afr Republ\".lower() in cstring.lower():\n",
    "                country = Country.objects.get(name=\"Central African Republic\")\n",
    "            if \"Marshall Isl\".lower() in cstring.lower():\n",
    "                country = Country.objects.get(name=\"Marshall Islands\")\n",
    "            if \"Falkland Isl\".lower() in cstring.lower():\n",
    "                country = Country.objects.get(name=\"Falkland Islands\")\n",
    "            if \"Turks and Caicos\".lower() in cstring.lower() or \"Turks & Caicos\".lower() in cstring.lower():\n",
    "                country = Country.objects.get(name=\"Turks and Caicos Islands\")\n",
    "            if \"Barbados\".lower() in fai.lower(): # the last part is sometimes W Ind..\n",
    "                country = Country.objects.get(name=\"Barbados\")\n",
    "            if \"Antigua\".lower() in cstring.lower():\n",
    "                country = Country.objects.get(name=\"Antigua and Barbuda\")\n",
    "            if \"St Vincent\".lower() in cstring.lower():\n",
    "                country = Country.objects.get(name=\"Saint Vincent and the Grenadines\")\n",
    "                \n",
    "        if country is None:\n",
    "            if \"Mongol Peo Rep\".lower() in cstring.lower():\n",
    "                country = Country.objects.get(name=\"Mongolia\")\n",
    "\n",
    "        if country is None:\n",
    "            for c in Country.objects.all():\n",
    "                if c.name.lower() in cstring.lower() or c.name.lower() in cstring.replace('U ','United ').lower():\n",
    "                    country = c\n",
    "                    break\n",
    "        if country is None:\n",
    "            for c in Country.objects.all():\n",
    "                for alt in c.alt_names.all():\n",
    "                    if alt.name.lower() in cstring.lower():\n",
    "                        country = c\n",
    "                        break\n",
    "                        \n",
    "                        \n",
    "        if country is None:\n",
    "            if re.match(pat, cstring):\n",
    "                country = Country.objects.get(name=\"United States\")\n",
    "            if \"washington\" in fai.lower() or \"COLLINS,CO\".lower() in fai.lower() or \"CHAMPAIGN,IL\".lower()  in fai.lower() or \"OAKLAND,CA\".lower() in fai.lower():\n",
    "                country = Country.objects.get(name=\"United States\")\n",
    "            \n",
    "        if country is None:\n",
    "            print(cstring, fai)\n",
    "            continue\n",
    "                \n",
    "        dis.append({\"id\":d.id, \"fai\": fai,\"country\": country.name, \"continent\": country.continent.name})\n",
    "    else:\n",
    "        pass #print(d.title)\n",
    "df = pd.DataFrame.from_dict(dis)\n",
    "\n",
    "df.head()"
   ]
  },
  {
   "cell_type": "code",
   "execution_count": 11,
   "metadata": {},
   "outputs": [],
   "source": [
    "df.to_csv('data/affiliation_countries.csv',index=False)"
   ]
  },
  {
   "cell_type": "code",
   "execution_count": 12,
   "metadata": {},
   "outputs": [
    {
     "data": {
      "text/plain": [
       "(308309, 4)"
      ]
     },
     "execution_count": 12,
     "metadata": {},
     "output_type": "execute_result"
    }
   ],
   "source": [
    "df.shape"
   ]
  }
 ],
 "metadata": {
  "kernelspec": {
   "display_name": "tmv",
   "language": "python",
   "name": "tmv"
  },
  "language_info": {
   "codemirror_mode": {
    "name": "ipython",
    "version": 3
   },
   "file_extension": ".py",
   "mimetype": "text/x-python",
   "name": "python",
   "nbconvert_exporter": "python",
   "pygments_lexer": "ipython3",
   "version": "3.6.7"
  },
  "varInspector": {
   "cols": {
    "lenName": 16,
    "lenType": 16,
    "lenVar": 40
   },
   "kernels_config": {
    "python": {
     "delete_cmd_postfix": "",
     "delete_cmd_prefix": "del ",
     "library": "var_list.py",
     "varRefreshCmd": "print(var_dic_list())"
    },
    "r": {
     "delete_cmd_postfix": ") ",
     "delete_cmd_prefix": "rm(",
     "library": "var_list.r",
     "varRefreshCmd": "cat(var_dic_list()) "
    }
   },
   "types_to_exclude": [
    "module",
    "function",
    "builtin_function_or_method",
    "instance",
    "_Feature"
   ],
   "window_display": false
  }
 },
 "nbformat": 4,
 "nbformat_minor": 2
}
