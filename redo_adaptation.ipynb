{
 "cells": [
  {
   "cell_type": "code",
   "execution_count": 2,
   "metadata": {},
   "outputs": [],
   "source": [
    "import matplotlib.pyplot as plt\n",
    "import numpy as np\n",
    "import pandas as pd\n",
    "import sys, os, django\n",
    "import math\n",
    "from sklearn.model_selection import KFold\n",
    "\n",
    "\n",
    "from sklearn.manifold import TSNE\n",
    "from sklearn.svm import SVC, OneClassSVM\n",
    "from sklearn.multiclass import OneVsRestClassifier\n",
    "\n",
    "from sklearn.metrics import average_precision_score\n",
    "from sklearn.metrics import precision_recall_curve\n",
    "from sklearn.metrics import precision_score, recall_score\n",
    "\n",
    "from sklearn.decomposition import NMF\n",
    "from sklearn.naive_bayes import MultinomialNB\n",
    "from sklearn.linear_model import SGDClassifier\n",
    "\n",
    "from sklearn.feature_extraction.text import CountVectorizer, TfidfVectorizer\n",
    "from sklearn.model_selection import KFold\n",
    "from sklearn.neural_network import MLPClassifier\n",
    "from scipy.sparse import hstack\n",
    "\n",
    "sys.path.append('/home/galm/software/django/tmv/BasicBrowser/')\n",
    "os.environ.setdefault(\"DJANGO_SETTINGS_MODULE\", \"BasicBrowser.settings\")\n",
    "django.setup()\n",
    "\n",
    "from django.db.models import Q, F, Sum, Count, FloatField, Case, When, Value, Max\n",
    "from sklearn.manifold import TSNE\n",
    "from scoping.models import *\n",
    "from scoping.views import *\n",
    "\n",
    "\n",
    "import scoping.utils.learning_utils as lu\n",
    "import random\n",
    "\n",
    "\n",
    "double_figure = (7.2,7.2/8*5)\n",
    "plt.rc('font',size=7)\n",
    "plt.rc('axes',titlesize=7)\n",
    "plt.rc('axes',labelsize=7)\n",
    "plt.rc('xtick',labelsize=7)\n",
    "plt.rc('ytick',labelsize=7)\n",
    "plt.rc('legend',fontsize=7)\n",
    "plt.rc('figure',titlesize=7)\n",
    "\n",
    "\n",
    "now=datetime.datetime.now()"
   ]
  },
  {
   "cell_type": "code",
   "execution_count": 3,
   "metadata": {},
   "outputs": [
    {
     "name": "stdout",
     "output_type": "stream",
     "text": [
      "Adaptation Mitigation\n"
     ]
    }
   ],
   "source": [
    "p = Project.objects.get(pk=217)\n",
    "q = Query.objects.get(pk=7966)\n",
    "ad = Category.objects.get(name__icontains=\"adaptation\",project=p)\n",
    "mit = Category.objects.get(name__icontains=\"mitigation\", project=p)\n",
    "print(ad,mit)"
   ]
  },
  {
   "cell_type": "code",
   "execution_count": 4,
   "metadata": {},
   "outputs": [
    {
     "data": {
      "text/plain": [
       "<QuerySet [{'user__username': 'maowenxin2014@163.com', 'n': 19476}, {'user__username': 'minj', 'n': 185}]>"
      ]
     },
     "execution_count": 4,
     "metadata": {},
     "output_type": "execute_result"
    }
   ],
   "source": [
    "dos = DocOwnership.objects.filter(query__project=p).values('user__username').annotate(\n",
    "    n = Count('pk')\n",
    ")\n",
    "dos"
   ]
  },
  {
   "cell_type": "code",
   "execution_count": 5,
   "metadata": {},
   "outputs": [
    {
     "data": {
      "text/plain": [
       "<User: maowenxin2014@163.com>"
      ]
     },
     "execution_count": 5,
     "metadata": {},
     "output_type": "execute_result"
    }
   ],
   "source": [
    "user = User.objects.get(username__icontains=\"maowenxin2014\")\n",
    "user"
   ]
  },
  {
   "cell_type": "code",
   "execution_count": 6,
   "metadata": {},
   "outputs": [
    {
     "data": {
      "text/plain": [
       "1118"
      ]
     },
     "execution_count": 6,
     "metadata": {},
     "output_type": "execute_result"
    }
   ],
   "source": [
    "ducs = DocUserCat.objects.filter(\n",
    "    category=ad,\n",
    "    user=user\n",
    ")\n",
    "ducs.count()"
   ]
  },
  {
   "cell_type": "code",
   "execution_count": 14,
   "metadata": {},
   "outputs": [],
   "source": [
    "tag, created = Tag.objects.get_or_create(\n",
    "    query=q,\n",
    "    title=\"Adaptation recategorisation\",\n",
    "    text=\"[Manually created]\"\n",
    ")\n",
    "for d in ducs:\n",
    "    d.doc.tag.add(tag)\n",
    "    \n",
    "tag.update_tag()\n",
    "    "
   ]
  },
  {
   "cell_type": "code",
   "execution_count": 9,
   "metadata": {},
   "outputs": [
    {
     "data": {
      "text/plain": [
       "2369"
      ]
     },
     "execution_count": 9,
     "metadata": {},
     "output_type": "execute_result"
    }
   ],
   "source": [
    "mducs = DocUserCat.objects.filter(\n",
    "    category=mit,\n",
    "    user=user,\n",
    ").exclude(doc__in=ducs.values_list('doc__id',flat=True))\n",
    "mducs.count()"
   ]
  },
  {
   "cell_type": "code",
   "execution_count": 10,
   "metadata": {},
   "outputs": [],
   "source": [
    "tag, created = Tag.objects.get_or_create(\n",
    "    query=q,\n",
    "    title=\"Mitigation recategorisation\",\n",
    "    text=\"[Manually created]\"\n",
    ")\n",
    "\n",
    "for d in mducs:\n",
    "    \n",
    "    d.doc.tag.add(tag)\n",
    "    \n",
    "tag.update_tag()"
   ]
  },
  {
   "cell_type": "code",
   "execution_count": null,
   "metadata": {},
   "outputs": [],
   "source": []
  }
 ],
 "metadata": {
  "kernelspec": {
   "display_name": "tmv",
   "language": "python",
   "name": "tmv"
  },
  "language_info": {
   "codemirror_mode": {
    "name": "ipython",
    "version": 3
   },
   "file_extension": ".py",
   "mimetype": "text/x-python",
   "name": "python",
   "nbconvert_exporter": "python",
   "pygments_lexer": "ipython3",
   "version": "3.6.7"
  },
  "varInspector": {
   "cols": {
    "lenName": 16,
    "lenType": 16,
    "lenVar": 40
   },
   "kernels_config": {
    "python": {
     "delete_cmd_postfix": "",
     "delete_cmd_prefix": "del ",
     "library": "var_list.py",
     "varRefreshCmd": "print(var_dic_list())"
    },
    "r": {
     "delete_cmd_postfix": ") ",
     "delete_cmd_prefix": "rm(",
     "library": "var_list.r",
     "varRefreshCmd": "cat(var_dic_list()) "
    }
   },
   "types_to_exclude": [
    "module",
    "function",
    "builtin_function_or_method",
    "instance",
    "_Feature"
   ],
   "window_display": false
  }
 },
 "nbformat": 4,
 "nbformat_minor": 2
}
