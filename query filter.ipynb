{
 "cells": [
  {
   "cell_type": "code",
   "execution_count": 27,
   "metadata": {},
   "outputs": [],
   "source": [
    "import django\n",
    "import sys, os\n",
    "import re\n",
    "\n",
    "sys.path.append('/home/galm/software/django/tmv/BasicBrowser/')\n",
    "os.environ.setdefault(\"DJANGO_SETTINGS_MODULE\", \"BasicBrowser.settings\")\n",
    "django.setup()\n",
    "\n",
    "from scoping.models import *\n",
    "import random\n",
    "django.db.connections.close_all()"
   ]
  },
  {
   "cell_type": "code",
   "execution_count": 9,
   "metadata": {},
   "outputs": [
    {
     "data": {
      "text/plain": [
       "<Query: wos_core_fullsearch>"
      ]
     },
     "execution_count": 9,
     "metadata": {},
     "output_type": "execute_result"
    }
   ],
   "source": [
    "cq = Query.objects.get(pk=7949)\n",
    "cq"
   ]
  },
  {
   "cell_type": "code",
   "execution_count": 4,
   "metadata": {},
   "outputs": [],
   "source": [
    "p = Project.objects.get(pk=217)"
   ]
  },
  {
   "cell_type": "code",
   "execution_count": 10,
   "metadata": {},
   "outputs": [
    {
     "data": {
      "text/plain": [
       "<QuerySet [1946070, 1946068, 1946060, 1946058, 1946056, 1946051, 1946050, 1946044, 1946035, 1946031, 1946017, 1946007, 1945991, 1945974, 1945969, 1945944, 1945925, 1945910, 1945905, 1945892, '...(remaining elements truncated)...']>"
      ]
     },
     "execution_count": 10,
     "metadata": {},
     "output_type": "execute_result"
    }
   ],
   "source": [
    "cq.doc_set.values_list('pk',flat=True)"
   ]
  },
  {
   "cell_type": "code",
   "execution_count": 13,
   "metadata": {},
   "outputs": [
    {
     "name": "stdout",
     "output_type": "stream",
     "text": [
      "wos_core_fullsearch\n"
     ]
    }
   ],
   "source": [
    "try:\n",
    "    ncq = Query.objects.get(project=p, title=cq.title)\n",
    "    print(ncq)\n",
    "except:\n",
    "    ncq = cq\n",
    "    ncq.pk = None\n",
    "    ncq.project = p\n",
    "    ncq.save()\n",
    "    \n",
    "    dids = cq.doc_set.values_list('pk',flat=True)\n",
    "    \n",
    "    Through = Doc.query.through\n",
    "    dqs = [Through(doc_id=d,query=ncq) for d in dids]\n",
    "    Through.objects.bulk_create(dqs)\n",
    "    \n",
    "    ncq.r_count = ncq.doc_set.count()\n",
    "    ncq.save()"
   ]
  },
  {
   "cell_type": "code",
   "execution_count": 11,
   "metadata": {},
   "outputs": [],
   "source": [
    "ncq\n",
    "dids = cq.doc_set.values_list('pk',flat=True)\n",
    "\n",
    "Through = Doc.query.through\n",
    "dqs = [Through(doc_id=d,query=ncq) for d in dids]\n",
    "Through.objects.bulk_create(dqs)\n",
    "\n",
    "ncq.r_count = ncq.doc_set.count()\n",
    "ncq.save()"
   ]
  },
  {
   "cell_type": "code",
   "execution_count": null,
   "metadata": {},
   "outputs": [],
   "source": []
  },
  {
   "cell_type": "code",
   "execution_count": 14,
   "metadata": {},
   "outputs": [],
   "source": [
    "fq, created = Query.objects.get_or_create(\n",
    "    title=\"policy_filter_1\",\n",
    "    text=\"Manually created\",\n",
    "    creator=User.objects.get(username=\"maowenxin2014@163.com\"),\n",
    "    project=p\n",
    ")"
   ]
  },
  {
   "cell_type": "code",
   "execution_count": 17,
   "metadata": {},
   "outputs": [
    {
     "data": {
      "text/plain": [
       "'legislation|regulation|tax|emission\\\\w* trading|certificate|compensation|subsidy|polic\\\\w*|label\\\\w*|cap and trade|standard|agreement|litigation|NDC|nationally determined contribution|REDD|directive|incentive|building codes|scheme|perfomance|programme|instruments|allowance|certificate|memorandum|tarriff'"
      ]
     },
     "execution_count": 17,
     "metadata": {},
     "output_type": "execute_result"
    }
   ],
   "source": [
    "s = 'legislation OR regulation OR tax OR emission* trading OR certificate OR compensation OR subsidy OR polic* OR label* OR cap and trade OR standard OR agreement OR litigation OR NDC OR nationally determined contribution OR REDD OR directive OR incentive OR building codes OR scheme OR perfomance OR programme OR instruments OR allowance OR certificate OR memorandum OR tarriff'\n",
    "pat = \"|\".join(s.replace('*','\\w*').split(' OR '))\n",
    "pat"
   ]
  },
  {
   "cell_type": "code",
   "execution_count": 18,
   "metadata": {},
   "outputs": [
    {
     "data": {
      "text/plain": [
       "94944"
      ]
     },
     "execution_count": 18,
     "metadata": {},
     "output_type": "execute_result"
    }
   ],
   "source": [
    "dids = set([])\n",
    "for field in [\"content\",\"wosarticle__de\",\"title\"]:\n",
    "    filtered_docs = ncq.doc_set.filter(content__iregex=pat)\n",
    "    dids = dids | set(filtered_docs.values_list('pk',flat=True))\n",
    "len(dids)"
   ]
  },
  {
   "cell_type": "code",
   "execution_count": 21,
   "metadata": {},
   "outputs": [],
   "source": [
    "Through = Doc.query.through\n",
    "dqs = [Through(doc_id=d,query=fq) for d in dids]\n",
    "Through.objects.bulk_create(dqs)\n",
    "\n",
    "fq.r_count = fq.doc_set.count()\n",
    "fq.save()"
   ]
  },
  {
   "cell_type": "code",
   "execution_count": 29,
   "metadata": {},
   "outputs": [],
   "source": [
    "tag, created = Tag.objects.get_or_create(\n",
    "    query=fq,\n",
    "    title=\"Sample 1\",\n",
    "    text=\"Manually Created\",\n",
    ")\n",
    "\n",
    "tag.doc_set.clear()\n",
    "\n",
    "Through = Doc.tag.through\n",
    "tds = [Through(doc_id=d,tag=tag) for d in random.sample(dids,1000)]\n",
    "Through.objects.bulk_create(tds)\n",
    "\n",
    "tag.update_tag()\n"
   ]
  },
  {
   "cell_type": "code",
   "execution_count": null,
   "metadata": {},
   "outputs": [],
   "source": []
  },
  {
   "cell_type": "code",
   "execution_count": null,
   "metadata": {},
   "outputs": [],
   "source": []
  },
  {
   "cell_type": "code",
   "execution_count": null,
   "metadata": {},
   "outputs": [],
   "source": []
  },
  {
   "cell_type": "code",
   "execution_count": null,
   "metadata": {},
   "outputs": [],
   "source": []
  },
  {
   "cell_type": "code",
   "execution_count": null,
   "metadata": {},
   "outputs": [],
   "source": []
  },
  {
   "cell_type": "code",
   "execution_count": null,
   "metadata": {},
   "outputs": [],
   "source": [
    "fq, created = Query.objects.get_or_create(\n",
    "    title=\"lesnikowski_2\",\n",
    "    text=\"Manually created\",\n",
    "    creator=User.objects.get(last_name=\"Sietsma\"),\n",
    "    project=q.project\n",
    ")"
   ]
  },
  {
   "cell_type": "code",
   "execution_count": null,
   "metadata": {},
   "outputs": [],
   "source": [
    "s = 'adapt*, resilien*, vulnerab*'\n",
    "pat = \"|\".join(s.replace('*','\\w*').split(', '))"
   ]
  },
  {
   "cell_type": "code",
   "execution_count": null,
   "metadata": {},
   "outputs": [],
   "source": [
    "dids = set([])\n",
    "for field in [\"content\",\"wosarticle__de\",\"title\"]:\n",
    "    filtered_docs = q.doc_set.filter(content__iregex=pat)\n",
    "    dids = dids | set(filtered_docs.values_list('pk',flat=True))\n",
    "len(dids)"
   ]
  },
  {
   "cell_type": "code",
   "execution_count": null,
   "metadata": {},
   "outputs": [],
   "source": [
    "Through = Doc.query.through\n",
    "dqs = [Through(doc_id=d,query=fq) for d in dids]\n",
    "Through.objects.bulk_create(dqs)\n",
    "\n",
    "fq.r_count = fq.doc_set.count()\n",
    "fq.save()"
   ]
  },
  {
   "cell_type": "code",
   "execution_count": null,
   "metadata": {},
   "outputs": [],
   "source": []
  },
  {
   "cell_type": "code",
   "execution_count": null,
   "metadata": {},
   "outputs": [],
   "source": [
    "s = 'adapt*, risk*, protect*, vulnerab*, emergenc*, security, resilien*, recover*, prevent*, hazard*, prepar*, disaster*, impact*, coping, cope, catastroph*, threat, agriculture*, water manag*, drought*, flood*'\n",
    "pat = \"|\".join(s.replace('*','\\w*').split(', '))\n",
    "dids = set([])\n",
    "for field in [\"content\",\"wosarticle__de\",\"title\"]:\n",
    "    filtered_docs = q.doc_set.filter(content__iregex=pat)\n",
    "    dids = dids | set(filtered_docs.values_list('pk',flat=True))\n",
    "len(dids)"
   ]
  },
  {
   "cell_type": "code",
   "execution_count": null,
   "metadata": {},
   "outputs": [],
   "source": [
    "fq, created = Query.objects.get_or_create(\n",
    "    title=\"lesnikowski_3\",\n",
    "    text=\"Manually created\",\n",
    "    creator=User.objects.get(last_name=\"Sietsma\"),\n",
    "    project=q.project\n",
    ")\n"
   ]
  },
  {
   "cell_type": "code",
   "execution_count": null,
   "metadata": {},
   "outputs": [],
   "source": [
    "Through = Doc.query.through\n",
    "dqs = [Through(doc_id=d,query=fq) for d in dids]\n",
    "Through.objects.bulk_create(dqs)\n",
    "\n",
    "fq.r_count = fq.doc_set.count()\n",
    "fq.save()"
   ]
  },
  {
   "cell_type": "code",
   "execution_count": null,
   "metadata": {},
   "outputs": [],
   "source": []
  },
  {
   "cell_type": "code",
   "execution_count": null,
   "metadata": {},
   "outputs": [],
   "source": [
    "s = 'adapt*, risk*, protect*, vulnerab*, emergenc*, security, resilien*, recover*, prevent*, hazard*, prepar*, disaster*, impact*, coping, cope, catastroph*, threat'\n",
    "pat = \"|\".join(s.replace('*','\\w*').split(', '))\n",
    "dids = set([])\n",
    "for field in [\"content\",\"wosarticle__de\",\"title\"]:\n",
    "    filtered_docs = q.doc_set.filter(content__iregex=pat)\n",
    "    dids = dids | set(filtered_docs.values_list('pk',flat=True))\n",
    "len(dids)\n"
   ]
  },
  {
   "cell_type": "code",
   "execution_count": null,
   "metadata": {},
   "outputs": [],
   "source": [
    "fq, created = Query.objects.get_or_create(\n",
    "    title=\"lesnikowski_4\",\n",
    "    text=\"Manually created\",\n",
    "    creator=User.objects.get(last_name=\"Sietsma\"),\n",
    "    project=q.project\n",
    ")\n"
   ]
  },
  {
   "cell_type": "code",
   "execution_count": null,
   "metadata": {},
   "outputs": [],
   "source": [
    "Through = Doc.query.through\n",
    "dqs = [Through(doc_id=d,query=fq) for d in dids]\n",
    "Through.objects.bulk_create(dqs)\n",
    "\n",
    "fq.r_count = fq.doc_set.count()\n",
    "fq.save()"
   ]
  },
  {
   "cell_type": "code",
   "execution_count": null,
   "metadata": {},
   "outputs": [],
   "source": []
  }
 ],
 "metadata": {
  "kernelspec": {
   "display_name": "tmv",
   "language": "python",
   "name": "tmv"
  },
  "language_info": {
   "codemirror_mode": {
    "name": "ipython",
    "version": 3
   },
   "file_extension": ".py",
   "mimetype": "text/x-python",
   "name": "python",
   "nbconvert_exporter": "python",
   "pygments_lexer": "ipython3",
   "version": "3.6.7"
  },
  "varInspector": {
   "cols": {
    "lenName": 16,
    "lenType": 16,
    "lenVar": 40
   },
   "kernels_config": {
    "python": {
     "delete_cmd_postfix": "",
     "delete_cmd_prefix": "del ",
     "library": "var_list.py",
     "varRefreshCmd": "print(var_dic_list())"
    },
    "r": {
     "delete_cmd_postfix": ") ",
     "delete_cmd_prefix": "rm(",
     "library": "var_list.r",
     "varRefreshCmd": "cat(var_dic_list()) "
    }
   },
   "types_to_exclude": [
    "module",
    "function",
    "builtin_function_or_method",
    "instance",
    "_Feature"
   ],
   "window_display": false
  }
 },
 "nbformat": 4,
 "nbformat_minor": 2
}
