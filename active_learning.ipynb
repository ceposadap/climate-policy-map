{
 "cells": [
  {
   "cell_type": "code",
   "execution_count": 1,
   "metadata": {},
   "outputs": [
    {
     "name": "stderr",
     "output_type": "stream",
     "text": [
      "/home/galm/software/django/tmv/venv/lib/python3.6/site-packages/sklearn/utils/deprecation.py:143: FutureWarning: The sklearn.decomposition.nmf module is  deprecated in version 0.22 and will be removed in version 0.24. The corresponding classes / functions should instead be imported from sklearn.decomposition. Anything that cannot be imported from sklearn.decomposition is now part of the private API.\n",
      "  warnings.warn(message, FutureWarning)\n"
     ]
    }
   ],
   "source": [
    "import matplotlib.pyplot as plt\n",
    "import numpy as np\n",
    "import pandas as pd\n",
    "import sys, os, django\n",
    "import math\n",
    "from sklearn.model_selection import KFold\n",
    "\n",
    "\n",
    "from sklearn.manifold import TSNE\n",
    "from sklearn.svm import SVC, OneClassSVM\n",
    "from sklearn.multiclass import OneVsRestClassifier\n",
    "\n",
    "from sklearn.metrics import average_precision_score\n",
    "from sklearn.metrics import precision_recall_curve\n",
    "from sklearn.metrics import precision_score, recall_score\n",
    "\n",
    "from sklearn.decomposition import NMF\n",
    "from sklearn.naive_bayes import MultinomialNB\n",
    "from sklearn.linear_model import SGDClassifier\n",
    "\n",
    "from sklearn.feature_extraction.text import CountVectorizer, TfidfVectorizer\n",
    "from sklearn.model_selection import KFold\n",
    "from sklearn.neural_network import MLPClassifier\n",
    "from scipy.sparse import hstack\n",
    "\n",
    "sys.path.append('/home/galm/software/django/tmv/BasicBrowser/')\n",
    "os.environ.setdefault(\"DJANGO_SETTINGS_MODULE\", \"BasicBrowser.settings\")\n",
    "django.setup()\n",
    "\n",
    "from django.db.models import Q, F, Sum, Count, FloatField, Case, When, Value, Max\n",
    "from sklearn.manifold import TSNE\n",
    "from scoping.models import *\n",
    "from scoping.views import *\n",
    "\n",
    "\n",
    "import scoping.utils.learning_utils as lu\n",
    "import random\n",
    "import scipy.stats as st\n",
    "\n",
    "\n",
    "double_figure = (7.2,7.2/8*5)\n",
    "plt.rc('font',size=7)\n",
    "plt.rc('axes',titlesize=7)\n",
    "plt.rc('axes',labelsize=7)\n",
    "plt.rc('xtick',labelsize=7)\n",
    "plt.rc('ytick',labelsize=7)\n",
    "plt.rc('legend',fontsize=7)\n",
    "plt.rc('figure',titlesize=7)\n",
    "\n",
    "\n",
    "now=datetime.datetime.now()"
   ]
  },
  {
   "cell_type": "code",
   "execution_count": null,
   "metadata": {},
   "outputs": [],
   "source": []
  },
  {
   "cell_type": "markdown",
   "metadata": {},
   "source": [
    "## First we say what query and project we are interested in"
   ]
  },
  {
   "cell_type": "code",
   "execution_count": 2,
   "metadata": {},
   "outputs": [
    {
     "name": "stdout",
     "output_type": "stream",
     "text": [
      "407957\n"
     ]
    },
    {
     "data": {
      "text/plain": [
       "407957"
      ]
     },
     "execution_count": 2,
     "metadata": {},
     "output_type": "execute_result"
    }
   ],
   "source": [
    "pid = 217\n",
    "qid = 7966\n",
    "qid = 7965\n",
    "qids = [7965,7966]\n",
    "q = Query.objects.get(pk=qid)\n",
    "p = Project.objects.get(pk=pid)\n",
    "\n",
    "print(q.doc_set.count())\n",
    "q.r_count"
   ]
  },
  {
   "cell_type": "markdown",
   "metadata": {},
   "source": [
    "## Get a full list of ratings"
   ]
  },
  {
   "cell_type": "code",
   "execution_count": 3,
   "metadata": {},
   "outputs": [
    {
     "name": "stdout",
     "output_type": "stream",
     "text": [
      "8898\n"
     ]
    }
   ],
   "source": [
    "cat_refs = {}\n",
    "annotations = {}\n",
    "for c in Category.objects.filter(project=p).order_by('level','name'):\n",
    "    if \"<hidden>\" in c.name:\n",
    "        continue\n",
    "    cat_refs[c.name] = DocUserCat.objects.filter(\n",
    "        doc = OuterRef('doc__pk'),\n",
    "        user = OuterRef('user__pk'),\n",
    "        category=c\n",
    "    )\n",
    "    annotations[c.name] = Exists(cat_refs[c.name])\n",
    "    \n",
    "dos = DocOwnership.objects.filter(\n",
    "    tag__query__in=qids, relevant__gt=0\n",
    ").annotate(**annotations)\n",
    "\n",
    "print(dos.count())\n",
    "\n",
    "cols = ['doc__id','doc__title','doc__content','user__username','tag__title','relevant'] + list(annotations.keys())\n",
    "df = pd.DataFrame.from_dict(dos.values(*cols))[cols].sort_values('doc__id').reset_index(drop=True)*1\n",
    "df.to_csv('data/doc_ratings.csv',index=False)"
   ]
  },
  {
   "cell_type": "code",
   "execution_count": 5,
   "metadata": {},
   "outputs": [
    {
     "data": {
      "text/html": [
       "<div>\n",
       "<style scoped>\n",
       "    .dataframe tbody tr th:only-of-type {\n",
       "        vertical-align: middle;\n",
       "    }\n",
       "\n",
       "    .dataframe tbody tr th {\n",
       "        vertical-align: top;\n",
       "    }\n",
       "\n",
       "    .dataframe thead th {\n",
       "        text-align: right;\n",
       "    }\n",
       "</style>\n",
       "<table border=\"1\" class=\"dataframe\">\n",
       "  <thead>\n",
       "    <tr style=\"text-align: right;\">\n",
       "      <th></th>\n",
       "      <th>id</th>\n",
       "      <th>doc__id</th>\n",
       "      <th>doc__title</th>\n",
       "      <th>doc__content</th>\n",
       "      <th>user__username</th>\n",
       "      <th>tag__title</th>\n",
       "      <th>relevant</th>\n",
       "    </tr>\n",
       "  </thead>\n",
       "  <tbody>\n",
       "    <tr>\n",
       "      <th>0</th>\n",
       "      <td>1209686</td>\n",
       "      <td>305</td>\n",
       "      <td>Impact of the Combination of Land Use Activiti...</td>\n",
       "      <td>A study to assess the combined effects of land...</td>\n",
       "      <td>maowenxin2014@163.com</td>\n",
       "      <td>Adaptation recategorisation</td>\n",
       "      <td>1</td>\n",
       "    </tr>\n",
       "    <tr>\n",
       "      <th>1</th>\n",
       "      <td>812599</td>\n",
       "      <td>305</td>\n",
       "      <td>Impact of the Combination of Land Use Activiti...</td>\n",
       "      <td>A study to assess the combined effects of land...</td>\n",
       "      <td>maowenxin2014@163.com</td>\n",
       "      <td>Sample 1</td>\n",
       "      <td>1</td>\n",
       "    </tr>\n",
       "    <tr>\n",
       "      <th>2</th>\n",
       "      <td>1209687</td>\n",
       "      <td>2107</td>\n",
       "      <td>Climate change and health and social care: Def...</td>\n",
       "      <td>Health and social care systems (including the ...</td>\n",
       "      <td>maowenxin2014@163.com</td>\n",
       "      <td>Adaptation recategorisation</td>\n",
       "      <td>1</td>\n",
       "    </tr>\n",
       "    <tr>\n",
       "      <th>3</th>\n",
       "      <td>851873</td>\n",
       "      <td>2107</td>\n",
       "      <td>Climate change and health and social care: Def...</td>\n",
       "      <td>Health and social care systems (including the ...</td>\n",
       "      <td>maowenxin2014@163.com</td>\n",
       "      <td>predicted adaptation sample 2020-02-06 17:11</td>\n",
       "      <td>1</td>\n",
       "    </tr>\n",
       "    <tr>\n",
       "      <th>4</th>\n",
       "      <td>813141</td>\n",
       "      <td>2164</td>\n",
       "      <td>Design of the AmeriFlux portable eddy covarian...</td>\n",
       "      <td>The AmeriFlux network continues to improve the...</td>\n",
       "      <td>maowenxin2014@163.com</td>\n",
       "      <td>random sample 2019-12-19 15:04</td>\n",
       "      <td>1</td>\n",
       "    </tr>\n",
       "  </tbody>\n",
       "</table>\n",
       "</div>"
      ],
      "text/plain": [
       "        id  doc__id                                         doc__title  \\\n",
       "0  1209686      305  Impact of the Combination of Land Use Activiti...   \n",
       "1   812599      305  Impact of the Combination of Land Use Activiti...   \n",
       "2  1209687     2107  Climate change and health and social care: Def...   \n",
       "3   851873     2107  Climate change and health and social care: Def...   \n",
       "4   813141     2164  Design of the AmeriFlux portable eddy covarian...   \n",
       "\n",
       "                                        doc__content         user__username  \\\n",
       "0  A study to assess the combined effects of land...  maowenxin2014@163.com   \n",
       "1  A study to assess the combined effects of land...  maowenxin2014@163.com   \n",
       "2  Health and social care systems (including the ...  maowenxin2014@163.com   \n",
       "3  Health and social care systems (including the ...  maowenxin2014@163.com   \n",
       "4  The AmeriFlux network continues to improve the...  maowenxin2014@163.com   \n",
       "\n",
       "                                     tag__title  relevant  \n",
       "0                   Adaptation recategorisation         1  \n",
       "1                                      Sample 1         1  \n",
       "2                   Adaptation recategorisation         1  \n",
       "3  predicted adaptation sample 2020-02-06 17:11         1  \n",
       "4                random sample 2019-12-19 15:04         1  "
      ]
     },
     "execution_count": 5,
     "metadata": {},
     "output_type": "execute_result"
    }
   ],
   "source": [
    "dos = DocOwnership.objects.filter(\n",
    "    tag__query__in=qids, relevant__gt=0\n",
    ")\n",
    "cols = ['id','doc__id','doc__title','doc__content','user__username','tag__title','relevant']\n",
    "df = pd.DataFrame.from_dict(dos.values(*cols))[cols].sort_values('doc__id').reset_index(drop=True)*1\n",
    "df.head()"
   ]
  },
  {
   "cell_type": "markdown",
   "metadata": {},
   "source": [
    "### And we retrieve those documents that have been screened in that query, and get the majority rating"
   ]
  },
  {
   "cell_type": "code",
   "execution_count": 6,
   "metadata": {},
   "outputs": [
    {
     "name": "stdout",
     "output_type": "stream",
     "text": [
      "(4032, 8)\n"
     ]
    },
    {
     "data": {
      "text/html": [
       "<div>\n",
       "<style scoped>\n",
       "    .dataframe tbody tr th:only-of-type {\n",
       "        vertical-align: middle;\n",
       "    }\n",
       "\n",
       "    .dataframe tbody tr th {\n",
       "        vertical-align: top;\n",
       "    }\n",
       "\n",
       "    .dataframe thead th {\n",
       "        text-align: right;\n",
       "    }\n",
       "</style>\n",
       "<table border=\"1\" class=\"dataframe\">\n",
       "  <thead>\n",
       "    <tr style=\"text-align: right;\">\n",
       "      <th></th>\n",
       "      <th>PY</th>\n",
       "      <th>content</th>\n",
       "      <th>id</th>\n",
       "      <th>title</th>\n",
       "      <th>wosarticle__de</th>\n",
       "      <th>wosarticle__wc</th>\n",
       "      <th>relevant</th>\n",
       "      <th>seen</th>\n",
       "    </tr>\n",
       "  </thead>\n",
       "  <tbody>\n",
       "    <tr>\n",
       "      <th>0</th>\n",
       "      <td>2018</td>\n",
       "      <td>A model of two regions with a common wood mark...</td>\n",
       "      <td>1945105</td>\n",
       "      <td>Negative leakage: The key role of forest manag...</td>\n",
       "      <td>Forest carbon; Institutions; Management regime...</td>\n",
       "      <td>[Economics; Forestry]</td>\n",
       "      <td>1.0</td>\n",
       "      <td>1.0</td>\n",
       "    </tr>\n",
       "    <tr>\n",
       "      <th>1</th>\n",
       "      <td>2017</td>\n",
       "      <td>This paper analyzes hybrid emissions trading s...</td>\n",
       "      <td>785897</td>\n",
       "      <td>Combining price and quantity controls under pa...</td>\n",
       "      <td>Emission trading; Hybrid regulation; Partition...</td>\n",
       "      <td>[Economics]</td>\n",
       "      <td>1.0</td>\n",
       "      <td>1.0</td>\n",
       "    </tr>\n",
       "    <tr>\n",
       "      <th>2</th>\n",
       "      <td>2008</td>\n",
       "      <td>This study explores the economic feasibility o...</td>\n",
       "      <td>571734</td>\n",
       "      <td>Fast-growing poplar plantations as a bioenergy...</td>\n",
       "      <td>short rotation species; afforestation; cost-be...</td>\n",
       "      <td>[Agricultural Engineering; Biotechnology &amp; App...</td>\n",
       "      <td>1.0</td>\n",
       "      <td>1.0</td>\n",
       "    </tr>\n",
       "    <tr>\n",
       "      <th>3</th>\n",
       "      <td>2015</td>\n",
       "      <td>Based on qualitative research and a case study...</td>\n",
       "      <td>437137</td>\n",
       "      <td>Triggering Community Conservation Through the ...</td>\n",
       "      <td>community conservation; market-based instrumen...</td>\n",
       "      <td>[Development Studies; Environmental Studies; R...</td>\n",
       "      <td>1.0</td>\n",
       "      <td>1.0</td>\n",
       "    </tr>\n",
       "    <tr>\n",
       "      <th>4</th>\n",
       "      <td>2007</td>\n",
       "      <td>Article 2 of the United Nations Framework Conv...</td>\n",
       "      <td>196766</td>\n",
       "      <td>Dangerous anthropogenic interference, dangerou...</td>\n",
       "      <td>None</td>\n",
       "      <td>[Environmental Sciences; Meteorology &amp; Atmosph...</td>\n",
       "      <td>1.0</td>\n",
       "      <td>1.0</td>\n",
       "    </tr>\n",
       "  </tbody>\n",
       "</table>\n",
       "</div>"
      ],
      "text/plain": [
       "     PY                                            content       id  \\\n",
       "0  2018  A model of two regions with a common wood mark...  1945105   \n",
       "1  2017  This paper analyzes hybrid emissions trading s...   785897   \n",
       "2  2008  This study explores the economic feasibility o...   571734   \n",
       "3  2015  Based on qualitative research and a case study...   437137   \n",
       "4  2007  Article 2 of the United Nations Framework Conv...   196766   \n",
       "\n",
       "                                               title  \\\n",
       "0  Negative leakage: The key role of forest manag...   \n",
       "1  Combining price and quantity controls under pa...   \n",
       "2  Fast-growing poplar plantations as a bioenergy...   \n",
       "3  Triggering Community Conservation Through the ...   \n",
       "4  Dangerous anthropogenic interference, dangerou...   \n",
       "\n",
       "                                      wosarticle__de  \\\n",
       "0  Forest carbon; Institutions; Management regime...   \n",
       "1  Emission trading; Hybrid regulation; Partition...   \n",
       "2  short rotation species; afforestation; cost-be...   \n",
       "3  community conservation; market-based instrumen...   \n",
       "4                                               None   \n",
       "\n",
       "                                      wosarticle__wc  relevant  seen  \n",
       "0                              [Economics; Forestry]       1.0   1.0  \n",
       "1                                        [Economics]       1.0   1.0  \n",
       "2  [Agricultural Engineering; Biotechnology & App...       1.0   1.0  \n",
       "3  [Development Studies; Environmental Studies; R...       1.0   1.0  \n",
       "4  [Environmental Sciences; Meteorology & Atmosph...       1.0   1.0  "
      ]
     },
     "execution_count": 6,
     "metadata": {},
     "output_type": "execute_result"
    }
   ],
   "source": [
    "import statistics\n",
    "\n",
    "def mode_na(x):\n",
    "    try:\n",
    "        return statistics.mode([y for y in x if y is not np.NaN])\n",
    "    except:\n",
    "        return np.NaN\n",
    "    \n",
    "columns = [\n",
    "    'id',\n",
    "    'content',\n",
    "    'title',\n",
    "    'PY',\n",
    "    'wosarticle__de',\n",
    "    'wosarticle__wc'\n",
    "]\n",
    "\n",
    "# Majority ratings\n",
    "dos = DocOwnership.objects.filter(\n",
    "    query__in=qids, \n",
    "    relevant__gt=0,\n",
    "    doc__content__iregex='\\w'\n",
    ")\n",
    "dodf = pd.DataFrame.from_dict(dos.order_by('finish').values(\n",
    "    'id','doc_id','user__username','relevant'\n",
    "))\n",
    "dodf.loc[dodf['relevant']==2,'relevant'] = 0\n",
    "dodf.loc[dodf['relevant']==3,'relevant'] = np.NaN\n",
    "\n",
    "gdf = dodf.groupby('doc_id').agg(lambda x: mode_na(x)).reset_index()[['doc_id','relevant']].rename(columns={\"doc_id\":\"id\"})\n",
    "gdf['seen'] = 1\n",
    "gdf.loc[pd.isna(gdf['relevant']),'seen'] = np.NaN\n",
    "\n",
    "seen_df = gdf\n",
    "ddf = pd.DataFrame.from_dict(\n",
    "    Doc.objects.filter(pk__in=seen_df['id']).values(*columns)\n",
    ")\n",
    "seen_df = pd.merge(ddf,seen_df)\n",
    "print(seen_df.shape)\n",
    "seen_df.head()\n"
   ]
  },
  {
   "cell_type": "markdown",
   "metadata": {},
   "source": [
    "### We have a separate list of documents in the query that have not been screened"
   ]
  },
  {
   "cell_type": "code",
   "execution_count": 7,
   "metadata": {},
   "outputs": [
    {
     "name": "stdout",
     "output_type": "stream",
     "text": [
      "(378191, 8)\n"
     ]
    },
    {
     "data": {
      "text/html": [
       "<div>\n",
       "<style scoped>\n",
       "    .dataframe tbody tr th:only-of-type {\n",
       "        vertical-align: middle;\n",
       "    }\n",
       "\n",
       "    .dataframe tbody tr th {\n",
       "        vertical-align: top;\n",
       "    }\n",
       "\n",
       "    .dataframe thead th {\n",
       "        text-align: right;\n",
       "    }\n",
       "</style>\n",
       "<table border=\"1\" class=\"dataframe\">\n",
       "  <thead>\n",
       "    <tr style=\"text-align: right;\">\n",
       "      <th></th>\n",
       "      <th>id</th>\n",
       "      <th>content</th>\n",
       "      <th>title</th>\n",
       "      <th>PY</th>\n",
       "      <th>wosarticle__de</th>\n",
       "      <th>wosarticle__wc</th>\n",
       "      <th>relevant</th>\n",
       "      <th>seen</th>\n",
       "    </tr>\n",
       "  </thead>\n",
       "  <tbody>\n",
       "    <tr>\n",
       "      <th>0</th>\n",
       "      <td>1</td>\n",
       "      <td>For improved exploitation of the energy conten...</td>\n",
       "      <td>Proof of concept for a new energy-positive was...</td>\n",
       "      <td>2014.0</td>\n",
       "      <td>advanced primary treatment; carbon footprint; ...</td>\n",
       "      <td>[Engineering, Environmental; Environmental Sci...</td>\n",
       "      <td>0</td>\n",
       "      <td>0</td>\n",
       "    </tr>\n",
       "    <tr>\n",
       "      <th>1</th>\n",
       "      <td>3</td>\n",
       "      <td>Geological sequestration of pure carbon dioxid...</td>\n",
       "      <td>Wettability determination by contact angle mea...</td>\n",
       "      <td>2011.0</td>\n",
       "      <td>Contact angle; Wettability; CO2; Sequestration...</td>\n",
       "      <td>[Chemistry, Physical]</td>\n",
       "      <td>0</td>\n",
       "      <td>0</td>\n",
       "    </tr>\n",
       "    <tr>\n",
       "      <th>2</th>\n",
       "      <td>4</td>\n",
       "      <td>In America, entertainment celebrities have ent...</td>\n",
       "      <td>From sidekick to sideshow - Celebrity, enterta...</td>\n",
       "      <td>2005.0</td>\n",
       "      <td>politics of distraction; celebrity politics; c...</td>\n",
       "      <td>[Psychology, Clinical; Social Sciences, Interd...</td>\n",
       "      <td>0</td>\n",
       "      <td>0</td>\n",
       "    </tr>\n",
       "    <tr>\n",
       "      <th>3</th>\n",
       "      <td>7</td>\n",
       "      <td>In order to evaluate the effects of pH reducti...</td>\n",
       "      <td>Simulating ocean acidification and CO2 leakage...</td>\n",
       "      <td>2016.0</td>\n",
       "      <td>CO2-driven acidification; Rank species sensiti...</td>\n",
       "      <td>[Environmental Sciences]</td>\n",
       "      <td>0</td>\n",
       "      <td>0</td>\n",
       "    </tr>\n",
       "    <tr>\n",
       "      <th>4</th>\n",
       "      <td>10</td>\n",
       "      <td>The degradation of 2-aminoethanol (MEA) by the...</td>\n",
       "      <td>Study of OH-initiated degradation of 2-aminoet...</td>\n",
       "      <td>2012.0</td>\n",
       "      <td>None</td>\n",
       "      <td>[Meteorology &amp; Atmospheric Sciences]</td>\n",
       "      <td>0</td>\n",
       "      <td>0</td>\n",
       "    </tr>\n",
       "  </tbody>\n",
       "</table>\n",
       "</div>"
      ],
      "text/plain": [
       "   id                                            content  \\\n",
       "0   1  For improved exploitation of the energy conten...   \n",
       "1   3  Geological sequestration of pure carbon dioxid...   \n",
       "2   4  In America, entertainment celebrities have ent...   \n",
       "3   7  In order to evaluate the effects of pH reducti...   \n",
       "4  10  The degradation of 2-aminoethanol (MEA) by the...   \n",
       "\n",
       "                                               title      PY  \\\n",
       "0  Proof of concept for a new energy-positive was...  2014.0   \n",
       "1  Wettability determination by contact angle mea...  2011.0   \n",
       "2  From sidekick to sideshow - Celebrity, enterta...  2005.0   \n",
       "3  Simulating ocean acidification and CO2 leakage...  2016.0   \n",
       "4  Study of OH-initiated degradation of 2-aminoet...  2012.0   \n",
       "\n",
       "                                      wosarticle__de  \\\n",
       "0  advanced primary treatment; carbon footprint; ...   \n",
       "1  Contact angle; Wettability; CO2; Sequestration...   \n",
       "2  politics of distraction; celebrity politics; c...   \n",
       "3  CO2-driven acidification; Rank species sensiti...   \n",
       "4                                               None   \n",
       "\n",
       "                                      wosarticle__wc  relevant  seen  \n",
       "0  [Engineering, Environmental; Environmental Sci...         0     0  \n",
       "1                              [Chemistry, Physical]         0     0  \n",
       "2  [Psychology, Clinical; Social Sciences, Interd...         0     0  \n",
       "3                           [Environmental Sciences]         0     0  \n",
       "4               [Meteorology & Atmospheric Sciences]         0     0  "
      ]
     },
     "execution_count": 7,
     "metadata": {},
     "output_type": "execute_result"
    }
   ],
   "source": [
    "unseen_docs = q.doc_set.filter(\n",
    "    content__iregex='\\w',\n",
    ").exclude(pk__in=seen_df['id']).distinct('id')\n",
    "\n",
    "unseen_df = pd.DataFrame.from_dict(list(unseen_docs.values(*columns)))\n",
    "unseen_df = unseen_df[columns]\n",
    "unseen_df['relevant'] = 0\n",
    "unseen_df['seen'] = 0\n",
    "\n",
    "print(unseen_df.shape)\n",
    "unseen_df.head()"
   ]
  },
  {
   "cell_type": "markdown",
   "metadata": {},
   "source": [
    "### And we merge the two, with a column \"seen\" recording if a document has been seen or not"
   ]
  },
  {
   "cell_type": "code",
   "execution_count": 8,
   "metadata": {},
   "outputs": [
    {
     "name": "stderr",
     "output_type": "stream",
     "text": [
      "/home/galm/software/django/tmv/venv/lib/python3.6/site-packages/ipykernel_launcher.py:2: FutureWarning: Sorting because non-concatenation axis is not aligned. A future version\n",
      "of pandas will change to not sort by default.\n",
      "\n",
      "To accept the future behavior, pass 'sort=False'.\n",
      "\n",
      "To retain the current behavior and silence the warning, pass 'sort=True'.\n",
      "\n",
      "  \n"
     ]
    },
    {
     "data": {
      "text/html": [
       "<div>\n",
       "<style scoped>\n",
       "    .dataframe tbody tr th:only-of-type {\n",
       "        vertical-align: middle;\n",
       "    }\n",
       "\n",
       "    .dataframe tbody tr th {\n",
       "        vertical-align: top;\n",
       "    }\n",
       "\n",
       "    .dataframe thead th {\n",
       "        text-align: right;\n",
       "    }\n",
       "</style>\n",
       "<table border=\"1\" class=\"dataframe\">\n",
       "  <thead>\n",
       "    <tr style=\"text-align: right;\">\n",
       "      <th></th>\n",
       "      <th>PY</th>\n",
       "      <th>content</th>\n",
       "      <th>id</th>\n",
       "      <th>relevant</th>\n",
       "      <th>seen</th>\n",
       "      <th>title</th>\n",
       "      <th>wosarticle__de</th>\n",
       "      <th>wosarticle__wc</th>\n",
       "    </tr>\n",
       "  </thead>\n",
       "  <tbody>\n",
       "    <tr>\n",
       "      <th>0</th>\n",
       "      <td>1992.0</td>\n",
       "      <td>Some new aspects of microbiology in water-in-o...</td>\n",
       "      <td>599544</td>\n",
       "      <td>0.0</td>\n",
       "      <td>0.0</td>\n",
       "      <td>SOLUBILIZATION AND GROWTH OF CANDIDA-PSEUDOTRO...</td>\n",
       "      <td>YEAST; GROWTH; ORGANIC SOLVENT; MICROEMULSION;...</td>\n",
       "      <td>[Biotechnology &amp; Applied Microbiology]</td>\n",
       "    </tr>\n",
       "    <tr>\n",
       "      <th>1</th>\n",
       "      <td>2018.0</td>\n",
       "      <td>The present experimental study is investigated...</td>\n",
       "      <td>1305496</td>\n",
       "      <td>0.0</td>\n",
       "      <td>0.0</td>\n",
       "      <td>Novel Garcinia gummi-gutta methyl ester (GGME)...</td>\n",
       "      <td>Garcinia gummi-gutta methyl ester; Immobilized...</td>\n",
       "      <td>[Green &amp; Sustainable Science &amp; Technology; Ene...</td>\n",
       "    </tr>\n",
       "    <tr>\n",
       "      <th>2</th>\n",
       "      <td>2000.0</td>\n",
       "      <td>The DAYCENT ecosystem model was used to addres...</td>\n",
       "      <td>1860140</td>\n",
       "      <td>0.0</td>\n",
       "      <td>0.0</td>\n",
       "      <td>Interaction of soil carbon sequestration and N...</td>\n",
       "      <td>soil C; N2O flux; climate forcing; land use ma...</td>\n",
       "      <td>[Environmental Sciences]</td>\n",
       "    </tr>\n",
       "    <tr>\n",
       "      <th>3</th>\n",
       "      <td>1997.0</td>\n",
       "      <td>A new air mass-based synoptic procedure is use...</td>\n",
       "      <td>615984</td>\n",
       "      <td>0.0</td>\n",
       "      <td>0.0</td>\n",
       "      <td>An evaluation of climate/mortality relationshi...</td>\n",
       "      <td>acclimatization; air mass; climate and human m...</td>\n",
       "      <td>[Environmental Sciences; Public, Environmental...</td>\n",
       "    </tr>\n",
       "    <tr>\n",
       "      <th>4</th>\n",
       "      <td>2009.0</td>\n",
       "      <td>Fresh produce is increasingly implicated in fo...</td>\n",
       "      <td>328444</td>\n",
       "      <td>0.0</td>\n",
       "      <td>0.0</td>\n",
       "      <td>Persistence of Escherichia coli on Injured ice...</td>\n",
       "      <td>None</td>\n",
       "      <td>[Biotechnology &amp; Applied Microbiology; Food Sc...</td>\n",
       "    </tr>\n",
       "  </tbody>\n",
       "</table>\n",
       "</div>"
      ],
      "text/plain": [
       "       PY                                            content       id  \\\n",
       "0  1992.0  Some new aspects of microbiology in water-in-o...   599544   \n",
       "1  2018.0  The present experimental study is investigated...  1305496   \n",
       "2  2000.0  The DAYCENT ecosystem model was used to addres...  1860140   \n",
       "3  1997.0  A new air mass-based synoptic procedure is use...   615984   \n",
       "4  2009.0  Fresh produce is increasingly implicated in fo...   328444   \n",
       "\n",
       "   relevant  seen                                              title  \\\n",
       "0       0.0   0.0  SOLUBILIZATION AND GROWTH OF CANDIDA-PSEUDOTRO...   \n",
       "1       0.0   0.0  Novel Garcinia gummi-gutta methyl ester (GGME)...   \n",
       "2       0.0   0.0  Interaction of soil carbon sequestration and N...   \n",
       "3       0.0   0.0  An evaluation of climate/mortality relationshi...   \n",
       "4       0.0   0.0  Persistence of Escherichia coli on Injured ice...   \n",
       "\n",
       "                                      wosarticle__de  \\\n",
       "0  YEAST; GROWTH; ORGANIC SOLVENT; MICROEMULSION;...   \n",
       "1  Garcinia gummi-gutta methyl ester; Immobilized...   \n",
       "2  soil C; N2O flux; climate forcing; land use ma...   \n",
       "3  acclimatization; air mass; climate and human m...   \n",
       "4                                               None   \n",
       "\n",
       "                                      wosarticle__wc  \n",
       "0             [Biotechnology & Applied Microbiology]  \n",
       "1  [Green & Sustainable Science & Technology; Ene...  \n",
       "2                           [Environmental Sciences]  \n",
       "3  [Environmental Sciences; Public, Environmental...  \n",
       "4  [Biotechnology & Applied Microbiology; Food Sc...  "
      ]
     },
     "execution_count": 8,
     "metadata": {},
     "output_type": "execute_result"
    }
   ],
   "source": [
    "django.db.connection.close()\n",
    "df = (pd.concat([seen_df,unseen_df])\n",
    "      .sort_values('id')\n",
    "      .sample(frac=1, random_state=1)\n",
    "      .reset_index(drop=True)\n",
    ")\n",
    "y = df['relevant']\n",
    "\n",
    "seen_index = df[df['seen']==1].index\n",
    "unseen_index = df[df['seen']==0].index\n",
    "\n",
    "df.head()"
   ]
  },
  {
   "cell_type": "markdown",
   "metadata": {},
   "source": [
    "### We also get the assignments of these documents to categories, and add these as further columns in our dataframe"
   ]
  },
  {
   "cell_type": "code",
   "execution_count": 9,
   "metadata": {},
   "outputs": [
    {
     "name": "stdout",
     "output_type": "stream",
     "text": [
      "(3065, 45)\n",
      "(3003, 46)\n"
     ]
    },
    {
     "data": {
      "text/html": [
       "<div>\n",
       "<style scoped>\n",
       "    .dataframe tbody tr th:only-of-type {\n",
       "        vertical-align: middle;\n",
       "    }\n",
       "\n",
       "    .dataframe tbody tr th {\n",
       "        vertical-align: top;\n",
       "    }\n",
       "\n",
       "    .dataframe thead th {\n",
       "        text-align: right;\n",
       "    }\n",
       "</style>\n",
       "<table border=\"1\" class=\"dataframe\">\n",
       "  <thead>\n",
       "    <tr style=\"text-align: right;\">\n",
       "      <th>cname</th>\n",
       "      <th>doc__id</th>\n",
       "      <th>1 - Adaptation</th>\n",
       "      <th>1 - Mitigation</th>\n",
       "      <th>2 - Governance &amp; policies</th>\n",
       "      <th>3 - &lt;hidden&gt;tax/emission trading</th>\n",
       "      <th>3 - Economic instruments</th>\n",
       "      <th>3 - Goal setting</th>\n",
       "      <th>3 - Government procurement &amp; public services&lt;hidden&gt;</th>\n",
       "      <th>3 - Information policies</th>\n",
       "      <th>3 - Information&lt;hidden&gt;</th>\n",
       "      <th>...</th>\n",
       "      <th>4 - Spatial &amp; land-use planning</th>\n",
       "      <th>4 - Subsidy/compensation/ allowance</th>\n",
       "      <th>4 - Targets &amp; goals</th>\n",
       "      <th>4 - Tax</th>\n",
       "      <th>4 - Voluntary agreements</th>\n",
       "      <th>5 - Company &amp; organizations</th>\n",
       "      <th>5 - Local</th>\n",
       "      <th>5 - National</th>\n",
       "      <th>5 - Sub-national/ regional</th>\n",
       "      <th>5 - Supranational &amp; international</th>\n",
       "    </tr>\n",
       "  </thead>\n",
       "  <tbody>\n",
       "    <tr>\n",
       "      <th>2998</th>\n",
       "      <td>1945105</td>\n",
       "      <td>0.0</td>\n",
       "      <td>1.0</td>\n",
       "      <td>1.0</td>\n",
       "      <td>0.0</td>\n",
       "      <td>0.0</td>\n",
       "      <td>0.0</td>\n",
       "      <td>0.0</td>\n",
       "      <td>0.0</td>\n",
       "      <td>0.0</td>\n",
       "      <td>...</td>\n",
       "      <td>0.0</td>\n",
       "      <td>0.0</td>\n",
       "      <td>0.0</td>\n",
       "      <td>0.0</td>\n",
       "      <td>0.0</td>\n",
       "      <td>0.0</td>\n",
       "      <td>0.0</td>\n",
       "      <td>0.0</td>\n",
       "      <td>1.0</td>\n",
       "      <td>0.0</td>\n",
       "    </tr>\n",
       "    <tr>\n",
       "      <th>2999</th>\n",
       "      <td>1945363</td>\n",
       "      <td>1.0</td>\n",
       "      <td>0.0</td>\n",
       "      <td>1.0</td>\n",
       "      <td>0.0</td>\n",
       "      <td>0.0</td>\n",
       "      <td>0.0</td>\n",
       "      <td>0.0</td>\n",
       "      <td>0.0</td>\n",
       "      <td>0.0</td>\n",
       "      <td>...</td>\n",
       "      <td>0.0</td>\n",
       "      <td>0.0</td>\n",
       "      <td>0.0</td>\n",
       "      <td>0.0</td>\n",
       "      <td>0.0</td>\n",
       "      <td>0.0</td>\n",
       "      <td>0.0</td>\n",
       "      <td>0.0</td>\n",
       "      <td>0.0</td>\n",
       "      <td>0.0</td>\n",
       "    </tr>\n",
       "    <tr>\n",
       "      <th>3000</th>\n",
       "      <td>1945365</td>\n",
       "      <td>0.0</td>\n",
       "      <td>0.0</td>\n",
       "      <td>1.0</td>\n",
       "      <td>0.0</td>\n",
       "      <td>0.0</td>\n",
       "      <td>0.0</td>\n",
       "      <td>0.0</td>\n",
       "      <td>0.0</td>\n",
       "      <td>0.0</td>\n",
       "      <td>...</td>\n",
       "      <td>0.0</td>\n",
       "      <td>0.0</td>\n",
       "      <td>0.0</td>\n",
       "      <td>0.0</td>\n",
       "      <td>0.0</td>\n",
       "      <td>0.0</td>\n",
       "      <td>0.0</td>\n",
       "      <td>0.0</td>\n",
       "      <td>0.0</td>\n",
       "      <td>0.0</td>\n",
       "    </tr>\n",
       "    <tr>\n",
       "      <th>3001</th>\n",
       "      <td>1945927</td>\n",
       "      <td>0.0</td>\n",
       "      <td>1.0</td>\n",
       "      <td>1.0</td>\n",
       "      <td>0.0</td>\n",
       "      <td>0.0</td>\n",
       "      <td>0.0</td>\n",
       "      <td>0.0</td>\n",
       "      <td>0.0</td>\n",
       "      <td>0.0</td>\n",
       "      <td>...</td>\n",
       "      <td>0.0</td>\n",
       "      <td>0.0</td>\n",
       "      <td>0.0</td>\n",
       "      <td>0.0</td>\n",
       "      <td>0.0</td>\n",
       "      <td>0.0</td>\n",
       "      <td>0.0</td>\n",
       "      <td>0.0</td>\n",
       "      <td>0.0</td>\n",
       "      <td>1.0</td>\n",
       "    </tr>\n",
       "    <tr>\n",
       "      <th>3002</th>\n",
       "      <td>1945987</td>\n",
       "      <td>1.0</td>\n",
       "      <td>1.0</td>\n",
       "      <td>0.0</td>\n",
       "      <td>0.0</td>\n",
       "      <td>0.0</td>\n",
       "      <td>0.0</td>\n",
       "      <td>0.0</td>\n",
       "      <td>0.0</td>\n",
       "      <td>0.0</td>\n",
       "      <td>...</td>\n",
       "      <td>0.0</td>\n",
       "      <td>0.0</td>\n",
       "      <td>0.0</td>\n",
       "      <td>0.0</td>\n",
       "      <td>0.0</td>\n",
       "      <td>0.0</td>\n",
       "      <td>0.0</td>\n",
       "      <td>0.0</td>\n",
       "      <td>0.0</td>\n",
       "      <td>0.0</td>\n",
       "    </tr>\n",
       "  </tbody>\n",
       "</table>\n",
       "<p>5 rows × 46 columns</p>\n",
       "</div>"
      ],
      "text/plain": [
       "cname  doc__id  1 - Adaptation  1 - Mitigation  2 - Governance & policies  \\\n",
       "2998   1945105             0.0             1.0                        1.0   \n",
       "2999   1945363             1.0             0.0                        1.0   \n",
       "3000   1945365             0.0             0.0                        1.0   \n",
       "3001   1945927             0.0             1.0                        1.0   \n",
       "3002   1945987             1.0             1.0                        0.0   \n",
       "\n",
       "cname  3 - <hidden>tax/emission trading  3 - Economic instruments  \\\n",
       "2998                                0.0                       0.0   \n",
       "2999                                0.0                       0.0   \n",
       "3000                                0.0                       0.0   \n",
       "3001                                0.0                       0.0   \n",
       "3002                                0.0                       0.0   \n",
       "\n",
       "cname  3 - Goal setting  3 - Government procurement & public services<hidden>  \\\n",
       "2998                0.0                                                0.0      \n",
       "2999                0.0                                                0.0      \n",
       "3000                0.0                                                0.0      \n",
       "3001                0.0                                                0.0      \n",
       "3002                0.0                                                0.0      \n",
       "\n",
       "cname  3 - Information policies  3 - Information<hidden>  ...  \\\n",
       "2998                        0.0                      0.0  ...   \n",
       "2999                        0.0                      0.0  ...   \n",
       "3000                        0.0                      0.0  ...   \n",
       "3001                        0.0                      0.0  ...   \n",
       "3002                        0.0                      0.0  ...   \n",
       "\n",
       "cname  4 - Spatial & land-use planning  4 - Subsidy/compensation/ allowance  \\\n",
       "2998                               0.0                                  0.0   \n",
       "2999                               0.0                                  0.0   \n",
       "3000                               0.0                                  0.0   \n",
       "3001                               0.0                                  0.0   \n",
       "3002                               0.0                                  0.0   \n",
       "\n",
       "cname  4 - Targets & goals  4 - Tax  4 - Voluntary agreements  \\\n",
       "2998                   0.0      0.0                       0.0   \n",
       "2999                   0.0      0.0                       0.0   \n",
       "3000                   0.0      0.0                       0.0   \n",
       "3001                   0.0      0.0                       0.0   \n",
       "3002                   0.0      0.0                       0.0   \n",
       "\n",
       "cname  5 - Company & organizations  5 - Local  5 - National  \\\n",
       "2998                           0.0        0.0           0.0   \n",
       "2999                           0.0        0.0           0.0   \n",
       "3000                           0.0        0.0           0.0   \n",
       "3001                           0.0        0.0           0.0   \n",
       "3002                           0.0        0.0           0.0   \n",
       "\n",
       "cname  5 - Sub-national/ regional  5 - Supranational & international  \n",
       "2998                          1.0                                0.0  \n",
       "2999                          0.0                                0.0  \n",
       "3000                          0.0                                0.0  \n",
       "3001                          0.0                                1.0  \n",
       "3002                          0.0                                0.0  \n",
       "\n",
       "[5 rows x 46 columns]"
      ]
     },
     "execution_count": 9,
     "metadata": {},
     "output_type": "execute_result"
    }
   ],
   "source": [
    "dudf = pd.DataFrame.from_dict(\n",
    "    DocUserCat.objects.filter(\n",
    "        doc__pk__in=seen_df['id'],category__project=p\n",
    "    ).values('user__username','doc__id','category__level','category__name')\n",
    ")\n",
    "dudf['v'] = 1\n",
    "dudf['cname'] =  dudf['category__level'].astype(str) + \" - \" + dudf['category__name']#\n",
    "dudf = dudf.drop(columns=['category__level','category__name'])\n",
    "dudf_wide = dudf.pivot_table(index=['doc__id','user__username'],columns=\"cname\", values=\"v\").fillna(0)\n",
    "print(dudf_wide.shape)\n",
    "gudf = dudf_wide.groupby(['doc__id']).agg(lambda x: st.mode(x)[0][0]).reset_index()\n",
    "dudf_wide_r = dudf_wide.reset_index()\n",
    "dudf_wide_r.columns = [\"doc__id\",'user__username'] + list(dudf_wide.columns)\n",
    "dudf_expanded = dudf_wide_r.melt(id_vars=[\"doc__id\",\"user__username\"]).head()\n",
    "print(gudf.shape)\n",
    "gudf.tail()"
   ]
  },
  {
   "cell_type": "code",
   "execution_count": 10,
   "metadata": {},
   "outputs": [
    {
     "name": "stdout",
     "output_type": "stream",
     "text": [
      "(3065, 45)\n"
     ]
    }
   ],
   "source": [
    "print(dudf_wide.shape)\n",
    "no_ma = dudf_wide[\n",
    "    (dudf_wide['1 - Adaptation']==0) &\n",
    "    (dudf_wide['1 - Mitigation']==0)\n",
    "]\n",
    "\n",
    "docs = Doc.objects.filter(id__in=no_ma.reset_index()['doc__id'])\n",
    "for tag in Tag.objects.filter(query=q):\n",
    "    tds = tag.doc_set.filter(pk__in=no_ma.reset_index()['doc__id'])\n",
    "    if tds.exists():\n",
    "        print(tag, tds.count())"
   ]
  },
  {
   "cell_type": "code",
   "execution_count": 11,
   "metadata": {},
   "outputs": [
    {
     "name": "stdout",
     "output_type": "stream",
     "text": [
      "(382223, 53)\n"
     ]
    },
    {
     "data": {
      "text/html": [
       "<div>\n",
       "<style scoped>\n",
       "    .dataframe tbody tr th:only-of-type {\n",
       "        vertical-align: middle;\n",
       "    }\n",
       "\n",
       "    .dataframe tbody tr th {\n",
       "        vertical-align: top;\n",
       "    }\n",
       "\n",
       "    .dataframe thead th {\n",
       "        text-align: right;\n",
       "    }\n",
       "</style>\n",
       "<table border=\"1\" class=\"dataframe\">\n",
       "  <thead>\n",
       "    <tr style=\"text-align: right;\">\n",
       "      <th></th>\n",
       "      <th>PY</th>\n",
       "      <th>content</th>\n",
       "      <th>id</th>\n",
       "      <th>relevant</th>\n",
       "      <th>seen</th>\n",
       "      <th>title</th>\n",
       "      <th>wosarticle__de</th>\n",
       "      <th>wosarticle__wc</th>\n",
       "      <th>1 - Adaptation</th>\n",
       "      <th>1 - Mitigation</th>\n",
       "      <th>...</th>\n",
       "      <th>4 - Spatial &amp; land-use planning</th>\n",
       "      <th>4 - Subsidy/compensation/ allowance</th>\n",
       "      <th>4 - Targets &amp; goals</th>\n",
       "      <th>4 - Tax</th>\n",
       "      <th>4 - Voluntary agreements</th>\n",
       "      <th>5 - Company &amp; organizations</th>\n",
       "      <th>5 - Local</th>\n",
       "      <th>5 - National</th>\n",
       "      <th>5 - Sub-national/ regional</th>\n",
       "      <th>5 - Supranational &amp; international</th>\n",
       "    </tr>\n",
       "  </thead>\n",
       "  <tbody>\n",
       "    <tr>\n",
       "      <th>0</th>\n",
       "      <td>1992.0</td>\n",
       "      <td>Some new aspects of microbiology in water-in-o...</td>\n",
       "      <td>599544</td>\n",
       "      <td>0.0</td>\n",
       "      <td>0.0</td>\n",
       "      <td>SOLUBILIZATION AND GROWTH OF CANDIDA-PSEUDOTRO...</td>\n",
       "      <td>YEAST; GROWTH; ORGANIC SOLVENT; MICROEMULSION;...</td>\n",
       "      <td>[Biotechnology &amp; Applied Microbiology]</td>\n",
       "      <td>0.0</td>\n",
       "      <td>0.0</td>\n",
       "      <td>...</td>\n",
       "      <td>0.0</td>\n",
       "      <td>0.0</td>\n",
       "      <td>0.0</td>\n",
       "      <td>0.0</td>\n",
       "      <td>0.0</td>\n",
       "      <td>0.0</td>\n",
       "      <td>0.0</td>\n",
       "      <td>0.0</td>\n",
       "      <td>0.0</td>\n",
       "      <td>0.0</td>\n",
       "    </tr>\n",
       "    <tr>\n",
       "      <th>1</th>\n",
       "      <td>2018.0</td>\n",
       "      <td>The present experimental study is investigated...</td>\n",
       "      <td>1305496</td>\n",
       "      <td>0.0</td>\n",
       "      <td>0.0</td>\n",
       "      <td>Novel Garcinia gummi-gutta methyl ester (GGME)...</td>\n",
       "      <td>Garcinia gummi-gutta methyl ester; Immobilized...</td>\n",
       "      <td>[Green &amp; Sustainable Science &amp; Technology; Ene...</td>\n",
       "      <td>0.0</td>\n",
       "      <td>0.0</td>\n",
       "      <td>...</td>\n",
       "      <td>0.0</td>\n",
       "      <td>0.0</td>\n",
       "      <td>0.0</td>\n",
       "      <td>0.0</td>\n",
       "      <td>0.0</td>\n",
       "      <td>0.0</td>\n",
       "      <td>0.0</td>\n",
       "      <td>0.0</td>\n",
       "      <td>0.0</td>\n",
       "      <td>0.0</td>\n",
       "    </tr>\n",
       "    <tr>\n",
       "      <th>2</th>\n",
       "      <td>2000.0</td>\n",
       "      <td>The DAYCENT ecosystem model was used to addres...</td>\n",
       "      <td>1860140</td>\n",
       "      <td>0.0</td>\n",
       "      <td>0.0</td>\n",
       "      <td>Interaction of soil carbon sequestration and N...</td>\n",
       "      <td>soil C; N2O flux; climate forcing; land use ma...</td>\n",
       "      <td>[Environmental Sciences]</td>\n",
       "      <td>0.0</td>\n",
       "      <td>0.0</td>\n",
       "      <td>...</td>\n",
       "      <td>0.0</td>\n",
       "      <td>0.0</td>\n",
       "      <td>0.0</td>\n",
       "      <td>0.0</td>\n",
       "      <td>0.0</td>\n",
       "      <td>0.0</td>\n",
       "      <td>0.0</td>\n",
       "      <td>0.0</td>\n",
       "      <td>0.0</td>\n",
       "      <td>0.0</td>\n",
       "    </tr>\n",
       "    <tr>\n",
       "      <th>3</th>\n",
       "      <td>1997.0</td>\n",
       "      <td>A new air mass-based synoptic procedure is use...</td>\n",
       "      <td>615984</td>\n",
       "      <td>0.0</td>\n",
       "      <td>0.0</td>\n",
       "      <td>An evaluation of climate/mortality relationshi...</td>\n",
       "      <td>acclimatization; air mass; climate and human m...</td>\n",
       "      <td>[Environmental Sciences; Public, Environmental...</td>\n",
       "      <td>0.0</td>\n",
       "      <td>0.0</td>\n",
       "      <td>...</td>\n",
       "      <td>0.0</td>\n",
       "      <td>0.0</td>\n",
       "      <td>0.0</td>\n",
       "      <td>0.0</td>\n",
       "      <td>0.0</td>\n",
       "      <td>0.0</td>\n",
       "      <td>0.0</td>\n",
       "      <td>0.0</td>\n",
       "      <td>0.0</td>\n",
       "      <td>0.0</td>\n",
       "    </tr>\n",
       "    <tr>\n",
       "      <th>4</th>\n",
       "      <td>2009.0</td>\n",
       "      <td>Fresh produce is increasingly implicated in fo...</td>\n",
       "      <td>328444</td>\n",
       "      <td>0.0</td>\n",
       "      <td>0.0</td>\n",
       "      <td>Persistence of Escherichia coli on Injured ice...</td>\n",
       "      <td>0</td>\n",
       "      <td>[Biotechnology &amp; Applied Microbiology; Food Sc...</td>\n",
       "      <td>0.0</td>\n",
       "      <td>0.0</td>\n",
       "      <td>...</td>\n",
       "      <td>0.0</td>\n",
       "      <td>0.0</td>\n",
       "      <td>0.0</td>\n",
       "      <td>0.0</td>\n",
       "      <td>0.0</td>\n",
       "      <td>0.0</td>\n",
       "      <td>0.0</td>\n",
       "      <td>0.0</td>\n",
       "      <td>0.0</td>\n",
       "      <td>0.0</td>\n",
       "    </tr>\n",
       "  </tbody>\n",
       "</table>\n",
       "<p>5 rows × 53 columns</p>\n",
       "</div>"
      ],
      "text/plain": [
       "       PY                                            content       id  \\\n",
       "0  1992.0  Some new aspects of microbiology in water-in-o...   599544   \n",
       "1  2018.0  The present experimental study is investigated...  1305496   \n",
       "2  2000.0  The DAYCENT ecosystem model was used to addres...  1860140   \n",
       "3  1997.0  A new air mass-based synoptic procedure is use...   615984   \n",
       "4  2009.0  Fresh produce is increasingly implicated in fo...   328444   \n",
       "\n",
       "   relevant  seen                                              title  \\\n",
       "0       0.0   0.0  SOLUBILIZATION AND GROWTH OF CANDIDA-PSEUDOTRO...   \n",
       "1       0.0   0.0  Novel Garcinia gummi-gutta methyl ester (GGME)...   \n",
       "2       0.0   0.0  Interaction of soil carbon sequestration and N...   \n",
       "3       0.0   0.0  An evaluation of climate/mortality relationshi...   \n",
       "4       0.0   0.0  Persistence of Escherichia coli on Injured ice...   \n",
       "\n",
       "                                      wosarticle__de  \\\n",
       "0  YEAST; GROWTH; ORGANIC SOLVENT; MICROEMULSION;...   \n",
       "1  Garcinia gummi-gutta methyl ester; Immobilized...   \n",
       "2  soil C; N2O flux; climate forcing; land use ma...   \n",
       "3  acclimatization; air mass; climate and human m...   \n",
       "4                                                  0   \n",
       "\n",
       "                                      wosarticle__wc  1 - Adaptation  \\\n",
       "0             [Biotechnology & Applied Microbiology]             0.0   \n",
       "1  [Green & Sustainable Science & Technology; Ene...             0.0   \n",
       "2                           [Environmental Sciences]             0.0   \n",
       "3  [Environmental Sciences; Public, Environmental...             0.0   \n",
       "4  [Biotechnology & Applied Microbiology; Food Sc...             0.0   \n",
       "\n",
       "   1 - Mitigation  ...  4 - Spatial & land-use planning  \\\n",
       "0             0.0  ...                              0.0   \n",
       "1             0.0  ...                              0.0   \n",
       "2             0.0  ...                              0.0   \n",
       "3             0.0  ...                              0.0   \n",
       "4             0.0  ...                              0.0   \n",
       "\n",
       "   4 - Subsidy/compensation/ allowance  4 - Targets & goals  4 - Tax  \\\n",
       "0                                  0.0                  0.0      0.0   \n",
       "1                                  0.0                  0.0      0.0   \n",
       "2                                  0.0                  0.0      0.0   \n",
       "3                                  0.0                  0.0      0.0   \n",
       "4                                  0.0                  0.0      0.0   \n",
       "\n",
       "   4 - Voluntary agreements  5 - Company & organizations  5 - Local  \\\n",
       "0                       0.0                          0.0        0.0   \n",
       "1                       0.0                          0.0        0.0   \n",
       "2                       0.0                          0.0        0.0   \n",
       "3                       0.0                          0.0        0.0   \n",
       "4                       0.0                          0.0        0.0   \n",
       "\n",
       "   5 - National  5 - Sub-national/ regional  5 - Supranational & international  \n",
       "0           0.0                         0.0                                0.0  \n",
       "1           0.0                         0.0                                0.0  \n",
       "2           0.0                         0.0                                0.0  \n",
       "3           0.0                         0.0                                0.0  \n",
       "4           0.0                         0.0                                0.0  \n",
       "\n",
       "[5 rows x 53 columns]"
      ]
     },
     "execution_count": 11,
     "metadata": {},
     "output_type": "execute_result"
    }
   ],
   "source": [
    "df = pd.merge(df, gudf.rename(columns={\"doc__id\":\"id\"}), how=\"left\").fillna(0)\n",
    "print(df.shape)\n",
    "df.head()"
   ]
  },
  {
   "cell_type": "markdown",
   "metadata": {},
   "source": [
    "### We have a look at the distribution of relevant and not relevant documents"
   ]
  },
  {
   "cell_type": "code",
   "execution_count": 12,
   "metadata": {},
   "outputs": [
    {
     "data": {
      "text/plain": [
       "Text(0, 0.5, 'Number of documents')"
      ]
     },
     "execution_count": 12,
     "metadata": {},
     "output_type": "execute_result"
    },
    {
     "data": {
      "image/png": "[encoded data removed]",
      "text/plain": [
       "<Figure size 432x288 with 1 Axes>"
      ]
     },
     "metadata": {},
     "output_type": "display_data"
    }
   ],
   "source": [
    "fig, ax = plt.subplots()\n",
    "n = seen_df.shape[0]\n",
    "y = df['relevant']\n",
    "for i, (name, group) in enumerate(seen_df.groupby('relevant')):\n",
    "    ax.bar(i, group.shape[0])\n",
    "    ax.text(i, group.shape[0]+n*0.02, f'{group.shape[0]/n:.0%}',ha=\"center\")\n",
    "\n",
    "ax.set_xticks([0,1])\n",
    "ax.set_ylim(ymax=ax.get_ylim()[1]*1.05)\n",
    "ax.set_xlabel('Relevance')\n",
    "ax.set_ylabel('Number of documents')"
   ]
  },
  {
   "cell_type": "markdown",
   "metadata": {},
   "source": [
    "### Now we \"vectorize\" the data, representing each document as a weighted count of its words and phrases (bag of words and bigrams). Or if we already did this previously, then we reload the vectorized data"
   ]
  },
  {
   "cell_type": "code",
   "execution_count": 14,
   "metadata": {},
   "outputs": [
    {
     "name": "stderr",
     "output_type": "stream",
     "text": [
      "/home/galm/software/django/tmv/venv/lib/python3.6/site-packages/sklearn/feature_extraction/text.py:484: UserWarning: The parameter 'token_pattern' will not be used since 'tokenizer' is not None'\n",
      "  warnings.warn(\"The parameter 'token_pattern' will not be used\"\n",
      "/home/galm/software/django/tmv/venv/lib/python3.6/site-packages/sklearn/feature_extraction/text.py:386: UserWarning: Your stop_words may be inconsistent with your preprocessing. Tokenizing the stop words generated tokens ['make'] not in stop_words.\n",
      "  'stop_words.' % sorted(inconsistent))\n"
     ]
    }
   ],
   "source": [
    "import pickle\n",
    "revectorize = True\n",
    "y = df['relevant']\n",
    "if revectorize:\n",
    "    vec = TfidfVectorizer(\n",
    "        ngram_range=(1,2),\n",
    "        min_df=4, max_df=0.8, strip_accents='unicode', \n",
    "        max_features=10000,\n",
    "        use_idf=1,\n",
    "        smooth_idf=1, sublinear_tf=1,\n",
    "        stop_words=\"english\",tokenizer=lu.tokenize\n",
    "    )\n",
    "    vec.fit(df.loc[seen_index,'content'])\n",
    "    ab_X = vec.transform(df['content'])\n",
    "    with open ('data/vec.pickle','wb') as f:\n",
    "        pickle.dump(vec, f)\n",
    "    import scipy.sparse\n",
    "    scipy.sparse.save_npz('data/X.npz', ab_X)\n",
    "else:\n",
    "    with open ('data/vec.pickle','rb') as f:\n",
    "        vec = pickle.load(f)\n",
    "    ab_X = scipy.sparse.load_npz('data/X.npz')"
   ]
  },
  {
   "cell_type": "markdown",
   "metadata": {},
   "source": [
    "### We build 3 types of classifiers, and test these with k-fold cross validation"
   ]
  },
  {
   "cell_type": "code",
   "execution_count": 15,
   "metadata": {},
   "outputs": [
    {
     "name": "stdout",
     "output_type": "stream",
     "text": [
      "1\n",
      "2\n",
      "3\n",
      "4\n",
      "5\n",
      "6\n",
      "7\n",
      "8\n",
      "9\n",
      "10\n"
     ]
    }
   ],
   "source": [
    "from sklearn.model_selection import KFold\n",
    "from importlib import reload  \n",
    "import scoping.utils.learning_utils as lu\n",
    "reload(scoping.utils.learning_utils)\n",
    "\n",
    "models = [\n",
    "    {\n",
    "        'title': 'SVM', \n",
    "        'model': SVC(kernel='linear',class_weight='balanced',probability=True)\n",
    "    },\n",
    "    {\n",
    "        'title':\"Neural Net\",\n",
    "        'model': MLPClassifier(\n",
    "            solver='lbfgs', \n",
    "            alpha=0.1,\n",
    "            hidden_layer_sizes=(10), \n",
    "            random_state=1\n",
    "        )\n",
    "    },\n",
    "    {\n",
    "        'title': 'Naive Bayes', \n",
    "        'model': MultinomialNB(alpha=0.1)     \n",
    "    }\n",
    "]\n",
    "\n",
    "models = lu.cross_validate_models(ab_X, y, models, seen_index)"
   ]
  },
  {
   "cell_type": "code",
   "execution_count": 16,
   "metadata": {},
   "outputs": [
    {
     "data": {
      "image/png": "[encoded data removed]",
      "text/plain": [
       "<Figure size 1000x625 with 3 Axes>"
      ]
     },
     "metadata": {},
     "output_type": "display_data"
    }
   ],
   "source": [
    "fig, axs = plt.subplots(1, len(models),dpi=125,figsize=(8,5),sharey=True)              \n",
    "lu.plot_model_output(models,  ['p','r','e'], fig, axs)\n",
    "plt.show()"
   ]
  },
  {
   "cell_type": "code",
   "execution_count": 17,
   "metadata": {},
   "outputs": [],
   "source": [
    "model_df = pd.DataFrame(models)\n",
    "model_df.to_csv(f\"doctables/models_relevance_{now}.csv\",index=False)"
   ]
  },
  {
   "cell_type": "markdown",
   "metadata": {},
   "source": [
    "### We can choose the best performing model (for our purposes) and fit it on our unseen data, in order to predict the probability that our unseen documents are relevant"
   ]
  },
  {
   "cell_type": "code",
   "execution_count": 18,
   "metadata": {},
   "outputs": [],
   "source": [
    "clf =  MLPClassifier(\n",
    "            solver='lbfgs', \n",
    "            alpha=0.1,\n",
    "            hidden_layer_sizes=(10), \n",
    "            random_state=1\n",
    "        )\n",
    "\n",
    "#clf = SVC(kernel='linear',class_weight='balanced',probability=True)\n",
    "\n",
    "y = df['relevant']\n",
    "\n",
    "clf.fit(ab_X[seen_index],y[seen_index])\n",
    "\n",
    "y_pred = clf.predict_proba(ab_X[unseen_index])"
   ]
  },
  {
   "cell_type": "code",
   "execution_count": 25,
   "metadata": {},
   "outputs": [
    {
     "name": "stdout",
     "output_type": "stream",
     "text": [
      "327811 out of 378191 documents are predicted to be relevant\n"
     ]
    },
    {
     "data": {
      "image/png": "[encoded data removed]",
      "text/plain": [
       "<Figure size 432x288 with 1 Axes>"
      ]
     },
     "metadata": {},
     "output_type": "display_data"
    }
   ],
   "source": [
    "plt.close()\n",
    "\n",
    "df['0 - relevance - prediction'] = None\n",
    "df.loc[unseen_index,'0 - relevance - prediction'] = y_pred[:,1]\n",
    "\n",
    "predicted_index = df[df['0 - relevance - prediction']>0.5].index\n",
    "\n",
    "fig, ax = plt.subplots()\n",
    "\n",
    "pdf = df.sort_values('0 - relevance - prediction').reset_index(drop=True)\n",
    "ax.plot(pdf.index,pdf['0 - relevance - prediction'])\n",
    "ax.axhline(0.5,linestyle=\"--\",color=\"grey\")\n",
    "\n",
    "rel = df[pdf['0 - relevance - prediction']>0.5].shape[0]\n",
    "tot = pdf[pdf['0 - relevance - prediction'].notna()].shape[0]\n",
    "\n",
    "\n",
    "print(f\"{rel} out of {tot} documents are predicted to be relevant\")\n",
    "\n",
    "df[['id','0 - relevance - prediction']].to_csv(f'doctables/predictions_{now}.csv',index=False)\n",
    "\n",
    "plt.show()\n",
    "\n"
   ]
  },
  {
   "cell_type": "code",
   "execution_count": 34,
   "metadata": {},
   "outputs": [],
   "source": []
  },
  {
   "cell_type": "markdown",
   "metadata": {},
   "source": [
    "### Now we make a new random sample"
   ]
  },
  {
   "cell_type": "code",
   "execution_count": 27,
   "metadata": {
    "scrolled": false
   },
   "outputs": [],
   "source": [
    "new_samples = False\n",
    "if new_samples:\n",
    "    now = datetime.datetime.now().strftime(\"%Y-%m-%d %H:%M\")\n",
    "    t1, created = Tag.objects.get_or_create(\n",
    "        title=\"predicted relevant sample {}\".format(now),\n",
    "        query=q\n",
    "    )\n",
    "    t1.save()\n",
    "\n",
    "    tag = t1\n",
    "\n",
    "    users = q.users.all()\n",
    "    uc = len(users)\n",
    "    max_docs = 500\n",
    "    docs_added = 0\n",
    "    for i, row in df.sort_values('prediction',ascending=False).head(3500).reset_index(drop=True).iterrows():\n",
    "        d = Doc.objects.get(id=row['id'])\n",
    "        if d.docownership_set.filter(query=q).exists():\n",
    "            continue\n",
    "        else:\n",
    "            if docs_added < max_docs:\n",
    "                d.tag.add(t1)\n",
    "                docs_added+=1\n",
    "            else:\n",
    "                break  \n",
    "\n",
    "\n",
    "    t1.update_tag()\n",
    "\n",
    "    t1.update_tag()"
   ]
  },
  {
   "cell_type": "markdown",
   "metadata": {},
   "source": [
    "## Now we try and predict governance and policies"
   ]
  },
  {
   "cell_type": "code",
   "execution_count": 28,
   "metadata": {},
   "outputs": [
    {
     "data": {
      "text/plain": [
       "Text(0.5, 0, 'Governance & policies')"
      ]
     },
     "execution_count": 28,
     "metadata": {},
     "output_type": "execute_result"
    },
    {
     "data": {
      "image/png": "[encoded data removed]",
      "text/plain": [
       "<Figure size 432x288 with 1 Axes>"
      ]
     },
     "metadata": {},
     "output_type": "display_data"
    }
   ],
   "source": [
    "fig, ax = plt.subplots()\n",
    "n = seen_df.shape[0]\n",
    "for i, (name, group) in enumerate(df[df['seen']==1].groupby('2 - Governance & policies')):\n",
    "    ax.bar(i, group.shape[0])\n",
    "    ax.text(i, group.shape[0]+n*0.02, f'{group.shape[0]/n:.0%}',ha=\"center\")\n",
    "    \n",
    "ax.set_ylim(ymax=ax.get_ylim()[1]*1.05)\n",
    "ax.set_xticks([0,1])\n",
    "ax.set_ylabel('Number of documents')\n",
    "ax.set_xlabel('Governance & policies')"
   ]
  },
  {
   "cell_type": "code",
   "execution_count": 29,
   "metadata": {},
   "outputs": [
    {
     "name": "stdout",
     "output_type": "stream",
     "text": [
      "1\n",
      "2\n",
      "3\n",
      "4\n",
      "5\n",
      "6\n",
      "7\n",
      "8\n",
      "9\n",
      "10\n"
     ]
    }
   ],
   "source": [
    "from sklearn.model_selection import KFold\n",
    "\n",
    "y = df['2 - Governance & policies']\n",
    "gov_models = [\n",
    "    {\n",
    "        'title': 'SVM', \n",
    "        'model': SVC(kernel='linear',class_weight='balanced',probability=True)\n",
    "    },\n",
    "    {\n",
    "        'title':\"Neural Net\",\n",
    "        'model': MLPClassifier(\n",
    "            solver='lbfgs', \n",
    "            alpha=0.1,\n",
    "            hidden_layer_sizes=(10), \n",
    "            random_state=1\n",
    "        )\n",
    "    },\n",
    "    {\n",
    "        'title': 'Naive Bayes', \n",
    "        'model': MultinomialNB(alpha=0.1)     \n",
    "    }\n",
    "]\n",
    "\n",
    "gov_models = lu.cross_validate_models(ab_X, y, gov_models, seen_index)"
   ]
  },
  {
   "cell_type": "code",
   "execution_count": 30,
   "metadata": {},
   "outputs": [
    {
     "data": {
      "image/png": "[encoded data removed]",
      "text/plain": [
       "<Figure size 900x562.5 with 3 Axes>"
      ]
     },
     "metadata": {},
     "output_type": "display_data"
    }
   ],
   "source": [
    "\n",
    "fig, axs = plt.subplots(1,3,dpi=125,figsize=double_figure,sharey=True)\n",
    "lu.plot_model_output(gov_models,  ['p','r','e'], fig, axs)\n",
    "plt.show()"
   ]
  },
  {
   "cell_type": "markdown",
   "metadata": {},
   "source": [
    "# Here we predict which of the predicted relevant documents are also likely to be relevant to governance & policies"
   ]
  },
  {
   "cell_type": "code",
   "execution_count": 35,
   "metadata": {},
   "outputs": [],
   "source": [
    "y = df['2 - Governance & policies']\n",
    "clf =  MLPClassifier(\n",
    "    solver='lbfgs', \n",
    "    alpha=0.1,\n",
    "    hidden_layer_sizes=(10), \n",
    "    random_state=1\n",
    ")\n",
    "clf.fit(ab_X[seen_index],y[seen_index])\n",
    "gov_predictions = clf.predict(ab_X[predicted_index])\n",
    "gov_prob = clf.predict_proba(ab_X[predicted_index])"
   ]
  },
  {
   "cell_type": "code",
   "execution_count": 36,
   "metadata": {},
   "outputs": [],
   "source": [
    "df.loc[predicted_index,\"2 - Governance & policies - prediction\"] = gov_prob[:,1]"
   ]
  },
  {
   "cell_type": "code",
   "execution_count": null,
   "metadata": {},
   "outputs": [],
   "source": []
  },
  {
   "cell_type": "code",
   "execution_count": 37,
   "metadata": {},
   "outputs": [],
   "source": [
    "model_df = pd.DataFrame(models)\n",
    "model_df.to_csv(f\"doctables/models_governance_policies_{now}.csv\",index=False)"
   ]
  },
  {
   "cell_type": "markdown",
   "metadata": {},
   "source": [
    "## Now we want to look at mitigation and adaptation"
   ]
  },
  {
   "cell_type": "code",
   "execution_count": 38,
   "metadata": {},
   "outputs": [
    {
     "name": "stdout",
     "output_type": "stream",
     "text": [
      "seen documents: 3660\n",
      "seen mitigation documents: 2310.0\n",
      "seen adaptation documents 575.0\n",
      "seen mitigation and adaptation documents 150\n",
      "seen non-mit/ad documents 923\n"
     ]
    }
   ],
   "source": [
    "df['mit/ad'] = df['1 - Mitigation'] + df['1 - Adaptation']\n",
    "print(\"seen documents:\",df.loc[df['seen']==1,].shape[0])\n",
    "print(\"seen mitigation documents:\", df.loc[df['seen']==1,'1 - Mitigation'].sum())\n",
    "print(\"seen adaptation documents\", df.loc[df['seen']==1,'1 - Adaptation'].sum())\n",
    "print(\"seen mitigation and adaptation documents\", df.loc[df['mit/ad']==2,].shape[0])\n",
    "print(\"seen non-mit/ad documents\",df.loc[(df['seen']==1) & (df['mit/ad']==0),].shape[0])"
   ]
  },
  {
   "cell_type": "code",
   "execution_count": 41,
   "metadata": {},
   "outputs": [
    {
     "data": {
      "text/plain": [
       "<matplotlib.legend.Legend at 0x7f658d1d6400>"
      ]
     },
     "execution_count": 41,
     "metadata": {},
     "output_type": "execute_result"
    },
    {
     "data": {
      "image/png": "[encoded data removed]",
      "text/plain": [
       "<Figure size 900x600 with 1 Axes>"
      ]
     },
     "metadata": {},
     "output_type": "display_data"
    }
   ],
   "source": [
    "fig, ax = plt.subplots(dpi=150)\n",
    "\n",
    "mitigation = df.loc[df['seen']==1,'1 - Mitigation'].sum()\n",
    "adaptation = df.loc[df['seen']==1,'1 - Adaptation'].sum()\n",
    "overlap = df.loc[df['mit/ad']==2,].shape[0]\n",
    "nonmitad = df.loc[(df['seen']==1) & (df['mit/ad']==0),].shape[0]\n",
    "\n",
    "lw = 2\n",
    "alpha=0.4\n",
    "ec = \"grey\"\n",
    "\n",
    "ax.bar(\n",
    "    0,mitigation,\n",
    "    alpha=alpha, label=\"Mitigation\",\n",
    "    lw=lw, edgecolor=ec\n",
    ")\n",
    "ax.bar(\n",
    "    0,adaptation,bottom=mitigation-overlap,\n",
    "    alpha=alpha, label=\"Adaptation\",\n",
    "    lw=lw, edgecolor=ec\n",
    ")\n",
    "ax.bar(\n",
    "    0,nonmitad,bottom=mitigation-overlap+adaptation,\n",
    "    alpha=alpha, label=\"Non Mitigation/Adaptation\",\n",
    "    lw=lw, edgecolor=ec\n",
    ")\n",
    "\n",
    "ax.legend()"
   ]
  },
  {
   "cell_type": "markdown",
   "metadata": {},
   "source": [
    "## We want to do multiclass prediction now\n",
    "\n",
    "so we name the classes and create a matrix of class labels"
   ]
  },
  {
   "cell_type": "code",
   "execution_count": 39,
   "metadata": {},
   "outputs": [
    {
     "data": {
      "text/plain": [
       "(382223, 2)"
      ]
     },
     "execution_count": 39,
     "metadata": {},
     "output_type": "execute_result"
    }
   ],
   "source": [
    "classes = [\"1 - Mitigation\",\"1 - Adaptation\"]\n",
    "y = np.matrix(df[classes])\n",
    "y.shape"
   ]
  },
  {
   "cell_type": "markdown",
   "metadata": {},
   "source": [
    "and cross validate a model to see how well we can predict"
   ]
  },
  {
   "cell_type": "code",
   "execution_count": 40,
   "metadata": {},
   "outputs": [
    {
     "name": "stdout",
     "output_type": "stream",
     "text": [
      "1\n",
      "2\n",
      "3\n",
      "4\n",
      "5\n",
      "6\n",
      "7\n",
      "8\n",
      "9\n",
      "10\n"
     ]
    }
   ],
   "source": [
    "from importlib import reload  \n",
    "import scoping.utils.learning_utils as lu\n",
    "reload(scoping.utils.learning_utils)\n",
    "\n",
    "from sklearn.model_selection import KFold\n",
    "multimodels = [\n",
    "    {\n",
    "        'title': 'One vs rest SVC balanced', \n",
    "        'model': OneVsRestClassifier(SVC(kernel='linear', class_weight=\"balanced\", probability=True))\n",
    "    },\n",
    "]\n",
    "\n",
    "multimodels, metrics, df = lu.cross_validate_models(ab_X, y, multimodels, seen_index, classes=classes, df=df)\n"
   ]
  },
  {
   "cell_type": "code",
   "execution_count": 43,
   "metadata": {},
   "outputs": [
    {
     "data": {
      "image/png": "[encoded data removed]",
      "text/plain": [
       "<Figure size 1000x625 with 1 Axes>"
      ]
     },
     "metadata": {},
     "output_type": "display_data"
    }
   ],
   "source": [
    "fig, axs = plt.subplots(1, len(multimodels),dpi=125,figsize=(8,5),sharey=True)              \n",
    "lu.plot_model_output(multimodels, metrics, fig, [axs])\n",
    "plt.show()"
   ]
  },
  {
   "cell_type": "code",
   "execution_count": 60,
   "metadata": {},
   "outputs": [
    {
     "name": "stdout",
     "output_type": "stream",
     "text": [
      "['1 - Mitigation - k_prediction_binary', '1 - Adaptation - k_prediction_binary']\n"
     ]
    },
    {
     "data": {
      "image/png": "[encoded data removed]",
      "text/plain": [
       "<Figure size 1000x1000 with 2 Axes>"
      ]
     },
     "metadata": {},
     "output_type": "display_data"
    }
   ],
   "source": [
    "classes = [\"1 - Mitigation\",\"1 - Adaptation\"]\n",
    "cols = [f\"{c} - k_prediction_binary\" for c in classes]\n",
    "print(cols)\n",
    "y_pred = np.array(list(df.loc[seen_index,cols].values))\n",
    "   \n",
    "y_true = y[seen_index]\n",
    "\n",
    "confusion_matrix = np.zeros(shape=(len(classes)+1,len(classes)+1),dtype=float)\n",
    "\n",
    "norm = True\n",
    "\n",
    "for j, c in enumerate(classes): #rows\n",
    "    for k, c in enumerate(classes): #cols\n",
    "        n = 0\n",
    "        for i in range(len(seen_index)):\n",
    "            if j==k:\n",
    "                if y_true[i,j]+y_pred[i,k]==2:\n",
    "                    n+=1\n",
    "            else:\n",
    "                if y_pred[i,j]+y_true[i,k]==2 and y_pred[i,k]+y_true[i,k]!=2:\n",
    "                    n+=1/y_pred[i,].sum()\n",
    "        confusion_matrix[j,k]=n\n",
    "        \n",
    "    sums_pred = y_pred.sum(axis=1).ravel()\n",
    "    confusion_matrix[k+1,j]=y_true[np.argwhere(sums_pred==0).ravel(),j].sum()\n",
    "    sums_true = y_true.sum(axis=1).ravel()\n",
    "    confusion_matrix[j,k+1]=y_pred[np.argwhere(sums_true==0).ravel(),j].sum()\n",
    "    confusion_matrix[j+1,k+1] = y_pred[np.argwhere(sums_true+sums_pred==0)].shape[0]\n",
    "\n",
    "\n",
    "if norm is not False:\n",
    "    confusion_matrix = confusion_matrix/confusion_matrix.sum(axis=0,keepdims=True)\n",
    "\n",
    "\n",
    "fig, ax = plt.subplots(dpi=125, figsize=(8,8))\n",
    "\n",
    "\n",
    "if norm is not False:\n",
    "    mat = ax.imshow(confusion_matrix, cmap=\"Blues\", vmin=0, vmax=1, origin=\"lower\")\n",
    "else:\n",
    "    mat = ax.imshow(confusion_matrix, cmap=\"Blues\",origin=\"lower\")\n",
    "    \n",
    "classes = classes + [\"None\"]\n",
    "for j, c in enumerate(classes):\n",
    "    for k, c in enumerate(classes):\n",
    "        n  = confusion_matrix[j,k]\n",
    "        if n > np.max(confusion_matrix)/2:\n",
    "            color=\"#d9d9d9\"\n",
    "        else:\n",
    "            color=\"#525252\"\n",
    "        if norm is not False:\n",
    "            ax.text(k,j, f\"{confusion_matrix[j,k]:.0%}\",ha=\"center\",color=color)\n",
    "        else:\n",
    "            ax.text(k,j, f\"{confusion_matrix[j,k]:.1f}\",ha=\"center\",color=color)\n",
    "\n",
    "    if j < len(classes)-1:    \n",
    "        ax.text(j,len(classes)-0.25,f\"{y_true[:,j].sum():,.0f}\",ha=\"center\",va=\"center\")\n",
    "        ax.text(len(classes)-0.25, j, f\"{y_pred[:,j].sum():,.0f}\",ha=\"center\",va=\"center\")\n",
    "        \n",
    "ax.set_xticks(list(range(len(classes))))\n",
    "ax.set_xticklabels([x.replace(\"12 - \",\"\") for x in classes],rotation=45,ha=\"right\")\n",
    "\n",
    "ax.set_yticks(list(range(len(classes))))\n",
    "ax.set_yticklabels([x.replace(\"12 - \",\"\") for x in classes],ha=\"right\")\n",
    "ax.set_xlabel(\"True value\")\n",
    "ax.set_ylabel(\"Predicted value\")\n",
    "\n",
    "#ax.set_xlim(xmax=len(classes)+1)\n",
    "\n",
    "cbar = fig.colorbar(mat, ax=ax, pad=0.15)\n",
    "if norm is not False:\n",
    "    cbar.set_label(\"% of True values\")"
   ]
  },
  {
   "cell_type": "code",
   "execution_count": 61,
   "metadata": {},
   "outputs": [],
   "source": [
    "model_df = pd.DataFrame(multimodels)\n",
    "model_df.to_csv(f\"doctables/multimodels_adaptation_mitigation_{now}.csv\",index=False)"
   ]
  },
  {
   "cell_type": "code",
   "execution_count": 62,
   "metadata": {},
   "outputs": [],
   "source": [
    "clf = OneVsRestClassifier(SVC(kernel='linear', class_weight=\"balanced\", probability=True))\n",
    "classes = [\"1 - Mitigation\",\"1 - Adaptation\"]\n",
    "y = np.matrix(df[classes])\n",
    "y.shape\n",
    "\n",
    "clf.fit(ab_X[seen_index],y[seen_index])\n",
    "predictions = clf.predict(ab_X[predicted_index])"
   ]
  },
  {
   "cell_type": "code",
   "execution_count": 63,
   "metadata": {},
   "outputs": [],
   "source": [
    "for i,c in enumerate(classes):\n",
    "    df[f\"{c} - prediction\"] = np.NaN\n",
    "    df.loc[predicted_index,f\"{c} - prediction\"] = predictions[:,i]"
   ]
  },
  {
   "cell_type": "markdown",
   "metadata": {},
   "source": [
    "# Now we look at level 3 categories"
   ]
  },
  {
   "cell_type": "code",
   "execution_count": 64,
   "metadata": {},
   "outputs": [
    {
     "data": {
      "text/plain": [
       "[Text(0, 0, '3 - Economic instruments'),\n",
       " Text(0, 0, '3 - Goal setting'),\n",
       " Text(0, 0, '3 - Information policies'),\n",
       " Text(0, 0, '3 - International policies'),\n",
       " Text(0, 0, '3 - Planning and public provisioning/services'),\n",
       " Text(0, 0, '3 - Regulatory instruments'),\n",
       " Text(0, 0, '3 - Voluntary actions')]"
      ]
     },
     "execution_count": 64,
     "metadata": {},
     "output_type": "execute_result"
    },
    {
     "data": {
      "image/png": "[encoded data removed]",
      "text/plain": [
       "<Figure size 432x288 with 1 Axes>"
      ]
     },
     "metadata": {},
     "output_type": "display_data"
    }
   ],
   "source": [
    "classes = [x for x in df.columns if \"3 - \" in x and \"<hidden>\" not in x and \"prediction\" not in x]\n",
    "fig, ax = plt.subplots()\n",
    "for i,c in enumerate(classes):\n",
    "    ax.barh(i,df[c].sum(),color=\"None\",edgecolor=\"black\",linewidth=0.5)\n",
    "ax.set_yticks(range(len(classes)))\n",
    "ax.set_yticklabels(classes)"
   ]
  },
  {
   "cell_type": "code",
   "execution_count": 65,
   "metadata": {},
   "outputs": [
    {
     "name": "stdout",
     "output_type": "stream",
     "text": [
      "['3 - Economic instruments', '3 - Goal setting', '3 - Information policies', '3 - International policies', '3 - Planning and public provisioning/services', '3 - Regulatory instruments', '3 - Voluntary actions']\n",
      "1\n",
      "2\n",
      "3\n",
      "4\n",
      "5\n",
      "6\n"
     ]
    }
   ],
   "source": [
    "from importlib import reload  \n",
    "import scoping.utils.learning_utils as lu\n",
    "reload(scoping.utils.learning_utils)\n",
    "\n",
    "print(classes)\n",
    "y = np.matrix(df[classes])\n",
    "from sklearn.model_selection import KFold\n",
    "multimodels_3 = [\n",
    "    {\n",
    "        'title': 'One vs rest SVC balanced', \n",
    "        'model': OneVsRestClassifier(SVC(kernel='linear', class_weight=\"balanced\", probability=True))\n",
    "    },\n",
    "]\n",
    "\n",
    "multimodels_3, metrics, df = lu.cross_validate_models(ab_X, y, multimodels_3, seen_index, classes=classes, df = df, n_splits=6)\n"
   ]
  },
  {
   "cell_type": "code",
   "execution_count": 66,
   "metadata": {},
   "outputs": [
    {
     "data": {
      "image/png": "[encoded data removed]",
      "text/plain": [
       "<Figure size 1000x625 with 1 Axes>"
      ]
     },
     "metadata": {},
     "output_type": "display_data"
    }
   ],
   "source": [
    "fig, axs = plt.subplots(1, len(multimodels_3),dpi=125,figsize=(8,5),sharey=True)              \n",
    "lu.plot_model_output(multimodels_3, metrics, fig, [axs])\n",
    "plt.show()"
   ]
  },
  {
   "cell_type": "code",
   "execution_count": 75,
   "metadata": {},
   "outputs": [
    {
     "data": {
      "image/png": "[encoded data removed]",
      "text/plain": [
       "<Figure size 1000x1000 with 2 Axes>"
      ]
     },
     "metadata": {},
     "output_type": "display_data"
    }
   ],
   "source": [
    "classes = [x for x in df.columns if \"3 - \" in x and \"<hidden>\" not in x and \"prediction\" not in x]\n",
    "cols = [f\"{c} - k_prediction_binary\" for c in classes]\n",
    "y_pred = np.array(list(df.loc[list(seen_index),cols].values))\n",
    "   \n",
    "y_true = y[seen_index]\n",
    "\n",
    "confusion_matrix = np.zeros(shape=(len(classes)+1,len(classes)+1),dtype=float)\n",
    "\n",
    "norm = False\n",
    "\n",
    "for j, c in enumerate(classes): #rows\n",
    "    for k, c in enumerate(classes): #cols\n",
    "        n = 0\n",
    "        for i in range(len(seen_index)):\n",
    "            if j==k:\n",
    "                if y_true[i,j]+y_pred[i,k]==2:\n",
    "                    n+=1\n",
    "            else:\n",
    "                if y_pred[i,j]+y_true[i,k]==2 and y_pred[i,k]+y_true[i,k]!=2:\n",
    "                    n+=1/y_pred[i,].sum()\n",
    "        confusion_matrix[j,k]=n\n",
    "        \n",
    "    sums_pred = y_pred.sum(axis=1).ravel()\n",
    "    confusion_matrix[k+1,j]=y_true[np.argwhere(sums_pred==0).ravel(),j].sum()\n",
    "    sums_true = y_true.sum(axis=1).ravel()\n",
    "    confusion_matrix[j,k+1]=y_pred[np.argwhere(sums_true==0).ravel(),j].sum()\n",
    "    confusion_matrix[j+1,k+1] = y_pred[np.argwhere(sums_true+sums_pred==0)].shape[0]\n",
    "        \n",
    "#confusion_matrix[0,3] = 699\n",
    "\n",
    "\n",
    "if norm is not False:\n",
    "    confusion_matrix = confusion_matrix/confusion_matrix.sum(axis=0,keepdims=True)\n",
    "\n",
    "\n",
    "fig, ax = plt.subplots(dpi=125, figsize=(8,8))\n",
    "\n",
    "\n",
    "if norm is not False:\n",
    "    mat = ax.imshow(confusion_matrix, cmap=\"Blues\", vmin=0, vmax=1, origin=\"lower\")\n",
    "else:\n",
    "    mat = ax.imshow(confusion_matrix, cmap=\"Blues\",origin=\"lower\")\n",
    "    \n",
    "classes = classes + [\"None\"]\n",
    "for j, c in enumerate(classes):\n",
    "    for k, c in enumerate(classes):\n",
    "        n  = confusion_matrix[j,k]\n",
    "        if n > np.max(confusion_matrix)/2:\n",
    "            color=\"#d9d9d9\"\n",
    "        else:\n",
    "            color=\"#525252\"\n",
    "        if norm is not False:\n",
    "            ax.text(k,j, f\"{confusion_matrix[j,k]:.0%}\",ha=\"center\",color=color)\n",
    "        else:\n",
    "            ax.text(k,j, f\"{confusion_matrix[j,k]:.1f}\",ha=\"center\",color=color)\n",
    "            \n",
    "    #ax.text(j,len(classes),f\"{confusion_matrix[k+1,j]:,.0f}\",ha=\"center\",va=\"center\")\n",
    "    #ax.text(len(classes),j,f\"{confusion_matrix[j,k+1]:,.0f}\",ha=\"center\",va=\"center\")\n",
    "    #ax.text(len(classes),j,f\"{confusion_matrix[j,k+1]:,.0f}\",ha=\"center\",va=\"center\")\n",
    "    \n",
    "    if j < len(classes)-1:    \n",
    "        ax.text(j,len(classes)-0.25,f\"{y_true[:,j].sum():,.0f}\",ha=\"center\",va=\"center\")\n",
    "        ax.text(len(classes)-0.25, j, f\"{y_pred[:,j].sum():,.0f}\",ha=\"center\",va=\"center\")\n",
    "        \n",
    "ax.set_xticks(list(range(len(classes))))\n",
    "ax.set_xticklabels([x.replace(\"12 - \",\"\") for x in classes],rotation=45,ha=\"right\")\n",
    "\n",
    "ax.set_yticks(list(range(len(classes))))\n",
    "ax.set_yticklabels([x.replace(\"12 - \",\"\") for x in classes],ha=\"right\")\n",
    "ax.set_xlabel(\"True value\")\n",
    "ax.set_ylabel(\"Predicted value\")\n",
    "\n",
    "\n",
    "cbar = fig.colorbar(mat, ax=ax, pad=0.1)\n",
    "if norm is not False:\n",
    "    cbar.set_label(\"% of True values\")"
   ]
  },
  {
   "cell_type": "code",
   "execution_count": 72,
   "metadata": {},
   "outputs": [],
   "source": [
    "classes = [x for x in df.columns if \"3 - \" in x and \"<hidden>\" not in x and \"prediction\" not in x]\n",
    "y = np.matrix(df[classes])\n",
    "y.shape\n",
    "clf.fit(ab_X[seen_index],y[seen_index])\n",
    "predictions = clf.predict(ab_X[unseen_index])"
   ]
  },
  {
   "cell_type": "code",
   "execution_count": 73,
   "metadata": {},
   "outputs": [],
   "source": [
    "for i,c in enumerate(classes):\n",
    "    df.loc[unseen_index,f\"{c} - prediction\"] = predictions[:,i]"
   ]
  },
  {
   "cell_type": "code",
   "execution_count": 76,
   "metadata": {},
   "outputs": [
    {
     "data": {
      "text/plain": [
       "['PY',\n",
       " 'content',\n",
       " 'id',\n",
       " 'relevant',\n",
       " 'seen',\n",
       " 'title',\n",
       " 'wosarticle__de',\n",
       " 'wosarticle__wc',\n",
       " '1 - Adaptation',\n",
       " '1 - Mitigation',\n",
       " '2 - Governance & policies',\n",
       " '3 - <hidden>tax/emission trading',\n",
       " '3 - Economic instruments',\n",
       " '3 - Goal setting',\n",
       " '3 - Government procurement & public services<hidden>',\n",
       " '3 - Information policies',\n",
       " '3 - Information<hidden>',\n",
       " '3 - International policies',\n",
       " '3 - Other<hidden>',\n",
       " '3 - Planning and public provisioning/services',\n",
       " '3 - Regulation<hidden>',\n",
       " '3 - Regulatory instruments',\n",
       " '3 - Subsidies<hidden>',\n",
       " '3 - Voluntary actions',\n",
       " '3 - voluntary agreement<hidden>',\n",
       " '4 - Behavioral interventions',\n",
       " '4 - Emissions trading ',\n",
       " '4 - Feed in tariffs',\n",
       " '4 - Financial mechanisms',\n",
       " '4 - Financial regulation & insurance',\n",
       " '4 - Government procurement',\n",
       " '4 - Infrastructure policy & management',\n",
       " '4 - Innovation policies',\n",
       " '4 - International agreements',\n",
       " '4 - Investments, credits and loans',\n",
       " '4 - Labeling and certificates /Consumption and production choices',\n",
       " '4 - Legal frameworks and implementation',\n",
       " '4 - Other governance services or programs',\n",
       " '4 - Other voluntary actions',\n",
       " '4 - Performance/ Appliance standards',\n",
       " '4 - Public information/ awareness campaigns',\n",
       " '4 - Rationing, bans & moratoria',\n",
       " '4 - Reports and assessments/ monitoring and evaluation',\n",
       " '4 - Spatial & land-use planning',\n",
       " '4 - Subsidy/compensation/ allowance',\n",
       " '4 - Targets & goals',\n",
       " '4 - Tax',\n",
       " '4 - Voluntary agreements',\n",
       " '5 - Company & organizations',\n",
       " '5 - Local',\n",
       " '5 - National',\n",
       " '5 - Sub-national/ regional',\n",
       " '5 - Supranational & international',\n",
       " 'prediction',\n",
       " '0 - relevance - prediction',\n",
       " '2 - Governance & policies - prediction',\n",
       " 'mit/ad',\n",
       " '1 - Mitigation - prediction',\n",
       " '1 - Adaptation - prediction',\n",
       " '3 - Economic instruments - prediction',\n",
       " '3 - Goal setting - prediction',\n",
       " '3 - Information policies - prediction',\n",
       " '3 - International policies - prediction',\n",
       " '3 - Planning and public provisioning/services - prediction',\n",
       " '3 - Regulatory instruments - prediction',\n",
       " '3 - Voluntary actions - prediction']"
      ]
     },
     "execution_count": 76,
     "metadata": {},
     "output_type": "execute_result"
    }
   ],
   "source": [
    "keep_columns = []\n",
    "for c in df.columns:\n",
    "    if \"k_prediction\" in c:\n",
    "        continue\n",
    "    keep_columns.append(c)\n",
    "    \n",
    "keep_columns"
   ]
  },
  {
   "cell_type": "code",
   "execution_count": 77,
   "metadata": {},
   "outputs": [],
   "source": [
    "df[keep_columns].to_csv('data/document_ratings.csv',index=False)"
   ]
  },
  {
   "cell_type": "code",
   "execution_count": null,
   "metadata": {},
   "outputs": [],
   "source": [
    "plt.close()\n",
    "\n",
    "df['prediction'] = None\n",
    "df.loc[unseen_index,'prediction'] = both_predictions\n",
    "\n",
    "fig, ax = plt.subplots()\n",
    "\n",
    "pdf = df.sort_values('prediction').reset_index(drop=True)\n",
    "ax.plot(pdf.index,pdf['prediction'])\n",
    "ax.axhline(0.5,linestyle=\"--\",color=\"grey\")\n",
    "\n",
    "rel = df[pdf['prediction']>0.5].shape[0]\n",
    "tot = pdf[pdf['prediction'].notna()].shape[0]\n",
    "\n",
    "\n",
    "print(f\"{rel} out of {tot} documents are predicted to be relevant\")\n",
    "\n",
    "df[['id','prediction']].to_csv(f'doctables/predictions_adaptation_mitigation_{now}.csv',index=False)\n",
    "\n",
    "plt.show()"
   ]
  },
  {
   "cell_type": "code",
   "execution_count": null,
   "metadata": {},
   "outputs": [],
   "source": [
    "tag, created = Tag.objects.get_or_create(\n",
    "    title=\"predicted mitigation&adaptation sample {}\".format(now),\n",
    "    query=q\n",
    ")\n",
    "tag.save()\n",
    "\n",
    "max_docs = 100\n",
    "docs_added = 0\n",
    "for i, row in df.sort_values('prediction',ascending=False).head(3500).reset_index(drop=True).iterrows():\n",
    "    d = Doc.objects.get(id=row['id'])\n",
    "    if d.docownership_set.filter(query=q).exists():\n",
    "        continue\n",
    "    else:\n",
    "        if docs_added < max_docs:\n",
    "            d.tag.add(tag)\n",
    "            docs_added+=1\n",
    "        else:\n",
    "            break  \n",
    "\n",
    "    \n",
    "tag.update_tag()"
   ]
  },
  {
   "cell_type": "markdown",
   "metadata": {},
   "source": [
    "### True positives and negatives for mitigation and adaptation"
   ]
  },
  {
   "cell_type": "code",
   "execution_count": null,
   "metadata": {},
   "outputs": [],
   "source": [
    "kf = KFold(n_splits=10)\n",
    "i=0\n",
    "all_mistakes = None\n",
    "df['mispredicted'] = 0\n",
    "df['fn_mit'] = 0\n",
    "df['fp_mit'] = 0\n",
    "df['fn_ad'] = 0\n",
    "df['fp_ad'] = 0\n",
    "\n",
    "\n",
    "all_fps = None\n",
    "all_fns = None\n",
    "\n",
    "classes = [\"Mitigation\",\"Adaptation\"]\n",
    "y = np.matrix(df[classes])\n",
    "y.shape\n",
    "\n",
    "for k_train, k_test in kf.split(seen_index):\n",
    "    k_train = seen_index[k_train]\n",
    "    k_test = seen_index[k_test]\n",
    "    \n",
    "    clf = OneVsRestClassifier(SVC(kernel='linear', class_weight=\"balanced\", probability=True))\n",
    "    clf.fit(ab_X[k_train],y[k_train])\n",
    "    \n",
    "    y_pred = clf.predict_proba(ab_X[k_test])\n",
    "    \n",
    "    \n",
    "    fnm = np.argwhere((np.array(y[k_test,0])[:,0]>0.5) & (y_pred[:,0] < 0.5))[:,0]\n",
    "    df.loc[k_test[fnm],'fn_mit'] = 1\n",
    "    fpm = np.argwhere((np.array(y[k_test,0])[:,0]<0.5) & (y_pred[:,0] > 0.5))[:,0]\n",
    "    df.loc[k_test[fpm],'fp_mit'] = 1\n",
    "    \n",
    "    fna = np.argwhere((np.array(y[k_test,1])[:,0]>0.5) & (y_pred[:,1] < 0.5))[:,0]\n",
    "    df.loc[k_test[fna],'fn_ad'] = 1\n",
    "    fpa = np.argwhere((np.array(y[k_test,1])[:,0]<0.5) & (y_pred[:,1] > 0.5))[:,0]\n",
    "    df.loc[k_test[fpa],'fp_ad'] = 1\n",
    "    \n",
    "    \n",
    "    mistakes = np.append(np.append(np.append(fpm,fnm),fna),fpa)\n",
    "    \n",
    "    df.loc[k_test[mistakes],'mispredicted'] = 1\n",
    "    \n"
   ]
  },
  {
   "cell_type": "code",
   "execution_count": null,
   "metadata": {},
   "outputs": [],
   "source": [
    "df[df['mispredicted']==1].shape"
   ]
  },
  {
   "cell_type": "code",
   "execution_count": null,
   "metadata": {
    "scrolled": true
   },
   "outputs": [],
   "source": [
    "tag, created = Tag.objects.get_or_create(\n",
    "    title=\"mitigation &/or adaptation false positives and negatives {}\".format(now),\n",
    "    query=q\n",
    ")\n",
    "tag.save()\n",
    "for i, row in df.query('mispredicted==1').iterrows():\n",
    "    d = Doc.objects.get(pk=row['id'])\n",
    "    d.tag.add(tag)\n",
    "tag.update_tag()"
   ]
  },
  {
   "cell_type": "code",
   "execution_count": null,
   "metadata": {},
   "outputs": [],
   "source": [
    "df.query('fn_mit==1|fp_mit==1').shape"
   ]
  },
  {
   "cell_type": "code",
   "execution_count": null,
   "metadata": {},
   "outputs": [],
   "source": [
    "tag, created = Tag.objects.get_or_create(\n",
    "    title=\"mitigation only false positives and negatives {}\".format(now),\n",
    "    query=q\n",
    ")\n",
    "tag.save()\n",
    "for i, row in df.query('fn_mit==1|fp_mit==1').iterrows():\n",
    "    d = Doc.objects.get(pk=row['id'])\n",
    "    d.tag.add(tag)\n",
    "tag.update_tag()"
   ]
  },
  {
   "cell_type": "code",
   "execution_count": null,
   "metadata": {},
   "outputs": [],
   "source": [
    "tag, created = Tag.objects.get_or_create(\n",
    "    title=\"adaptation only false positives and negatives {}\".format(now),\n",
    "    query=q\n",
    ")\n",
    "tag.save()\n",
    "for i, row in df.query('fn_ad==1|fp_ad==1').iterrows():\n",
    "    d = Doc.objects.get(pk=row['id'])\n",
    "    d.tag.add(tag)\n",
    "tag.update_tag()"
   ]
  },
  {
   "cell_type": "markdown",
   "metadata": {},
   "source": [
    "A discussion of the different metrics is provided here\n",
    "https://scikit-learn.org/stable/modules/model_evaluation.html#multilabel-ranking-metrics"
   ]
  },
  {
   "cell_type": "markdown",
   "metadata": {},
   "source": [
    "## Now we want to look at adaptation+policy"
   ]
  },
  {
   "cell_type": "code",
   "execution_count": null,
   "metadata": {},
   "outputs": [],
   "source": [
    "classes = [\"Mitigation\",\"Governance & policies\"]\n",
    "y = np.matrix(df[classes])\n",
    "y.shape"
   ]
  },
  {
   "cell_type": "code",
   "execution_count": null,
   "metadata": {},
   "outputs": [],
   "source": [
    "from sklearn.model_selection import KFold\n",
    "multimodels_adgov = [\n",
    "    {\n",
    "        'title': 'One vs rest SVC', \n",
    "        'model': OneVsRestClassifier(SVC(kernel='linear', probability=True))\n",
    "    },\n",
    "    {\n",
    "        'title': 'One vs rest SVC balanced', \n",
    "        'model': OneVsRestClassifier(SVC(kernel='linear', class_weight=\"balanced\", probability=True))\n",
    "    },\n",
    "]\n",
    "\n",
    "multimodels_adgov, metrics_adgov = lu.cross_validate_models(ab_X, y, multimodels_adgov, seen_index, classes=classes)\n"
   ]
  },
  {
   "cell_type": "code",
   "execution_count": null,
   "metadata": {},
   "outputs": [],
   "source": [
    "fig, axs = plt.subplots(1, len(multimodels),dpi=125,figsize=(8,5),sharey=True)              \n",
    "lu.plot_model_output(multimodels_adgov, metrics_adgov, fig, axs)\n",
    "plt.show()"
   ]
  },
  {
   "cell_type": "code",
   "execution_count": null,
   "metadata": {},
   "outputs": [],
   "source": [
    "clf = OneVsRestClassifier(SVC(kernel='linear', probability=True))\n",
    "\n",
    "clf.fit(ab_X[seen_index],y[seen_index])\n",
    "predictions = clf.predict_proba(ab_X[unseen_index])\n",
    "both_predictions = predictions.min(axis=1)"
   ]
  },
  {
   "cell_type": "code",
   "execution_count": null,
   "metadata": {},
   "outputs": [],
   "source": [
    "both_predictions"
   ]
  },
  {
   "cell_type": "code",
   "execution_count": null,
   "metadata": {},
   "outputs": [],
   "source": [
    "plt.close()\n",
    "\n",
    "df['prediction'] = None\n",
    "df.loc[unseen_index,'prediction'] = both_predictions\n",
    "\n",
    "fig, ax = plt.subplots()\n",
    "\n",
    "pdf = df.sort_values('prediction').reset_index(drop=True)\n",
    "ax.plot(pdf.index,pdf['prediction'])\n",
    "ax.axhline(0.5,linestyle=\"--\",color=\"grey\")\n",
    "\n",
    "rel = df[pdf['prediction']>0.5].shape[0]\n",
    "tot = pdf[pdf['prediction'].notna()].shape[0]\n",
    "\n",
    "\n",
    "print(f\"{rel} out of {tot} documents are predicted to be relevant\")\n",
    "\n",
    "df[['id','prediction']].to_csv(f'doctables/predictions_adaptation_policy_{now}.csv',index=False)\n",
    "\n",
    "plt.show()"
   ]
  },
  {
   "cell_type": "code",
   "execution_count": null,
   "metadata": {},
   "outputs": [],
   "source": [
    "now=datetime.datetime.now()\n",
    "tag, created = Tag.objects.get_or_create(\n",
    "    title=\"predicted adaptation&policy sample {}\".format(now),\n",
    "    query=q\n",
    ")\n",
    "tag.save()\n",
    "\n",
    "max_docs = 500\n",
    "docs_added = 0\n",
    "for i, row in df.sort_values('prediction',ascending=False).head(3500).reset_index(drop=True).iterrows():\n",
    "    d = Doc.objects.get(id=row['id'])\n",
    "    if d.docownership_set.filter(query=q).exists():\n",
    "        continue\n",
    "    else:\n",
    "        if docs_added < max_docs:\n",
    "            d.tag.add(tag)\n",
    "            docs_added+=1\n",
    "        else:\n",
    "            break  \n",
    "\n",
    "    \n",
    "tag.update_tag()"
   ]
  },
  {
   "cell_type": "code",
   "execution_count": null,
   "metadata": {},
   "outputs": [],
   "source": []
  },
  {
   "cell_type": "code",
   "execution_count": null,
   "metadata": {},
   "outputs": [],
   "source": [
    "madf = df[(df['Mitigation']==1) & (df['Adaptation']==1)]\n",
    "madf.shape\n",
    "\n",
    "tag, created = Tag.objects.get_or_create(\n",
    "    title=\"labelled adaptation&mitigation sample {}\".format(now),\n",
    "    query=q\n",
    ")\n",
    "tag.save()\n",
    "\n",
    "jan = User.objects.get(username=\"minj\")\n",
    "\n",
    "for i, row in madf.sample(100).iterrows():\n",
    "    d = Doc.objects.get(id=row['id'])\n",
    "    d.tag.add(tag)\n",
    "    do, created = DocOwnership.objects.get_or_create(\n",
    "        user = jan,\n",
    "        doc = d,\n",
    "        tag = tag\n",
    "    )\n",
    "    \n",
    "tag.update_tag()"
   ]
  },
  {
   "cell_type": "code",
   "execution_count": null,
   "metadata": {},
   "outputs": [],
   "source": []
  },
  {
   "cell_type": "code",
   "execution_count": null,
   "metadata": {},
   "outputs": [],
   "source": [
    "django.db.connection.close()\n",
    "cat_dict = {}\n",
    "for c in Category.objects.filter(project=p):\n",
    "    if c.child_category.exists():\n",
    "        cat_dict[c.name.replace('<hidden>','').strip()] = list(\n",
    "            c.child_category.values_list('name',flat = True)\n",
    "        )\n",
    "    \n",
    "cat_dict"
   ]
  },
  {
   "cell_type": "code",
   "execution_count": null,
   "metadata": {
    "scrolled": false
   },
   "outputs": [],
   "source": [
    "fig = plt.figure(figsize=(16,24),dpi=150)\n",
    "for i, (n, v) in enumerate(cat_dict.items()):\n",
    "    v = df.columns.intersection(v)\n",
    "    ax = fig.add_subplot(5,3,i+1)\n",
    "    pdf = df.loc[df['relevant']==1,v] \n",
    "    pdf['any'] = pdf.sum(axis=1)\n",
    "    ndocs = pdf['any'].astype(\"bool\").sum()\n",
    "    pdf = pdf[v].melt()\n",
    "    \n",
    "    pdf.groupby('variable').sum().plot.bar(ax=ax)\n",
    "    ax.set_xticklabels(ax.get_xticklabels(),rotation=45, ha=\"right\")\n",
    "    ax.set_title(f\"{n} - {ndocs} docs\")\n",
    "    \n",
    "fig.tight_layout()"
   ]
  },
  {
   "cell_type": "code",
   "execution_count": null,
   "metadata": {},
   "outputs": [],
   "source": [
    "classes = cat_dict['Governance & policies']\n",
    "y = np.matrix(df[classes])\n",
    "print(y.shape)"
   ]
  },
  {
   "cell_type": "code",
   "execution_count": null,
   "metadata": {},
   "outputs": [],
   "source": [
    "from sklearn.model_selection import KFold\n",
    "multimodels_gov = [\n",
    "    {\n",
    "        'title': 'One vs rest SVC', \n",
    "        'model': OneVsRestClassifier(SVC(kernel='linear', probability=True))\n",
    "    },\n",
    "    {\n",
    "        'title': 'One vs rest SVC balanced', \n",
    "        'model': OneVsRestClassifier(SVC(kernel='linear', class_weight=\"balanced\", probability=True))\n",
    "    },\n",
    "]\n",
    "\n",
    "multimodels_gov, metrics_gov = lu.cross_validate_models(ab_X, y, multimodels_gov, seen_index, classes=classes)"
   ]
  },
  {
   "cell_type": "code",
   "execution_count": null,
   "metadata": {},
   "outputs": [],
   "source": [
    "fig, axs = plt.subplots(1, len(multimodels_gov),dpi=125,figsize=(8,5),sharey=True)              \n",
    "lu.plot_model_output(multimodels_gov, metrics_gov, fig, axs)\n",
    "plt.show()"
   ]
  },
  {
   "cell_type": "code",
   "execution_count": null,
   "metadata": {},
   "outputs": [],
   "source": [
    "fig, axs = plt.subplots(1, len(multimodels_gov),dpi=125,figsize=(8,5),sharey=True)              \n",
    "lu.plot_model_output(multimodels_gov, m_metrics, fig, axs)\n",
    "plt.show()"
   ]
  },
  {
   "cell_type": "code",
   "execution_count": null,
   "metadata": {},
   "outputs": [],
   "source": [
    "model_df = pd.DataFrame(multimodels_gov)\n",
    "model_df.to_csv(f\"doctables/multimodels_gov_{now}.csv\",index=False)"
   ]
  }
 ],
 "metadata": {
  "kernelspec": {
   "display_name": "tmv",
   "language": "python",
   "name": "tmv"
  },
  "language_info": {
   "codemirror_mode": {
    "name": "ipython",
    "version": 3
   },
   "file_extension": ".py",
   "mimetype": "text/x-python",
   "name": "python",
   "nbconvert_exporter": "python",
   "pygments_lexer": "ipython3",
   "version": "3.6.7"
  },
  "varInspector": {
   "cols": {
    "lenName": 16,
    "lenType": 16,
    "lenVar": 40
   },
   "kernels_config": {
    "python": {
     "delete_cmd_postfix": "",
     "delete_cmd_prefix": "del ",
     "library": "var_list.py",
     "varRefreshCmd": "print(var_dic_list())"
    },
    "r": {
     "delete_cmd_postfix": ") ",
     "delete_cmd_prefix": "rm(",
     "library": "var_list.r",
     "varRefreshCmd": "cat(var_dic_list()) "
    }
   },
   "types_to_exclude": [
    "module",
    "function",
    "builtin_function_or_method",
    "instance",
    "_Feature"
   ],
   "window_display": false
  }
 },
 "nbformat": 4,
 "nbformat_minor": 2
}
