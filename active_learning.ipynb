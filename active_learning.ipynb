{
 "cells": [
  {
   "cell_type": "code",
   "execution_count": 24,
   "metadata": {},
   "outputs": [],
   "source": [
    "import matplotlib.pyplot as plt\n",
    "import numpy as np\n",
    "import pandas as pd\n",
    "import sys, os, django\n",
    "import math\n",
    "from sklearn.model_selection import KFold\n",
    "\n",
    "\n",
    "from sklearn.manifold import TSNE\n",
    "from sklearn.svm import SVC, OneClassSVM\n",
    "from sklearn.metrics import average_precision_score\n",
    "from sklearn.metrics import precision_recall_curve\n",
    "from sklearn.metrics import precision_score, recall_score\n",
    "\n",
    "from sklearn.decomposition import NMF\n",
    "from sklearn.naive_bayes import MultinomialNB\n",
    "from sklearn.linear_model import SGDClassifier\n",
    "\n",
    "from sklearn.feature_extraction.text import CountVectorizer, TfidfVectorizer\n",
    "from sklearn.model_selection import KFold\n",
    "from sklearn.neural_network import MLPClassifier\n",
    "from scipy.sparse import hstack\n",
    "\n",
    "sys.path.append('/home/galm/software/django/tmv/BasicBrowser/')\n",
    "os.environ.setdefault(\"DJANGO_SETTINGS_MODULE\", \"BasicBrowser.settings\")\n",
    "django.setup()\n",
    "\n",
    "from django.db.models import Q, F, Sum, Count, FloatField, Case, When, Value, Max\n",
    "from sklearn.manifold import TSNE\n",
    "from scoping.models import *\n",
    "from scoping.views import *\n",
    "\n",
    "import learning_utils\n",
    "import random\n",
    "\n",
    "\n",
    "double_figure = (7.2,7.2/8*5)\n",
    "plt.rc('font',size=7)\n",
    "plt.rc('axes',titlesize=7)\n",
    "plt.rc('axes',labelsize=7)\n",
    "plt.rc('xtick',labelsize=7)\n",
    "plt.rc('ytick',labelsize=7)\n",
    "plt.rc('legend',fontsize=7)\n",
    "plt.rc('figure',titlesize=7)"
   ]
  },
  {
   "cell_type": "markdown",
   "metadata": {},
   "source": [
    "## First we say what query and project we are interested in"
   ]
  },
  {
   "cell_type": "code",
   "execution_count": 3,
   "metadata": {},
   "outputs": [
    {
     "name": "stdout",
     "output_type": "stream",
     "text": [
      "94944\n"
     ]
    },
    {
     "data": {
      "text/plain": [
       "94944"
      ]
     },
     "execution_count": 3,
     "metadata": {},
     "output_type": "execute_result"
    }
   ],
   "source": [
    "pid = 217\n",
    "qid = 7966\n",
    "q = Query.objects.get(pk=qid)\n",
    "p = Project.objects.get(pk=pid)\n",
    "\n",
    "print(q.doc_set.count())\n",
    "q.r_count"
   ]
  },
  {
   "cell_type": "markdown",
   "metadata": {},
   "source": [
    "### And we retrieve those documents that have been screened in that query"
   ]
  },
  {
   "cell_type": "code",
   "execution_count": 37,
   "metadata": {},
   "outputs": [
    {
     "name": "stdout",
     "output_type": "stream",
     "text": [
      "94944\n"
     ]
    },
    {
     "data": {
      "text/plain": [
       "483"
      ]
     },
     "execution_count": 37,
     "metadata": {},
     "output_type": "execute_result"
    }
   ],
   "source": [
    "docs = Doc.objects.filter(query=q, content__iregex='\\w').values_list('pk', flat=True)\n",
    "\n",
    "print(docs.count())\n",
    "\n",
    "seen = set(DocOwnership.objects.filter(\n",
    "    query=q, \n",
    "    relevant__gt=0\n",
    ").values_list('doc__pk', flat=True))\n",
    "\n",
    "\n",
    "seen = seen & set(docs)\n",
    "\n",
    "seen_docs = Doc.objects.filter(pk__in=seen)\n",
    "seen_docs.count()"
   ]
  },
  {
   "cell_type": "markdown",
   "metadata": {},
   "source": [
    "### We have a separate list of documents in the query that have not been screened"
   ]
  },
  {
   "cell_type": "code",
   "execution_count": 5,
   "metadata": {},
   "outputs": [
    {
     "name": "stdout",
     "output_type": "stream",
     "text": [
      "(94461, 7)\n"
     ]
    },
    {
     "data": {
      "text/html": [
       "<div>\n",
       "<style scoped>\n",
       "    .dataframe tbody tr th:only-of-type {\n",
       "        vertical-align: middle;\n",
       "    }\n",
       "\n",
       "    .dataframe tbody tr th {\n",
       "        vertical-align: top;\n",
       "    }\n",
       "\n",
       "    .dataframe thead th {\n",
       "        text-align: right;\n",
       "    }\n",
       "</style>\n",
       "<table border=\"1\" class=\"dataframe\">\n",
       "  <thead>\n",
       "    <tr style=\"text-align: right;\">\n",
       "      <th></th>\n",
       "      <th>id</th>\n",
       "      <th>content</th>\n",
       "      <th>title</th>\n",
       "      <th>wosarticle__de</th>\n",
       "      <th>wosarticle__wc</th>\n",
       "      <th>relevant</th>\n",
       "      <th>seen</th>\n",
       "    </tr>\n",
       "  </thead>\n",
       "  <tbody>\n",
       "    <tr>\n",
       "      <th>0</th>\n",
       "      <td>4</td>\n",
       "      <td>In America, entertainment celebrities have ent...</td>\n",
       "      <td>From sidekick to sideshow - Celebrity, enterta...</td>\n",
       "      <td>politics of distraction; celebrity politics; c...</td>\n",
       "      <td>[Psychology, Clinical; Social Sciences, Interd...</td>\n",
       "      <td>0</td>\n",
       "      <td>0</td>\n",
       "    </tr>\n",
       "    <tr>\n",
       "      <th>1</th>\n",
       "      <td>20</td>\n",
       "      <td>The responsiveness of South African fauna to c...</td>\n",
       "      <td>Vulnerability of South African animal taxa to ...</td>\n",
       "      <td>conservation; fragmentation; land-use; range c...</td>\n",
       "      <td>[Biodiversity Conservation; Ecology; Environme...</td>\n",
       "      <td>0</td>\n",
       "      <td>0</td>\n",
       "    </tr>\n",
       "    <tr>\n",
       "      <th>2</th>\n",
       "      <td>29</td>\n",
       "      <td>In an stylized endogenous growth economy with ...</td>\n",
       "      <td>Optimal green tax reforms yielding double divi...</td>\n",
       "      <td>Double dividend; Emissions tax; Dynamic Laffer...</td>\n",
       "      <td>[Economics; Energy &amp; Fuels; Environmental Scie...</td>\n",
       "      <td>0</td>\n",
       "      <td>0</td>\n",
       "    </tr>\n",
       "    <tr>\n",
       "      <th>3</th>\n",
       "      <td>65</td>\n",
       "      <td>The world's increasing need is to develop smar...</td>\n",
       "      <td>Synthesis of a Cementitious Material Nanocemen...</td>\n",
       "      <td>None</td>\n",
       "      <td>[Nanoscience &amp; Nanotechnology; Materials Scien...</td>\n",
       "      <td>0</td>\n",
       "      <td>0</td>\n",
       "    </tr>\n",
       "    <tr>\n",
       "      <th>4</th>\n",
       "      <td>74</td>\n",
       "      <td>Numerous epidemiological studies have demonstr...</td>\n",
       "      <td>Particulate matter in the indoor air of classr...</td>\n",
       "      <td>indoor; schools; classrooms; particulate matte...</td>\n",
       "      <td>[Environmental Sciences; Meteorology &amp; Atmosph...</td>\n",
       "      <td>0</td>\n",
       "      <td>0</td>\n",
       "    </tr>\n",
       "  </tbody>\n",
       "</table>\n",
       "</div>"
      ],
      "text/plain": [
       "   id                                            content  \\\n",
       "0   4  In America, entertainment celebrities have ent...   \n",
       "1  20  The responsiveness of South African fauna to c...   \n",
       "2  29  In an stylized endogenous growth economy with ...   \n",
       "3  65  The world's increasing need is to develop smar...   \n",
       "4  74  Numerous epidemiological studies have demonstr...   \n",
       "\n",
       "                                               title  \\\n",
       "0  From sidekick to sideshow - Celebrity, enterta...   \n",
       "1  Vulnerability of South African animal taxa to ...   \n",
       "2  Optimal green tax reforms yielding double divi...   \n",
       "3  Synthesis of a Cementitious Material Nanocemen...   \n",
       "4  Particulate matter in the indoor air of classr...   \n",
       "\n",
       "                                      wosarticle__de  \\\n",
       "0  politics of distraction; celebrity politics; c...   \n",
       "1  conservation; fragmentation; land-use; range c...   \n",
       "2  Double dividend; Emissions tax; Dynamic Laffer...   \n",
       "3                                               None   \n",
       "4  indoor; schools; classrooms; particulate matte...   \n",
       "\n",
       "                                      wosarticle__wc  relevant  seen  \n",
       "0  [Psychology, Clinical; Social Sciences, Interd...         0     0  \n",
       "1  [Biodiversity Conservation; Ecology; Environme...         0     0  \n",
       "2  [Economics; Energy & Fuels; Environmental Scie...         0     0  \n",
       "3  [Nanoscience & Nanotechnology; Materials Scien...         0     0  \n",
       "4  [Environmental Sciences; Meteorology & Atmosph...         0     0  "
      ]
     },
     "execution_count": 5,
     "metadata": {},
     "output_type": "execute_result"
    }
   ],
   "source": [
    "unseen_docs = docs.exclude(pk__in=seen).distinct('id')\n",
    "\n",
    "unseen_docs.count()\n",
    "\n",
    "columns = [\n",
    "    'id',\n",
    "    'content',\n",
    "    'title',\n",
    "    'wosarticle__de',\n",
    "    'wosarticle__wc'\n",
    "]\n",
    "\n",
    "unseen_df = pd.DataFrame.from_dict(list(unseen_docs.values(*columns)))\n",
    "unseen_df = unseen_df[columns]\n",
    "unseen_df['relevant'] = 0\n",
    "unseen_df['seen'] = 0\n",
    "\n",
    "print(unseen_df.shape)\n",
    "unseen_df.head()"
   ]
  },
  {
   "cell_type": "markdown",
   "metadata": {},
   "source": [
    "### We gather the screening decisions (relevant=1, not relevant=0) and make a dataframe from them"
   ]
  },
  {
   "cell_type": "code",
   "execution_count": 6,
   "metadata": {},
   "outputs": [
    {
     "name": "stdout",
     "output_type": "stream",
     "text": [
      "(483, 7)\n"
     ]
    },
    {
     "data": {
      "text/html": [
       "<div>\n",
       "<style scoped>\n",
       "    .dataframe tbody tr th:only-of-type {\n",
       "        vertical-align: middle;\n",
       "    }\n",
       "\n",
       "    .dataframe tbody tr th {\n",
       "        vertical-align: top;\n",
       "    }\n",
       "\n",
       "    .dataframe thead th {\n",
       "        text-align: right;\n",
       "    }\n",
       "</style>\n",
       "<table border=\"1\" class=\"dataframe\">\n",
       "  <thead>\n",
       "    <tr style=\"text-align: right;\">\n",
       "      <th></th>\n",
       "      <th>id</th>\n",
       "      <th>content</th>\n",
       "      <th>title</th>\n",
       "      <th>wosarticle__de</th>\n",
       "      <th>wosarticle__wc</th>\n",
       "      <th>relevant</th>\n",
       "      <th>seen</th>\n",
       "    </tr>\n",
       "  </thead>\n",
       "  <tbody>\n",
       "    <tr>\n",
       "      <th>0</th>\n",
       "      <td>6212</td>\n",
       "      <td>Carbon (C) sequestration, defined as the proce...</td>\n",
       "      <td>Mechanisms of C sequestration in soils of Lati...</td>\n",
       "      <td>carbon sequestration; soil organic carbon; soi...</td>\n",
       "      <td>[Plant Sciences]</td>\n",
       "      <td>1</td>\n",
       "      <td>1</td>\n",
       "    </tr>\n",
       "    <tr>\n",
       "      <th>1</th>\n",
       "      <td>11056</td>\n",
       "      <td>Between 2005 and 2010, 6.3 million migrants (a...</td>\n",
       "      <td>The Influence of Internal Migration on Exposur...</td>\n",
       "      <td>Climate change; environment; exposure; Mexico;...</td>\n",
       "      <td>[Development Studies; Environmental Studies; R...</td>\n",
       "      <td>1</td>\n",
       "      <td>1</td>\n",
       "    </tr>\n",
       "    <tr>\n",
       "      <th>2</th>\n",
       "      <td>31242</td>\n",
       "      <td>1. Rates of methanogenesis in freshwater sedim...</td>\n",
       "      <td>Phytoplankton lipid content influences freshwa...</td>\n",
       "      <td>eutrophication; lakes; lipid; methane; phytopl...</td>\n",
       "      <td>[Ecology; Marine &amp; Freshwater Biology]</td>\n",
       "      <td>0</td>\n",
       "      <td>1</td>\n",
       "    </tr>\n",
       "    <tr>\n",
       "      <th>3</th>\n",
       "      <td>34465</td>\n",
       "      <td>Eutrophication of lakes and the risk of harmfu...</td>\n",
       "      <td>Climate change, cyanobacteria blooms and ecolo...</td>\n",
       "      <td>Phytoplankton; Biological indicators; Eutrophi...</td>\n",
       "      <td>[Ecology]</td>\n",
       "      <td>1</td>\n",
       "      <td>1</td>\n",
       "    </tr>\n",
       "    <tr>\n",
       "      <th>4</th>\n",
       "      <td>42249</td>\n",
       "      <td>The North American Regional Reanalysis (NARR) ...</td>\n",
       "      <td>NARR's Atmospheric Water Cycle Components. Par...</td>\n",
       "      <td>None</td>\n",
       "      <td>[Meteorology &amp; Atmospheric Sciences]</td>\n",
       "      <td>0</td>\n",
       "      <td>1</td>\n",
       "    </tr>\n",
       "  </tbody>\n",
       "</table>\n",
       "</div>"
      ],
      "text/plain": [
       "      id                                            content  \\\n",
       "0   6212  Carbon (C) sequestration, defined as the proce...   \n",
       "1  11056  Between 2005 and 2010, 6.3 million migrants (a...   \n",
       "2  31242  1. Rates of methanogenesis in freshwater sedim...   \n",
       "3  34465  Eutrophication of lakes and the risk of harmfu...   \n",
       "4  42249  The North American Regional Reanalysis (NARR) ...   \n",
       "\n",
       "                                               title  \\\n",
       "0  Mechanisms of C sequestration in soils of Lati...   \n",
       "1  The Influence of Internal Migration on Exposur...   \n",
       "2  Phytoplankton lipid content influences freshwa...   \n",
       "3  Climate change, cyanobacteria blooms and ecolo...   \n",
       "4  NARR's Atmospheric Water Cycle Components. Par...   \n",
       "\n",
       "                                      wosarticle__de  \\\n",
       "0  carbon sequestration; soil organic carbon; soi...   \n",
       "1  Climate change; environment; exposure; Mexico;...   \n",
       "2  eutrophication; lakes; lipid; methane; phytopl...   \n",
       "3  Phytoplankton; Biological indicators; Eutrophi...   \n",
       "4                                               None   \n",
       "\n",
       "                                      wosarticle__wc  relevant  seen  \n",
       "0                                   [Plant Sciences]         1     1  \n",
       "1  [Development Studies; Environmental Studies; R...         1     1  \n",
       "2             [Ecology; Marine & Freshwater Biology]         0     1  \n",
       "3                                          [Ecology]         1     1  \n",
       "4               [Meteorology & Atmospheric Sciences]         0     1  "
      ]
     },
     "execution_count": 6,
     "metadata": {},
     "output_type": "execute_result"
    }
   ],
   "source": [
    "rated = list(seen_docs.values(*columns))\n",
    "r_docs = []\n",
    "for r in rated:\n",
    "    d = Doc.objects.get(pk=r['id'])\n",
    "\n",
    "    dos = DocOwnership.objects.filter(\n",
    "        query__project=p,doc=d,relevant__gt=0,\n",
    "    ).values_list('relevant',flat=True)\n",
    "    if not dos.exists():\n",
    "        dos = DocOwnership.objects.filter(\n",
    "            project=p,doc=d,relevant__gt=0,\n",
    "        ).values_list('relevant',flat=True)            \n",
    "    if len(set(dos))==1: # If there is only one value (all ratings agree)\n",
    "        if dos[0] == 1:\n",
    "            r['relevant'] = 1\n",
    "        elif dos[0] == 2 or dos[0] == 4:\n",
    "            r['relevant'] = 0\n",
    "        else:\n",
    "            continue\n",
    "        r_docs.append(r)\n",
    "    \n",
    "        \n",
    "seen_df = pd.DataFrame.from_dict(r_docs)\n",
    "seen_df = seen_df[columns + [\"relevant\"]]\n",
    "seen_df['seen'] = 1\n",
    "print(seen_df.shape)\n",
    "seen_df.head()"
   ]
  },
  {
   "cell_type": "markdown",
   "metadata": {},
   "source": [
    "### And we merge the two, with a column \"seen\" recording if a document has been seen or not"
   ]
  },
  {
   "cell_type": "code",
   "execution_count": 7,
   "metadata": {},
   "outputs": [
    {
     "data": {
      "text/html": [
       "<div>\n",
       "<style scoped>\n",
       "    .dataframe tbody tr th:only-of-type {\n",
       "        vertical-align: middle;\n",
       "    }\n",
       "\n",
       "    .dataframe tbody tr th {\n",
       "        vertical-align: top;\n",
       "    }\n",
       "\n",
       "    .dataframe thead th {\n",
       "        text-align: right;\n",
       "    }\n",
       "</style>\n",
       "<table border=\"1\" class=\"dataframe\">\n",
       "  <thead>\n",
       "    <tr style=\"text-align: right;\">\n",
       "      <th></th>\n",
       "      <th>id</th>\n",
       "      <th>content</th>\n",
       "      <th>title</th>\n",
       "      <th>wosarticle__de</th>\n",
       "      <th>wosarticle__wc</th>\n",
       "      <th>relevant</th>\n",
       "      <th>seen</th>\n",
       "    </tr>\n",
       "  </thead>\n",
       "  <tbody>\n",
       "    <tr>\n",
       "      <th>0</th>\n",
       "      <td>272872</td>\n",
       "      <td>Semi-sessile Mytilus mussels are used as indic...</td>\n",
       "      <td>A first report on coexistence and hybridizatio...</td>\n",
       "      <td>Mytilus edulis; M. trossulus; Population struc...</td>\n",
       "      <td>[Biodiversity Conservation; Ecology]</td>\n",
       "      <td>0</td>\n",
       "      <td>0</td>\n",
       "    </tr>\n",
       "    <tr>\n",
       "      <th>1</th>\n",
       "      <td>1060263</td>\n",
       "      <td>Empirical findings on actors' roles and respon...</td>\n",
       "      <td>The Stimuli-Actions-Effects-Responses (SAER)-f...</td>\n",
       "      <td>Climate change perception; Private adaptation;...</td>\n",
       "      <td>[Environmental Sciences]</td>\n",
       "      <td>0</td>\n",
       "      <td>0</td>\n",
       "    </tr>\n",
       "    <tr>\n",
       "      <th>2</th>\n",
       "      <td>266357</td>\n",
       "      <td>In the UK, the Standard Assessment Procedure (...</td>\n",
       "      <td>Key factors determining the energy rating of e...</td>\n",
       "      <td>building stock; energy rating; global sensitiv...</td>\n",
       "      <td>[Construction &amp; Building Technology]</td>\n",
       "      <td>0</td>\n",
       "      <td>0</td>\n",
       "    </tr>\n",
       "    <tr>\n",
       "      <th>3</th>\n",
       "      <td>773692</td>\n",
       "      <td>This paper investigates the performance of an ...</td>\n",
       "      <td>Performance analysis of an experimental smart ...</td>\n",
       "      <td>Zero-carbon emissions; Green buildings; Built ...</td>\n",
       "      <td>[Thermodynamics; Energy &amp; Fuels]</td>\n",
       "      <td>0</td>\n",
       "      <td>0</td>\n",
       "    </tr>\n",
       "    <tr>\n",
       "      <th>4</th>\n",
       "      <td>647574</td>\n",
       "      <td>Equitable access to sustainable development (E...</td>\n",
       "      <td>Equitable access to sustainable development: o...</td>\n",
       "      <td>burden sharing; equity; mitigation; sustainabl...</td>\n",
       "      <td>[Environmental Studies; Public Administration]</td>\n",
       "      <td>0</td>\n",
       "      <td>0</td>\n",
       "    </tr>\n",
       "  </tbody>\n",
       "</table>\n",
       "</div>"
      ],
      "text/plain": [
       "        id                                            content  \\\n",
       "0   272872  Semi-sessile Mytilus mussels are used as indic...   \n",
       "1  1060263  Empirical findings on actors' roles and respon...   \n",
       "2   266357  In the UK, the Standard Assessment Procedure (...   \n",
       "3   773692  This paper investigates the performance of an ...   \n",
       "4   647574  Equitable access to sustainable development (E...   \n",
       "\n",
       "                                               title  \\\n",
       "0  A first report on coexistence and hybridizatio...   \n",
       "1  The Stimuli-Actions-Effects-Responses (SAER)-f...   \n",
       "2  Key factors determining the energy rating of e...   \n",
       "3  Performance analysis of an experimental smart ...   \n",
       "4  Equitable access to sustainable development: o...   \n",
       "\n",
       "                                      wosarticle__de  \\\n",
       "0  Mytilus edulis; M. trossulus; Population struc...   \n",
       "1  Climate change perception; Private adaptation;...   \n",
       "2  building stock; energy rating; global sensitiv...   \n",
       "3  Zero-carbon emissions; Green buildings; Built ...   \n",
       "4  burden sharing; equity; mitigation; sustainabl...   \n",
       "\n",
       "                                   wosarticle__wc  relevant  seen  \n",
       "0            [Biodiversity Conservation; Ecology]         0     0  \n",
       "1                        [Environmental Sciences]         0     0  \n",
       "2            [Construction & Building Technology]         0     0  \n",
       "3                [Thermodynamics; Energy & Fuels]         0     0  \n",
       "4  [Environmental Studies; Public Administration]         0     0  "
      ]
     },
     "execution_count": 7,
     "metadata": {},
     "output_type": "execute_result"
    }
   ],
   "source": [
    "df = pd.concat([seen_df,unseen_df]).sample(frac=1).reset_index(drop=True)\n",
    "y = df['relevant']\n",
    "df.head()"
   ]
  },
  {
   "cell_type": "markdown",
   "metadata": {},
   "source": [
    "### We also get the assignments of these documents to categories, and add these as further columns in our dataframe"
   ]
  },
  {
   "cell_type": "code",
   "execution_count": 13,
   "metadata": {},
   "outputs": [
    {
     "data": {
      "text/html": [
       "<div>\n",
       "<style scoped>\n",
       "    .dataframe tbody tr th:only-of-type {\n",
       "        vertical-align: middle;\n",
       "    }\n",
       "\n",
       "    .dataframe tbody tr th {\n",
       "        vertical-align: top;\n",
       "    }\n",
       "\n",
       "    .dataframe thead th {\n",
       "        text-align: right;\n",
       "    }\n",
       "</style>\n",
       "<table border=\"1\" class=\"dataframe\">\n",
       "  <thead>\n",
       "    <tr style=\"text-align: right;\">\n",
       "      <th>category__name</th>\n",
       "      <th>id</th>\n",
       "      <th>Adaptation</th>\n",
       "      <th>Governance &amp; policies</th>\n",
       "      <th>Government procurement &amp; public services</th>\n",
       "      <th>Information</th>\n",
       "      <th>Mitigation</th>\n",
       "      <th>Other</th>\n",
       "      <th>Regulation</th>\n",
       "      <th>Subsidies</th>\n",
       "      <th>tax/emission trading</th>\n",
       "      <th>voluntary agreement</th>\n",
       "    </tr>\n",
       "  </thead>\n",
       "  <tbody>\n",
       "    <tr>\n",
       "      <th>0</th>\n",
       "      <td>6212</td>\n",
       "      <td>0.0</td>\n",
       "      <td>0.0</td>\n",
       "      <td>0.0</td>\n",
       "      <td>0.0</td>\n",
       "      <td>1.0</td>\n",
       "      <td>0.0</td>\n",
       "      <td>0.0</td>\n",
       "      <td>0.0</td>\n",
       "      <td>0.0</td>\n",
       "      <td>0.0</td>\n",
       "    </tr>\n",
       "    <tr>\n",
       "      <th>1</th>\n",
       "      <td>11056</td>\n",
       "      <td>1.0</td>\n",
       "      <td>0.0</td>\n",
       "      <td>0.0</td>\n",
       "      <td>0.0</td>\n",
       "      <td>1.0</td>\n",
       "      <td>0.0</td>\n",
       "      <td>0.0</td>\n",
       "      <td>0.0</td>\n",
       "      <td>0.0</td>\n",
       "      <td>0.0</td>\n",
       "    </tr>\n",
       "    <tr>\n",
       "      <th>2</th>\n",
       "      <td>34465</td>\n",
       "      <td>1.0</td>\n",
       "      <td>0.0</td>\n",
       "      <td>0.0</td>\n",
       "      <td>0.0</td>\n",
       "      <td>1.0</td>\n",
       "      <td>0.0</td>\n",
       "      <td>0.0</td>\n",
       "      <td>0.0</td>\n",
       "      <td>0.0</td>\n",
       "      <td>0.0</td>\n",
       "    </tr>\n",
       "    <tr>\n",
       "      <th>3</th>\n",
       "      <td>46961</td>\n",
       "      <td>0.0</td>\n",
       "      <td>1.0</td>\n",
       "      <td>0.0</td>\n",
       "      <td>0.0</td>\n",
       "      <td>1.0</td>\n",
       "      <td>0.0</td>\n",
       "      <td>0.0</td>\n",
       "      <td>1.0</td>\n",
       "      <td>0.0</td>\n",
       "      <td>0.0</td>\n",
       "    </tr>\n",
       "    <tr>\n",
       "      <th>4</th>\n",
       "      <td>62159</td>\n",
       "      <td>1.0</td>\n",
       "      <td>1.0</td>\n",
       "      <td>1.0</td>\n",
       "      <td>0.0</td>\n",
       "      <td>1.0</td>\n",
       "      <td>0.0</td>\n",
       "      <td>0.0</td>\n",
       "      <td>1.0</td>\n",
       "      <td>0.0</td>\n",
       "      <td>0.0</td>\n",
       "    </tr>\n",
       "  </tbody>\n",
       "</table>\n",
       "</div>"
      ],
      "text/plain": [
       "category__name     id  Adaptation  Governance & policies  \\\n",
       "0                6212         0.0                    0.0   \n",
       "1               11056         1.0                    0.0   \n",
       "2               34465         1.0                    0.0   \n",
       "3               46961         0.0                    1.0   \n",
       "4               62159         1.0                    1.0   \n",
       "\n",
       "category__name  Government procurement & public services  Information  \\\n",
       "0                                                    0.0          0.0   \n",
       "1                                                    0.0          0.0   \n",
       "2                                                    0.0          0.0   \n",
       "3                                                    0.0          0.0   \n",
       "4                                                    1.0          0.0   \n",
       "\n",
       "category__name  Mitigation  Other  Regulation  Subsidies  \\\n",
       "0                      1.0    0.0         0.0        0.0   \n",
       "1                      1.0    0.0         0.0        0.0   \n",
       "2                      1.0    0.0         0.0        0.0   \n",
       "3                      1.0    0.0         0.0        1.0   \n",
       "4                      1.0    0.0         0.0        1.0   \n",
       "\n",
       "category__name  tax/emission trading  voluntary agreement  \n",
       "0                                0.0                  0.0  \n",
       "1                                0.0                  0.0  \n",
       "2                                0.0                  0.0  \n",
       "3                                0.0                  0.0  \n",
       "4                                0.0                  0.0  "
      ]
     },
     "execution_count": 13,
     "metadata": {},
     "output_type": "execute_result"
    }
   ],
   "source": [
    "cats = Category.objects.filter(project=p)\n",
    "ldf = pd.DataFrame.from_dict(list(seen_docs.filter(\n",
    "    category__in=cats\n",
    ").values('id','category__name')))\n",
    "ldf['v'] = 1\n",
    "\n",
    "df = pd.merge(df, cat_map, how=\"left\").fillna(0)\n",
    "print(df.shape)\n",
    "df.head()"
   ]
  },
  {
   "cell_type": "markdown",
   "metadata": {},
   "source": [
    "### We have a look at the distribution of relevant and not relevant documents"
   ]
  },
  {
   "cell_type": "code",
   "execution_count": 42,
   "metadata": {},
   "outputs": [
    {
     "data": {
      "text/plain": [
       "<matplotlib.text.Text at 0x7f623d1da198>"
      ]
     },
     "execution_count": 42,
     "metadata": {},
     "output_type": "execute_result"
    },
    {
     "data": {
      "image/png": "[encoded data removed]",
      "text/plain": [
       "<matplotlib.figure.Figure at 0x7f623d315b38>"
      ]
     },
     "metadata": {},
     "output_type": "display_data"
    }
   ],
   "source": [
    "fig, ax = plt.subplots()\n",
    "n = seen_df.shape[0]\n",
    "y = df['relevant']\n",
    "for i, (name, group) in enumerate(seen_df.groupby('relevant')):\n",
    "    ax.bar(i, group.shape[0])\n",
    "    ax.text(i, group.shape[0]+n*0.02, f'{group.shape[0]/n:.0%}',ha=\"center\")\n",
    "\n",
    "ax.set_xticks([0,1])\n",
    "ax.set_ylim(ymax=ax.get_ylim()[1]*1.05)\n",
    "ax.set_xlabel('Relevance')\n",
    "ax.set_ylabel('Number of documents')"
   ]
  },
  {
   "cell_type": "markdown",
   "metadata": {},
   "source": [
    "### Now we \"vectorize\" the data, representing each document as a weighted count of its words and phrases (bag of words and bigrams)"
   ]
  },
  {
   "cell_type": "code",
   "execution_count": 22,
   "metadata": {},
   "outputs": [
    {
     "name": "stderr",
     "output_type": "stream",
     "text": [
      "/home/galm/software/django/tmv/venv/lib/python3.6/site-packages/sklearn/feature_extraction/text.py:300: UserWarning: Your stop_words may be inconsistent with your preprocessing. Tokenizing the stop words generated tokens ['make'] not in stop_words.\n",
      "  'stop_words.' % sorted(inconsistent))\n"
     ]
    }
   ],
   "source": [
    "vec = TfidfVectorizer(\n",
    "    ngram_range=(1,2),\n",
    "    min_df=20, max_df=0.8, strip_accents='unicode', \n",
    "    max_features=10000,\n",
    "    use_idf=1,\n",
    "    smooth_idf=1, sublinear_tf=1,\n",
    "    stop_words=\"english\",tokenizer=learning_utils.tokenize\n",
    ")\n",
    "\n",
    "ab_X = vec.fit_transform(df['content'])"
   ]
  },
  {
   "cell_type": "markdown",
   "metadata": {},
   "source": [
    "### We build 3 types of classifiers, and test these with k-fold cross validation"
   ]
  },
  {
   "cell_type": "code",
   "execution_count": 26,
   "metadata": {},
   "outputs": [],
   "source": [
    "from sklearn.model_selection import KFold\n",
    "models = [\n",
    "    {\n",
    "        'title': 'SVM', \n",
    "        'model': SVC(kernel='linear',class_weight='balanced',probability=True)\n",
    "    },\n",
    "    {\n",
    "        'title':\"Neural Net\",\n",
    "        'model': MLPClassifier(\n",
    "            solver='lbfgs', \n",
    "            alpha=0.1,\n",
    "            hidden_layer_sizes=(10), \n",
    "            random_state=1\n",
    "        )\n",
    "    },\n",
    "    {\n",
    "        'title': 'Naive Bayes', \n",
    "        'model': MultinomialNB(alpha=0.1)     \n",
    "    }\n",
    "]\n",
    "\n",
    "for model in models:\n",
    "    model['p'] = []\n",
    "    model['r'] = []\n",
    "    model['e'] = []\n",
    "    model['i'] = []\n",
    "\n",
    "kf = KFold(n_splits=10)\n",
    "i=0\n",
    "for k_train, k_test in kf.split(seen_index):\n",
    "    k_train = seen_index[k_train]\n",
    "    k_test = seen_index[k_test]\n",
    "    i+=1\n",
    "    for model in models:\n",
    "        clf = model['model']\n",
    "        model['i'].append(i)\n",
    "        #clf = SVC(kernel='rbf',probability=True)\n",
    "        clf.fit(ab_X[k_train],y[k_train])\n",
    "        predictions = clf.predict(ab_X[k_test])\n",
    "        model['e'].append(clf.score(ab_X[k_test],y[k_test]))\n",
    "        # Precision\n",
    "        model['p'].append(precision_score(predictions,y[k_test]))\n",
    "        # Recall\n",
    "        model['r'].append(recall_score(predictions,y[k_test]))"
   ]
  },
  {
   "cell_type": "code",
   "execution_count": 27,
   "metadata": {},
   "outputs": [
    {
     "name": "stderr",
     "output_type": "stream",
     "text": [
      "/home/galm/software/django/tmv/venv/lib/python3.6/site-packages/matplotlib/axes/_axes.py:545: UserWarning: No labelled objects found. Use label='...' kwarg on individual plots.\n",
      "  warnings.warn(\"No labelled objects found. \"\n"
     ]
    },
    {
     "data": {
      "image/png": "[encoded data removed]",
      "text/plain": [
       "<matplotlib.figure.Figure at 0x7f6239d57e10>"
      ]
     },
     "metadata": {},
     "output_type": "display_data"
    }
   ],
   "source": [
    "plt.rcParams['grid.linestyle'] = \"--\"\n",
    "fig, axs = plt.subplots(1,3,dpi=125,figsize=double_figure,sharey=True)\n",
    "for i, model in enumerate(models):\n",
    "    ax = axs[i]\n",
    "    ax.boxplot([model['p'],model['r'], model['e']])\n",
    "    \n",
    "    for i,s in enumerate(['p','r','e']):\n",
    "        y = model[s]\n",
    "        x = np.random.normal(i+1, 0.04, size=len(y))\n",
    "        ax.plot(x, y, 'r.', alpha=0.2)\n",
    "    \n",
    "    ax.set_xticklabels(['Precision', 'Recall','Accuracy'])\n",
    "    \n",
    "    ax.set_title(f'{model[\"title\"]} mean accuracy {np.mean(model[\"e\"]):.0%}')\n",
    "    ax.grid()\n",
    "    ax.legend()\n",
    "    \n",
    "plt.show()"
   ]
  },
  {
   "cell_type": "markdown",
   "metadata": {},
   "source": [
    "### We can choose the best performing model (for our purposes) and fit it on our unseen data, in order to predict the probability that our unseen documents are relevant"
   ]
  },
  {
   "cell_type": "code",
   "execution_count": 43,
   "metadata": {},
   "outputs": [],
   "source": [
    "clf =  MLPClassifier(\n",
    "            solver='lbfgs', \n",
    "            alpha=0.1,\n",
    "            hidden_layer_sizes=(10), \n",
    "            random_state=1\n",
    "        )\n",
    "\n",
    "clf = SVC(kernel='linear',class_weight='balanced',probability=True)\n",
    "\n",
    "\n",
    "clf.fit(ab_X[seen_index],y[seen_index])\n",
    "\n",
    "y_pred = clf.predict_proba(ab_X[unseen_index])"
   ]
  },
  {
   "cell_type": "code",
   "execution_count": 45,
   "metadata": {},
   "outputs": [
    {
     "name": "stdout",
     "output_type": "stream",
     "text": [
      "73341 out of 94461 documents are predicted to be relevant\n"
     ]
    },
    {
     "data": {
      "image/png": "[encoded data removed]",
      "text/plain": [
       "<matplotlib.figure.Figure at 0x7f6218063b70>"
      ]
     },
     "metadata": {},
     "output_type": "display_data"
    }
   ],
   "source": [
    "plt.close()\n",
    "\n",
    "df['prediction'] = None\n",
    "df.loc[unseen_index,'prediction'] = y_pred[:,1]\n",
    "\n",
    "fig, ax = plt.subplots()\n",
    "\n",
    "pdf = df.sort_values('prediction').reset_index(drop=True)\n",
    "ax.plot(pdf.index,pdf['prediction'])\n",
    "ax.axhline(0.5,linestyle=\"--\",color=\"grey\")\n",
    "\n",
    "rel = df[pdf['prediction']>0.5].shape[0]\n",
    "tot = pdf[pdf['prediction'].notna()].shape[0]\n",
    "\n",
    "\n",
    "print(f\"{rel} out of {tot} documents are predicted to be relevant\")\n",
    "\n",
    "plt.show()"
   ]
  },
  {
   "cell_type": "markdown",
   "metadata": {},
   "source": [
    "### Now we make a new random sample"
   ]
  },
  {
   "cell_type": "code",
   "execution_count": 46,
   "metadata": {},
   "outputs": [],
   "source": [
    "now = datetime.datetime.now().strftime(\"%Y-%m-%d %H:%M\")"
   ]
  },
  {
   "cell_type": "code",
   "execution_count": 54,
   "metadata": {
    "scrolled": false
   },
   "outputs": [],
   "source": [
    "t1, created = Tag.objects.get_or_create(\n",
    "    title=\"random sample {}\".format(now),\n",
    "    query=q\n",
    ")\n",
    "t1.save()\n",
    "\n",
    "tag = t1\n",
    "\n",
    "users = q.users.all()\n",
    "uc = len(users)\n",
    "max_docs = 1000\n",
    "docs_added = 0\n",
    "for i, row in df[df['seen']==0].sample(frac=1).iterrows():\n",
    "    d = Doc.objects.get(id=row['id'])\n",
    "    if d.docownership_set.filter(query=q).exists():\n",
    "        continue\n",
    "    else:\n",
    "        if docs_added < max_docs:\n",
    "            d.tag.add(t1)\n",
    "            docs_added+=1\n",
    "        else:\n",
    "            break  \n",
    "            \n",
    "t1.update_tag()"
   ]
  },
  {
   "cell_type": "markdown",
   "metadata": {},
   "source": [
    "## Now we try and predict mitigation"
   ]
  },
  {
   "cell_type": "code",
   "execution_count": 55,
   "metadata": {},
   "outputs": [
    {
     "data": {
      "image/png": "[encoded data removed]",
      "text/plain": [
       "<matplotlib.figure.Figure at 0x7f6218046cc0>"
      ]
     },
     "metadata": {},
     "output_type": "display_data"
    }
   ],
   "source": [
    "fig, ax = plt.subplots()\n",
    "n = seen_df.shape[0]\n",
    "for i, (name, group) in enumerate(df[df['seen']==1].groupby('Governance & policies')):\n",
    "    ax.bar(i, group.shape[0])\n",
    "    ax.text(i, group.shape[0]+n*0.02, f'{group.shape[0]/n:.0%}',ha=\"center\")"
   ]
  },
  {
   "cell_type": "code",
   "execution_count": 56,
   "metadata": {},
   "outputs": [],
   "source": [
    "y = df['Governance & policies']\n",
    "models = [\n",
    "    {\n",
    "        'title': 'SVM', \n",
    "        'model': SVC(kernel='linear',class_weight='balanced',probability=True)\n",
    "    },\n",
    "    {\n",
    "        'title':\"Neural Net\",\n",
    "        'model': MLPClassifier(\n",
    "            solver='lbfgs', \n",
    "            alpha=0.1,\n",
    "            hidden_layer_sizes=(10), \n",
    "            random_state=1\n",
    "        )\n",
    "    },\n",
    "    {\n",
    "        'title': 'Naive Bayes', \n",
    "        'model': MultinomialNB(alpha=0.1)     \n",
    "    }\n",
    "]\n",
    "\n",
    "for model in models:\n",
    "    model['p'] = []\n",
    "    model['r'] = []\n",
    "    model['e'] = []\n",
    "    model['i'] = []\n",
    "\n",
    "kf = KFold(n_splits=10)\n",
    "i=0\n",
    "for k_train, k_test in kf.split(seen_index):\n",
    "    k_train = seen_index[k_train]\n",
    "    k_test = seen_index[k_test]\n",
    "    i+=1\n",
    "    for model in models:\n",
    "        clf = model['model']\n",
    "        model['i'].append(i)\n",
    "        #clf = SVC(kernel='rbf',probability=True)\n",
    "        clf.fit(ab_X[k_train],y[k_train])\n",
    "        predictions = clf.predict(ab_X[k_test])\n",
    "        model['e'].append(clf.score(ab_X[k_test],y[k_test]))\n",
    "        # Precision\n",
    "        model['p'].append(precision_score(predictions,y[k_test]))\n",
    "        # Recall\n",
    "        model['r'].append(recall_score(predictions,y[k_test]))"
   ]
  },
  {
   "cell_type": "code",
   "execution_count": 57,
   "metadata": {},
   "outputs": [
    {
     "name": "stderr",
     "output_type": "stream",
     "text": [
      "/home/galm/software/django/tmv/venv/lib/python3.6/site-packages/matplotlib/axes/_axes.py:545: UserWarning: No labelled objects found. Use label='...' kwarg on individual plots.\n",
      "  warnings.warn(\"No labelled objects found. \"\n"
     ]
    },
    {
     "data": {
      "image/png": "[encoded data removed]",
      "text/plain": [
       "<matplotlib.figure.Figure at 0x7f6238a69f98>"
      ]
     },
     "metadata": {},
     "output_type": "display_data"
    }
   ],
   "source": [
    "plt.rcParams['grid.linestyle'] = \"--\"\n",
    "fig, axs = plt.subplots(1,3,dpi=125,figsize=double_figure,sharey=True)\n",
    "for i, model in enumerate(models):\n",
    "    ax = axs[i]\n",
    "    ax.boxplot([model['p'],model['r'], model['e']])\n",
    "    \n",
    "    for i,s in enumerate(['p','r','e']):\n",
    "        ys = model[s]\n",
    "        x = np.random.normal(i+1, 0.04, size=len(ys))\n",
    "        ax.plot(x, ys, 'r.', alpha=0.2)\n",
    "    \n",
    "    ax.set_xticklabels(['Precision', 'Recall','Accuracy'])\n",
    "    \n",
    "    ax.set_title(f'{model[\"title\"]} mean accuracy {np.mean(model[\"e\"]):.0%}')\n",
    "    ax.grid()\n",
    "    ax.legend()\n",
    "    \n",
    "plt.show()"
   ]
  },
  {
   "cell_type": "code",
   "execution_count": 61,
   "metadata": {},
   "outputs": [],
   "source": [
    "clf =  MLPClassifier(\n",
    "            solver='lbfgs', \n",
    "            alpha=0.1,\n",
    "            hidden_layer_sizes=(10), \n",
    "            random_state=1\n",
    "        )\n",
    "\n",
    "clf = SVC(kernel='linear',class_weight='balanced',probability=True)\n",
    "\n",
    "\n",
    "clf.fit(ab_X[seen_index],y[seen_index])\n",
    "\n",
    "y_pred = clf.predict_proba(ab_X[unseen_index])"
   ]
  },
  {
   "cell_type": "code",
   "execution_count": 62,
   "metadata": {},
   "outputs": [
    {
     "name": "stdout",
     "output_type": "stream",
     "text": [
      "36045\n",
      "94461\n"
     ]
    },
    {
     "data": {
      "image/png": "[encoded data removed]",
      "text/plain": [
       "<matplotlib.figure.Figure at 0x7f623d0485c0>"
      ]
     },
     "metadata": {},
     "output_type": "display_data"
    }
   ],
   "source": [
    "plt.close()\n",
    "\n",
    "df['prediction'] = None\n",
    "df.loc[unseen_index,'prediction'] = y_pred[:,1]\n",
    "\n",
    "fig, ax = plt.subplots()\n",
    "\n",
    "pdf = df.sort_values('prediction').reset_index(drop=True)\n",
    "ax.plot(pdf.index,pdf['prediction'])\n",
    "ax.axhline(0.5,linestyle=\"--\",color=\"grey\")\n",
    "\n",
    "print(pdf[pdf['prediction']>0.5].shape[0])\n",
    "print(pdf[pdf['prediction'].notna()].shape[0])\n",
    "\n",
    "plt.show()"
   ]
  },
  {
   "cell_type": "code",
   "execution_count": null,
   "metadata": {},
   "outputs": [],
   "source": []
  },
  {
   "cell_type": "markdown",
   "metadata": {},
   "source": [
    "### Now we can make a new tag and screening decision objects with the x documents most likely to be relevant"
   ]
  },
  {
   "cell_type": "code",
   "execution_count": 63,
   "metadata": {},
   "outputs": [
    {
     "data": {
      "text/plain": [
       "<QuerySet [<User: minj>, <User: maowenxin2014@163.com>]>"
      ]
     },
     "execution_count": 63,
     "metadata": {},
     "output_type": "execute_result"
    }
   ],
   "source": [
    "q = Query.objects.get(pk=qid)\n",
    "q.users.all()"
   ]
  },
  {
   "cell_type": "code",
   "execution_count": 68,
   "metadata": {},
   "outputs": [],
   "source": [
    "import datetime\n",
    "\n",
    "\n",
    "t1 = Tag(\n",
    "    title=\"predicted policy sample {}\".format(now),\n",
    "    query=q\n",
    ")\n",
    "t1.save()\n",
    "\n",
    "tag = t1\n",
    "\n",
    "users = q.users.all()\n",
    "uc = len(users)\n",
    "max_docs = 500\n",
    "docs_added = 0\n",
    "for i, row in df.sort_values('prediction',ascending=False).head(3500).reset_index(drop=True).iterrows():\n",
    "    d = Doc.objects.get(id=row['id'])\n",
    "    if d.docownership_set.filter(query=q).exists():\n",
    "        continue\n",
    "    else:\n",
    "        if docs_added < max_docs:\n",
    "            d.tag.add(t1)\n",
    "            docs_added+=1\n",
    "        else:\n",
    "            break  \n",
    "\n",
    "    \n",
    "t1.update_tag()\n"
   ]
  },
  {
   "cell_type": "code",
   "execution_count": 67,
   "metadata": {},
   "outputs": [],
   "source": [
    "df[['id','prediction']].to_csv(f'doctables/predictions_{now}.csv',index=False)"
   ]
  },
  {
   "cell_type": "code",
   "execution_count": null,
   "metadata": {},
   "outputs": [],
   "source": []
  }
 ],
 "metadata": {
  "kernelspec": {
   "display_name": "tmv",
   "language": "python",
   "name": "tmv"
  },
  "language_info": {
   "codemirror_mode": {
    "name": "ipython",
    "version": 3
   },
   "file_extension": ".py",
   "mimetype": "text/x-python",
   "name": "python",
   "nbconvert_exporter": "python",
   "pygments_lexer": "ipython3",
   "version": "3.6.7"
  },
  "varInspector": {
   "cols": {
    "lenName": 16,
    "lenType": 16,
    "lenVar": 40
   },
   "kernels_config": {
    "python": {
     "delete_cmd_postfix": "",
     "delete_cmd_prefix": "del ",
     "library": "var_list.py",
     "varRefreshCmd": "print(var_dic_list())"
    },
    "r": {
     "delete_cmd_postfix": ") ",
     "delete_cmd_prefix": "rm(",
     "library": "var_list.r",
     "varRefreshCmd": "cat(var_dic_list()) "
    }
   },
   "types_to_exclude": [
    "module",
    "function",
    "builtin_function_or_method",
    "instance",
    "_Feature"
   ],
   "window_display": false
  }
 },
 "nbformat": 4,
 "nbformat_minor": 2
}
