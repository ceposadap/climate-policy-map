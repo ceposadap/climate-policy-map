{
 "cells": [
  {
   "cell_type": "code",
   "execution_count": 1,
   "metadata": {},
   "outputs": [],
   "source": [
    "import matplotlib.pyplot as plt\n",
    "import numpy as np\n",
    "import pandas as pd\n",
    "import sys, os, django\n",
    "import math\n",
    "from sklearn.model_selection import KFold\n",
    "\n",
    "\n",
    "from sklearn.manifold import TSNE\n",
    "from sklearn.svm import SVC, OneClassSVM\n",
    "from sklearn.metrics import average_precision_score\n",
    "from sklearn.metrics import precision_recall_curve\n",
    "from sklearn.metrics import precision_score, recall_score\n",
    "\n",
    "from sklearn.decomposition import NMF\n",
    "from sklearn.naive_bayes import MultinomialNB\n",
    "from sklearn.linear_model import SGDClassifier\n",
    "\n",
    "from sklearn.feature_extraction.text import CountVectorizer, TfidfVectorizer\n",
    "from sklearn.model_selection import KFold\n",
    "from sklearn.neural_network import MLPClassifier\n",
    "from scipy.sparse import hstack\n",
    "\n",
    "sys.path.append('/home/galm/software/django/tmv/BasicBrowser/')\n",
    "os.environ.setdefault(\"DJANGO_SETTINGS_MODULE\", \"BasicBrowser.settings\")\n",
    "django.setup()\n",
    "\n",
    "from django.db.models import Q, F, Sum, Count, FloatField, Case, When, Value, Max\n",
    "from sklearn.manifold import TSNE\n",
    "from scoping.models import *\n",
    "from scoping.views import *\n",
    "\n",
    "import learning_utils\n",
    "import random\n",
    "\n",
    "\n",
    "double_figure = (7.2,7.2/8*5)\n",
    "plt.rc('font',size=7)\n",
    "plt.rc('axes',titlesize=7)\n",
    "plt.rc('axes',labelsize=7)\n",
    "plt.rc('xtick',labelsize=7)\n",
    "plt.rc('ytick',labelsize=7)\n",
    "plt.rc('legend',fontsize=7)\n",
    "plt.rc('figure',titlesize=7)"
   ]
  },
  {
   "cell_type": "markdown",
   "metadata": {},
   "source": [
    "## First we say what query and project we are interested in"
   ]
  },
  {
   "cell_type": "code",
   "execution_count": 2,
   "metadata": {},
   "outputs": [
    {
     "name": "stdout",
     "output_type": "stream",
     "text": [
      "94944\n"
     ]
    },
    {
     "data": {
      "text/plain": [
       "94944"
      ]
     },
     "execution_count": 2,
     "metadata": {},
     "output_type": "execute_result"
    }
   ],
   "source": [
    "pid = 217\n",
    "qid = 7966\n",
    "q = Query.objects.get(pk=qid)\n",
    "p = Project.objects.get(pk=pid)\n",
    "\n",
    "print(q.doc_set.count())\n",
    "q.r_count"
   ]
  },
  {
   "cell_type": "markdown",
   "metadata": {},
   "source": [
    "### And we retrieve those documents that have been screened in that query"
   ]
  },
  {
   "cell_type": "code",
   "execution_count": 3,
   "metadata": {},
   "outputs": [
    {
     "name": "stdout",
     "output_type": "stream",
     "text": [
      "94944\n"
     ]
    },
    {
     "data": {
      "text/plain": [
       "2500"
      ]
     },
     "execution_count": 3,
     "metadata": {},
     "output_type": "execute_result"
    }
   ],
   "source": [
    "docs = Doc.objects.filter(query=q, content__iregex='\\w').values_list('pk', flat=True)\n",
    "\n",
    "print(docs.count())\n",
    "\n",
    "seen = set(DocOwnership.objects.filter(\n",
    "    query=q, \n",
    "    relevant__gt=0\n",
    ").values_list('doc__pk', flat=True))\n",
    "\n",
    "\n",
    "seen = seen & set(docs)\n",
    "\n",
    "seen_docs = Doc.objects.filter(pk__in=seen)\n",
    "seen_docs.count()"
   ]
  },
  {
   "cell_type": "markdown",
   "metadata": {},
   "source": [
    "### We have a separate list of documents in the query that have not been screened"
   ]
  },
  {
   "cell_type": "code",
   "execution_count": 5,
   "metadata": {},
   "outputs": [
    {
     "name": "stdout",
     "output_type": "stream",
     "text": [
      "(92444, 7)\n"
     ]
    },
    {
     "data": {
      "text/html": [
       "<div>\n",
       "<style scoped>\n",
       "    .dataframe tbody tr th:only-of-type {\n",
       "        vertical-align: middle;\n",
       "    }\n",
       "\n",
       "    .dataframe tbody tr th {\n",
       "        vertical-align: top;\n",
       "    }\n",
       "\n",
       "    .dataframe thead th {\n",
       "        text-align: right;\n",
       "    }\n",
       "</style>\n",
       "<table border=\"1\" class=\"dataframe\">\n",
       "  <thead>\n",
       "    <tr style=\"text-align: right;\">\n",
       "      <th></th>\n",
       "      <th>id</th>\n",
       "      <th>content</th>\n",
       "      <th>title</th>\n",
       "      <th>wosarticle__de</th>\n",
       "      <th>wosarticle__wc</th>\n",
       "      <th>relevant</th>\n",
       "      <th>seen</th>\n",
       "    </tr>\n",
       "  </thead>\n",
       "  <tbody>\n",
       "    <tr>\n",
       "      <th>0</th>\n",
       "      <td>4</td>\n",
       "      <td>In America, entertainment celebrities have ent...</td>\n",
       "      <td>From sidekick to sideshow - Celebrity, enterta...</td>\n",
       "      <td>politics of distraction; celebrity politics; c...</td>\n",
       "      <td>[Psychology, Clinical; Social Sciences, Interd...</td>\n",
       "      <td>0</td>\n",
       "      <td>0</td>\n",
       "    </tr>\n",
       "    <tr>\n",
       "      <th>1</th>\n",
       "      <td>20</td>\n",
       "      <td>The responsiveness of South African fauna to c...</td>\n",
       "      <td>Vulnerability of South African animal taxa to ...</td>\n",
       "      <td>conservation; fragmentation; land-use; range c...</td>\n",
       "      <td>[Biodiversity Conservation; Ecology; Environme...</td>\n",
       "      <td>0</td>\n",
       "      <td>0</td>\n",
       "    </tr>\n",
       "    <tr>\n",
       "      <th>2</th>\n",
       "      <td>29</td>\n",
       "      <td>In an stylized endogenous growth economy with ...</td>\n",
       "      <td>Optimal green tax reforms yielding double divi...</td>\n",
       "      <td>Double dividend; Emissions tax; Dynamic Laffer...</td>\n",
       "      <td>[Economics; Energy &amp; Fuels; Environmental Scie...</td>\n",
       "      <td>0</td>\n",
       "      <td>0</td>\n",
       "    </tr>\n",
       "    <tr>\n",
       "      <th>3</th>\n",
       "      <td>65</td>\n",
       "      <td>The world's increasing need is to develop smar...</td>\n",
       "      <td>Synthesis of a Cementitious Material Nanocemen...</td>\n",
       "      <td>None</td>\n",
       "      <td>[Nanoscience &amp; Nanotechnology; Materials Scien...</td>\n",
       "      <td>0</td>\n",
       "      <td>0</td>\n",
       "    </tr>\n",
       "    <tr>\n",
       "      <th>4</th>\n",
       "      <td>74</td>\n",
       "      <td>Numerous epidemiological studies have demonstr...</td>\n",
       "      <td>Particulate matter in the indoor air of classr...</td>\n",
       "      <td>indoor; schools; classrooms; particulate matte...</td>\n",
       "      <td>[Environmental Sciences; Meteorology &amp; Atmosph...</td>\n",
       "      <td>0</td>\n",
       "      <td>0</td>\n",
       "    </tr>\n",
       "  </tbody>\n",
       "</table>\n",
       "</div>"
      ],
      "text/plain": [
       "   id                                            content  \\\n",
       "0   4  In America, entertainment celebrities have ent...   \n",
       "1  20  The responsiveness of South African fauna to c...   \n",
       "2  29  In an stylized endogenous growth economy with ...   \n",
       "3  65  The world's increasing need is to develop smar...   \n",
       "4  74  Numerous epidemiological studies have demonstr...   \n",
       "\n",
       "                                               title  \\\n",
       "0  From sidekick to sideshow - Celebrity, enterta...   \n",
       "1  Vulnerability of South African animal taxa to ...   \n",
       "2  Optimal green tax reforms yielding double divi...   \n",
       "3  Synthesis of a Cementitious Material Nanocemen...   \n",
       "4  Particulate matter in the indoor air of classr...   \n",
       "\n",
       "                                      wosarticle__de  \\\n",
       "0  politics of distraction; celebrity politics; c...   \n",
       "1  conservation; fragmentation; land-use; range c...   \n",
       "2  Double dividend; Emissions tax; Dynamic Laffer...   \n",
       "3                                               None   \n",
       "4  indoor; schools; classrooms; particulate matte...   \n",
       "\n",
       "                                      wosarticle__wc  relevant  seen  \n",
       "0  [Psychology, Clinical; Social Sciences, Interd...         0     0  \n",
       "1  [Biodiversity Conservation; Ecology; Environme...         0     0  \n",
       "2  [Economics; Energy & Fuels; Environmental Scie...         0     0  \n",
       "3  [Nanoscience & Nanotechnology; Materials Scien...         0     0  \n",
       "4  [Environmental Sciences; Meteorology & Atmosph...         0     0  "
      ]
     },
     "execution_count": 5,
     "metadata": {},
     "output_type": "execute_result"
    }
   ],
   "source": [
    "unseen_docs = docs.exclude(pk__in=seen).distinct('id')\n",
    "\n",
    "unseen_docs.count()\n",
    "\n",
    "columns = [\n",
    "    'id',\n",
    "    'content',\n",
    "    'title',\n",
    "    'wosarticle__de',\n",
    "    'wosarticle__wc'\n",
    "]\n",
    "\n",
    "unseen_df = pd.DataFrame.from_dict(list(unseen_docs.values(*columns)))\n",
    "unseen_df = unseen_df[columns]\n",
    "unseen_df['relevant'] = 0\n",
    "unseen_df['seen'] = 0\n",
    "\n",
    "print(unseen_df.shape)\n",
    "unseen_df.head()"
   ]
  },
  {
   "cell_type": "markdown",
   "metadata": {},
   "source": [
    "### We gather the screening decisions (relevant=1, not relevant=0) and make a dataframe from them"
   ]
  },
  {
   "cell_type": "code",
   "execution_count": 6,
   "metadata": {},
   "outputs": [
    {
     "name": "stdout",
     "output_type": "stream",
     "text": [
      "(2468, 7)\n"
     ]
    },
    {
     "data": {
      "text/html": [
       "<div>\n",
       "<style scoped>\n",
       "    .dataframe tbody tr th:only-of-type {\n",
       "        vertical-align: middle;\n",
       "    }\n",
       "\n",
       "    .dataframe tbody tr th {\n",
       "        vertical-align: top;\n",
       "    }\n",
       "\n",
       "    .dataframe thead th {\n",
       "        text-align: right;\n",
       "    }\n",
       "</style>\n",
       "<table border=\"1\" class=\"dataframe\">\n",
       "  <thead>\n",
       "    <tr style=\"text-align: right;\">\n",
       "      <th></th>\n",
       "      <th>id</th>\n",
       "      <th>content</th>\n",
       "      <th>title</th>\n",
       "      <th>wosarticle__de</th>\n",
       "      <th>wosarticle__wc</th>\n",
       "      <th>relevant</th>\n",
       "      <th>seen</th>\n",
       "    </tr>\n",
       "  </thead>\n",
       "  <tbody>\n",
       "    <tr>\n",
       "      <th>0</th>\n",
       "      <td>778345</td>\n",
       "      <td>Finding the right balance between centralizati...</td>\n",
       "      <td>Ambitious climate policy through centralizatio...</td>\n",
       "      <td>Centralization; climate policy; decentralizati...</td>\n",
       "      <td>[Environmental Studies; Public Administration]</td>\n",
       "      <td>1</td>\n",
       "      <td>1</td>\n",
       "    </tr>\n",
       "    <tr>\n",
       "      <th>1</th>\n",
       "      <td>437137</td>\n",
       "      <td>Based on qualitative research and a case study...</td>\n",
       "      <td>Triggering Community Conservation Through the ...</td>\n",
       "      <td>community conservation; market-based instrumen...</td>\n",
       "      <td>[Development Studies; Environmental Studies; R...</td>\n",
       "      <td>1</td>\n",
       "      <td>1</td>\n",
       "    </tr>\n",
       "    <tr>\n",
       "      <th>2</th>\n",
       "      <td>1307625</td>\n",
       "      <td>Mixed coniferous forests are widespread at mid...</td>\n",
       "      <td>Millennial scale climate-fire-vegetation inter...</td>\n",
       "      <td>Fire history; Vegetation history; Mixed-conife...</td>\n",
       "      <td>[Geography, Physical; Geosciences, Multidiscip...</td>\n",
       "      <td>1</td>\n",
       "      <td>1</td>\n",
       "    </tr>\n",
       "    <tr>\n",
       "      <th>3</th>\n",
       "      <td>196766</td>\n",
       "      <td>Article 2 of the United Nations Framework Conv...</td>\n",
       "      <td>Dangerous anthropogenic interference, dangerou...</td>\n",
       "      <td>None</td>\n",
       "      <td>[Environmental Sciences; Meteorology &amp; Atmosph...</td>\n",
       "      <td>1</td>\n",
       "      <td>1</td>\n",
       "    </tr>\n",
       "    <tr>\n",
       "      <th>4</th>\n",
       "      <td>786762</td>\n",
       "      <td>The objective of this paper is to study taxati...</td>\n",
       "      <td>The Economic and Budgetary Impact of Climate P...</td>\n",
       "      <td>Marginal abatement costs; Carbon taxation; End...</td>\n",
       "      <td>[Economics; Environmental Studies]</td>\n",
       "      <td>1</td>\n",
       "      <td>1</td>\n",
       "    </tr>\n",
       "  </tbody>\n",
       "</table>\n",
       "</div>"
      ],
      "text/plain": [
       "        id                                            content  \\\n",
       "0   778345  Finding the right balance between centralizati...   \n",
       "1   437137  Based on qualitative research and a case study...   \n",
       "2  1307625  Mixed coniferous forests are widespread at mid...   \n",
       "3   196766  Article 2 of the United Nations Framework Conv...   \n",
       "4   786762  The objective of this paper is to study taxati...   \n",
       "\n",
       "                                               title  \\\n",
       "0  Ambitious climate policy through centralizatio...   \n",
       "1  Triggering Community Conservation Through the ...   \n",
       "2  Millennial scale climate-fire-vegetation inter...   \n",
       "3  Dangerous anthropogenic interference, dangerou...   \n",
       "4  The Economic and Budgetary Impact of Climate P...   \n",
       "\n",
       "                                      wosarticle__de  \\\n",
       "0  Centralization; climate policy; decentralizati...   \n",
       "1  community conservation; market-based instrumen...   \n",
       "2  Fire history; Vegetation history; Mixed-conife...   \n",
       "3                                               None   \n",
       "4  Marginal abatement costs; Carbon taxation; End...   \n",
       "\n",
       "                                      wosarticle__wc  relevant  seen  \n",
       "0     [Environmental Studies; Public Administration]         1     1  \n",
       "1  [Development Studies; Environmental Studies; R...         1     1  \n",
       "2  [Geography, Physical; Geosciences, Multidiscip...         1     1  \n",
       "3  [Environmental Sciences; Meteorology & Atmosph...         1     1  \n",
       "4                 [Economics; Environmental Studies]         1     1  "
      ]
     },
     "execution_count": 6,
     "metadata": {},
     "output_type": "execute_result"
    }
   ],
   "source": [
    "rated = list(seen_docs.values(*columns))\n",
    "r_docs = []\n",
    "for r in rated:\n",
    "    d = Doc.objects.get(pk=r['id'])\n",
    "\n",
    "    dos = DocOwnership.objects.filter(\n",
    "        query__project=p,doc=d,relevant__gt=0,\n",
    "    ).values_list('relevant',flat=True)\n",
    "    if not dos.exists():\n",
    "        dos = DocOwnership.objects.filter(\n",
    "            project=p,doc=d,relevant__gt=0,\n",
    "        ).values_list('relevant',flat=True)            \n",
    "    if len(set(dos))==1: # If there is only one value (all ratings agree)\n",
    "        if dos[0] == 1:\n",
    "            r['relevant'] = 1\n",
    "        elif dos[0] == 2 or dos[0] == 4:\n",
    "            r['relevant'] = 0\n",
    "        else:\n",
    "            continue\n",
    "        r_docs.append(r)\n",
    "    \n",
    "        \n",
    "seen_df = pd.DataFrame.from_dict(r_docs)\n",
    "seen_df = seen_df[columns + [\"relevant\"]]\n",
    "seen_df['seen'] = 1\n",
    "print(seen_df.shape)\n",
    "seen_df.head()"
   ]
  },
  {
   "cell_type": "markdown",
   "metadata": {},
   "source": [
    "### And we merge the two, with a column \"seen\" recording if a document has been seen or not"
   ]
  },
  {
   "cell_type": "code",
   "execution_count": 13,
   "metadata": {},
   "outputs": [
    {
     "data": {
      "text/html": [
       "<div>\n",
       "<style scoped>\n",
       "    .dataframe tbody tr th:only-of-type {\n",
       "        vertical-align: middle;\n",
       "    }\n",
       "\n",
       "    .dataframe tbody tr th {\n",
       "        vertical-align: top;\n",
       "    }\n",
       "\n",
       "    .dataframe thead th {\n",
       "        text-align: right;\n",
       "    }\n",
       "</style>\n",
       "<table border=\"1\" class=\"dataframe\">\n",
       "  <thead>\n",
       "    <tr style=\"text-align: right;\">\n",
       "      <th></th>\n",
       "      <th>id</th>\n",
       "      <th>content</th>\n",
       "      <th>title</th>\n",
       "      <th>wosarticle__de</th>\n",
       "      <th>wosarticle__wc</th>\n",
       "      <th>relevant</th>\n",
       "      <th>seen</th>\n",
       "    </tr>\n",
       "  </thead>\n",
       "  <tbody>\n",
       "    <tr>\n",
       "      <th>0</th>\n",
       "      <td>1301704</td>\n",
       "      <td>Food production and consumption account for ap...</td>\n",
       "      <td>How to improve consumers' environmental sustai...</td>\n",
       "      <td>food choices; environmental label; environment...</td>\n",
       "      <td>[Green &amp; Sustainable Science &amp; Technology; Eng...</td>\n",
       "      <td>0</td>\n",
       "      <td>0</td>\n",
       "    </tr>\n",
       "    <tr>\n",
       "      <th>1</th>\n",
       "      <td>898154</td>\n",
       "      <td>Reduction of Emissions from Deforestation and ...</td>\n",
       "      <td>Messiness of forest governance: How technical ...</td>\n",
       "      <td>REDD; Conservation; Technical and political so...</td>\n",
       "      <td>[Environmental Sciences; Environmental Studies...</td>\n",
       "      <td>0</td>\n",
       "      <td>0</td>\n",
       "    </tr>\n",
       "    <tr>\n",
       "      <th>2</th>\n",
       "      <td>723506</td>\n",
       "      <td>The aim of this paper is to reconstruct the va...</td>\n",
       "      <td>The biogeographical role of Pinus forest on th...</td>\n",
       "      <td>Climatic variation; Holocene; Palaeovegetation...</td>\n",
       "      <td>[Geography, Physical; Geosciences, Multidiscip...</td>\n",
       "      <td>0</td>\n",
       "      <td>0</td>\n",
       "    </tr>\n",
       "    <tr>\n",
       "      <th>3</th>\n",
       "      <td>600825</td>\n",
       "      <td>Changes over the twentieth century in seasonal...</td>\n",
       "      <td>A quantitative assessment of changes in season...</td>\n",
       "      <td>Potential predictability; ENSO; Ensemble; Sign...</td>\n",
       "      <td>[Meteorology &amp; Atmospheric Sciences]</td>\n",
       "      <td>0</td>\n",
       "      <td>0</td>\n",
       "    </tr>\n",
       "    <tr>\n",
       "      <th>4</th>\n",
       "      <td>397542</td>\n",
       "      <td>This paper provides a comparative overview of ...</td>\n",
       "      <td>Urban transport trends and policies in China a...</td>\n",
       "      <td>None</td>\n",
       "      <td>[Transportation]</td>\n",
       "      <td>0</td>\n",
       "      <td>0</td>\n",
       "    </tr>\n",
       "  </tbody>\n",
       "</table>\n",
       "</div>"
      ],
      "text/plain": [
       "        id                                            content  \\\n",
       "0  1301704  Food production and consumption account for ap...   \n",
       "1   898154  Reduction of Emissions from Deforestation and ...   \n",
       "2   723506  The aim of this paper is to reconstruct the va...   \n",
       "3   600825  Changes over the twentieth century in seasonal...   \n",
       "4   397542  This paper provides a comparative overview of ...   \n",
       "\n",
       "                                               title  \\\n",
       "0  How to improve consumers' environmental sustai...   \n",
       "1  Messiness of forest governance: How technical ...   \n",
       "2  The biogeographical role of Pinus forest on th...   \n",
       "3  A quantitative assessment of changes in season...   \n",
       "4  Urban transport trends and policies in China a...   \n",
       "\n",
       "                                      wosarticle__de  \\\n",
       "0  food choices; environmental label; environment...   \n",
       "1  REDD; Conservation; Technical and political so...   \n",
       "2  Climatic variation; Holocene; Palaeovegetation...   \n",
       "3  Potential predictability; ENSO; Ensemble; Sign...   \n",
       "4                                               None   \n",
       "\n",
       "                                      wosarticle__wc  relevant  seen  \n",
       "0  [Green & Sustainable Science & Technology; Eng...         0     0  \n",
       "1  [Environmental Sciences; Environmental Studies...         0     0  \n",
       "2  [Geography, Physical; Geosciences, Multidiscip...         0     0  \n",
       "3               [Meteorology & Atmospheric Sciences]         0     0  \n",
       "4                                   [Transportation]         0     0  "
      ]
     },
     "execution_count": 13,
     "metadata": {},
     "output_type": "execute_result"
    }
   ],
   "source": [
    "df = pd.concat([seen_df,unseen_df]).sample(frac=1).reset_index(drop=True)\n",
    "y = df['relevant']\n",
    "df.head()"
   ]
  },
  {
   "cell_type": "markdown",
   "metadata": {},
   "source": [
    "### We also get the assignments of these documents to categories, and add these as further columns in our dataframe"
   ]
  },
  {
   "cell_type": "code",
   "execution_count": 38,
   "metadata": {},
   "outputs": [
    {
     "name": "stdout",
     "output_type": "stream",
     "text": [
      "(94912, 50)\n"
     ]
    },
    {
     "data": {
      "text/html": [
       "<div>\n",
       "<style scoped>\n",
       "    .dataframe tbody tr th:only-of-type {\n",
       "        vertical-align: middle;\n",
       "    }\n",
       "\n",
       "    .dataframe tbody tr th {\n",
       "        vertical-align: top;\n",
       "    }\n",
       "\n",
       "    .dataframe thead th {\n",
       "        text-align: right;\n",
       "    }\n",
       "</style>\n",
       "<table border=\"1\" class=\"dataframe\">\n",
       "  <thead>\n",
       "    <tr style=\"text-align: right;\">\n",
       "      <th></th>\n",
       "      <th>id</th>\n",
       "      <th>content</th>\n",
       "      <th>title</th>\n",
       "      <th>wosarticle__de</th>\n",
       "      <th>wosarticle__wc</th>\n",
       "      <th>relevant</th>\n",
       "      <th>seen</th>\n",
       "      <th>&lt;hidden&gt;tax/emission trading</th>\n",
       "      <th>Adaptation</th>\n",
       "      <th>Company &amp; organizations</th>\n",
       "      <th>...</th>\n",
       "      <th>Spatial &amp; land-use planning</th>\n",
       "      <th>Sub-national/ regional</th>\n",
       "      <th>Subsidies&lt;hidden&gt;</th>\n",
       "      <th>Subsidy/compensation/ allowance</th>\n",
       "      <th>Supranational &amp; international</th>\n",
       "      <th>Targets &amp; goals</th>\n",
       "      <th>Tax</th>\n",
       "      <th>Voluntary actions</th>\n",
       "      <th>Voluntary agreements</th>\n",
       "      <th>voluntary agreement&lt;hidden&gt;</th>\n",
       "    </tr>\n",
       "  </thead>\n",
       "  <tbody>\n",
       "    <tr>\n",
       "      <th>0</th>\n",
       "      <td>1301704</td>\n",
       "      <td>Food production and consumption account for ap...</td>\n",
       "      <td>How to improve consumers' environmental sustai...</td>\n",
       "      <td>food choices; environmental label; environment...</td>\n",
       "      <td>[Green &amp; Sustainable Science &amp; Technology; Eng...</td>\n",
       "      <td>0</td>\n",
       "      <td>0</td>\n",
       "      <td>0.0</td>\n",
       "      <td>0.0</td>\n",
       "      <td>0.0</td>\n",
       "      <td>...</td>\n",
       "      <td>0.0</td>\n",
       "      <td>0.0</td>\n",
       "      <td>0.0</td>\n",
       "      <td>0.0</td>\n",
       "      <td>0.0</td>\n",
       "      <td>0.0</td>\n",
       "      <td>0.0</td>\n",
       "      <td>0.0</td>\n",
       "      <td>0.0</td>\n",
       "      <td>0.0</td>\n",
       "    </tr>\n",
       "    <tr>\n",
       "      <th>1</th>\n",
       "      <td>898154</td>\n",
       "      <td>Reduction of Emissions from Deforestation and ...</td>\n",
       "      <td>Messiness of forest governance: How technical ...</td>\n",
       "      <td>REDD; Conservation; Technical and political so...</td>\n",
       "      <td>[Environmental Sciences; Environmental Studies...</td>\n",
       "      <td>0</td>\n",
       "      <td>0</td>\n",
       "      <td>0.0</td>\n",
       "      <td>0.0</td>\n",
       "      <td>0.0</td>\n",
       "      <td>...</td>\n",
       "      <td>0.0</td>\n",
       "      <td>0.0</td>\n",
       "      <td>0.0</td>\n",
       "      <td>0.0</td>\n",
       "      <td>0.0</td>\n",
       "      <td>0.0</td>\n",
       "      <td>0.0</td>\n",
       "      <td>0.0</td>\n",
       "      <td>0.0</td>\n",
       "      <td>0.0</td>\n",
       "    </tr>\n",
       "    <tr>\n",
       "      <th>2</th>\n",
       "      <td>723506</td>\n",
       "      <td>The aim of this paper is to reconstruct the va...</td>\n",
       "      <td>The biogeographical role of Pinus forest on th...</td>\n",
       "      <td>Climatic variation; Holocene; Palaeovegetation...</td>\n",
       "      <td>[Geography, Physical; Geosciences, Multidiscip...</td>\n",
       "      <td>0</td>\n",
       "      <td>0</td>\n",
       "      <td>0.0</td>\n",
       "      <td>0.0</td>\n",
       "      <td>0.0</td>\n",
       "      <td>...</td>\n",
       "      <td>0.0</td>\n",
       "      <td>0.0</td>\n",
       "      <td>0.0</td>\n",
       "      <td>0.0</td>\n",
       "      <td>0.0</td>\n",
       "      <td>0.0</td>\n",
       "      <td>0.0</td>\n",
       "      <td>0.0</td>\n",
       "      <td>0.0</td>\n",
       "      <td>0.0</td>\n",
       "    </tr>\n",
       "    <tr>\n",
       "      <th>3</th>\n",
       "      <td>600825</td>\n",
       "      <td>Changes over the twentieth century in seasonal...</td>\n",
       "      <td>A quantitative assessment of changes in season...</td>\n",
       "      <td>Potential predictability; ENSO; Ensemble; Sign...</td>\n",
       "      <td>[Meteorology &amp; Atmospheric Sciences]</td>\n",
       "      <td>0</td>\n",
       "      <td>0</td>\n",
       "      <td>0.0</td>\n",
       "      <td>0.0</td>\n",
       "      <td>0.0</td>\n",
       "      <td>...</td>\n",
       "      <td>0.0</td>\n",
       "      <td>0.0</td>\n",
       "      <td>0.0</td>\n",
       "      <td>0.0</td>\n",
       "      <td>0.0</td>\n",
       "      <td>0.0</td>\n",
       "      <td>0.0</td>\n",
       "      <td>0.0</td>\n",
       "      <td>0.0</td>\n",
       "      <td>0.0</td>\n",
       "    </tr>\n",
       "    <tr>\n",
       "      <th>4</th>\n",
       "      <td>397542</td>\n",
       "      <td>This paper provides a comparative overview of ...</td>\n",
       "      <td>Urban transport trends and policies in China a...</td>\n",
       "      <td>0</td>\n",
       "      <td>[Transportation]</td>\n",
       "      <td>0</td>\n",
       "      <td>0</td>\n",
       "      <td>0.0</td>\n",
       "      <td>0.0</td>\n",
       "      <td>0.0</td>\n",
       "      <td>...</td>\n",
       "      <td>0.0</td>\n",
       "      <td>0.0</td>\n",
       "      <td>0.0</td>\n",
       "      <td>0.0</td>\n",
       "      <td>0.0</td>\n",
       "      <td>0.0</td>\n",
       "      <td>0.0</td>\n",
       "      <td>0.0</td>\n",
       "      <td>0.0</td>\n",
       "      <td>0.0</td>\n",
       "    </tr>\n",
       "  </tbody>\n",
       "</table>\n",
       "<p>5 rows × 50 columns</p>\n",
       "</div>"
      ],
      "text/plain": [
       "        id                                            content  \\\n",
       "0  1301704  Food production and consumption account for ap...   \n",
       "1   898154  Reduction of Emissions from Deforestation and ...   \n",
       "2   723506  The aim of this paper is to reconstruct the va...   \n",
       "3   600825  Changes over the twentieth century in seasonal...   \n",
       "4   397542  This paper provides a comparative overview of ...   \n",
       "\n",
       "                                               title  \\\n",
       "0  How to improve consumers' environmental sustai...   \n",
       "1  Messiness of forest governance: How technical ...   \n",
       "2  The biogeographical role of Pinus forest on th...   \n",
       "3  A quantitative assessment of changes in season...   \n",
       "4  Urban transport trends and policies in China a...   \n",
       "\n",
       "                                      wosarticle__de  \\\n",
       "0  food choices; environmental label; environment...   \n",
       "1  REDD; Conservation; Technical and political so...   \n",
       "2  Climatic variation; Holocene; Palaeovegetation...   \n",
       "3  Potential predictability; ENSO; Ensemble; Sign...   \n",
       "4                                                  0   \n",
       "\n",
       "                                      wosarticle__wc  relevant  seen  \\\n",
       "0  [Green & Sustainable Science & Technology; Eng...         0     0   \n",
       "1  [Environmental Sciences; Environmental Studies...         0     0   \n",
       "2  [Geography, Physical; Geosciences, Multidiscip...         0     0   \n",
       "3               [Meteorology & Atmospheric Sciences]         0     0   \n",
       "4                                   [Transportation]         0     0   \n",
       "\n",
       "   <hidden>tax/emission trading  Adaptation  Company & organizations  ...  \\\n",
       "0                           0.0         0.0                      0.0  ...   \n",
       "1                           0.0         0.0                      0.0  ...   \n",
       "2                           0.0         0.0                      0.0  ...   \n",
       "3                           0.0         0.0                      0.0  ...   \n",
       "4                           0.0         0.0                      0.0  ...   \n",
       "\n",
       "   Spatial & land-use planning  Sub-national/ regional  Subsidies<hidden>  \\\n",
       "0                          0.0                     0.0                0.0   \n",
       "1                          0.0                     0.0                0.0   \n",
       "2                          0.0                     0.0                0.0   \n",
       "3                          0.0                     0.0                0.0   \n",
       "4                          0.0                     0.0                0.0   \n",
       "\n",
       "   Subsidy/compensation/ allowance  Supranational & international  \\\n",
       "0                              0.0                            0.0   \n",
       "1                              0.0                            0.0   \n",
       "2                              0.0                            0.0   \n",
       "3                              0.0                            0.0   \n",
       "4                              0.0                            0.0   \n",
       "\n",
       "   Targets & goals  Tax  Voluntary actions  Voluntary agreements  \\\n",
       "0              0.0  0.0                0.0                   0.0   \n",
       "1              0.0  0.0                0.0                   0.0   \n",
       "2              0.0  0.0                0.0                   0.0   \n",
       "3              0.0  0.0                0.0                   0.0   \n",
       "4              0.0  0.0                0.0                   0.0   \n",
       "\n",
       "   voluntary agreement<hidden>  \n",
       "0                          0.0  \n",
       "1                          0.0  \n",
       "2                          0.0  \n",
       "3                          0.0  \n",
       "4                          0.0  \n",
       "\n",
       "[5 rows x 50 columns]"
      ]
     },
     "execution_count": 38,
     "metadata": {},
     "output_type": "execute_result"
    }
   ],
   "source": [
    "cats = Category.objects.filter(project=p)\n",
    "ldf = pd.DataFrame.from_dict(list(seen_docs.filter(\n",
    "    category__in=cats\n",
    ").values('id','category__name')))\n",
    "ldf['v'] = 1\n",
    "\n",
    "cat_map = ldf.pivot(index='id',columns=\"category__name\", values=\"v\")\n",
    "cat_map['id'] = cat_map.index\n",
    "cat_map = cat_map.reset_index(drop=True)\n",
    "\n",
    "df = pd.merge(df, cat_map, how=\"left\").fillna(0)\n",
    "print(df.shape)\n",
    "df.head()"
   ]
  },
  {
   "cell_type": "markdown",
   "metadata": {},
   "source": [
    "### We have a look at the distribution of relevant and not relevant documents"
   ]
  },
  {
   "cell_type": "code",
   "execution_count": 39,
   "metadata": {},
   "outputs": [
    {
     "data": {
      "text/plain": [
       "Text(0, 0.5, 'Number of documents')"
      ]
     },
     "execution_count": 39,
     "metadata": {},
     "output_type": "execute_result"
    },
    {
     "data": {
      "image/png": "[encoded data removed]",
      "text/plain": [
       "<Figure size 432x288 with 1 Axes>"
      ]
     },
     "metadata": {},
     "output_type": "display_data"
    }
   ],
   "source": [
    "fig, ax = plt.subplots()\n",
    "n = seen_df.shape[0]\n",
    "y = df['relevant']\n",
    "for i, (name, group) in enumerate(seen_df.groupby('relevant')):\n",
    "    ax.bar(i, group.shape[0])\n",
    "    ax.text(i, group.shape[0]+n*0.02, f'{group.shape[0]/n:.0%}',ha=\"center\")\n",
    "\n",
    "ax.set_xticks([0,1])\n",
    "ax.set_ylim(ymax=ax.get_ylim()[1]*1.05)\n",
    "ax.set_xlabel('Relevance')\n",
    "ax.set_ylabel('Number of documents')"
   ]
  },
  {
   "cell_type": "markdown",
   "metadata": {},
   "source": [
    "### Now we \"vectorize\" the data, representing each document as a weighted count of its words and phrases (bag of words and bigrams)"
   ]
  },
  {
   "cell_type": "code",
   "execution_count": 42,
   "metadata": {},
   "outputs": [],
   "source": [
    "vec = TfidfVectorizer(\n",
    "    ngram_range=(1,2),\n",
    "    min_df=20, max_df=0.8, strip_accents='unicode', \n",
    "    max_features=10000,\n",
    "    use_idf=1,\n",
    "    smooth_idf=1, sublinear_tf=1,\n",
    "    stop_words=\"english\",tokenizer=learning_utils.tokenize\n",
    ")\n",
    "\n",
    "ab_X = vec.fit_transform(df['content'])"
   ]
  },
  {
   "cell_type": "markdown",
   "metadata": {},
   "source": [
    "### We build 3 types of classifiers, and test these with k-fold cross validation"
   ]
  },
  {
   "cell_type": "code",
   "execution_count": 44,
   "metadata": {},
   "outputs": [],
   "source": [
    "from sklearn.model_selection import KFold\n",
    "\n",
    "seen_index = df[df['seen']==1].index\n",
    "unseen_index = df[df['seen']==0].index\n",
    "\n",
    "models = [\n",
    "    {\n",
    "        'title': 'SVM', \n",
    "        'model': SVC(kernel='linear',class_weight='balanced',probability=True)\n",
    "    },\n",
    "    {\n",
    "        'title':\"Neural Net\",\n",
    "        'model': MLPClassifier(\n",
    "            solver='lbfgs', \n",
    "            alpha=0.1,\n",
    "            hidden_layer_sizes=(10), \n",
    "            random_state=1\n",
    "        )\n",
    "    },\n",
    "    {\n",
    "        'title': 'Naive Bayes', \n",
    "        'model': MultinomialNB(alpha=0.1)     \n",
    "    }\n",
    "]\n",
    "\n",
    "for model in models:\n",
    "    model['p'] = []\n",
    "    model['r'] = []\n",
    "    model['e'] = []\n",
    "    model['i'] = []\n",
    "\n",
    "kf = KFold(n_splits=10)\n",
    "i=0\n",
    "for k_train, k_test in kf.split(seen_index):\n",
    "    k_train = seen_index[k_train]\n",
    "    k_test = seen_index[k_test]\n",
    "    i+=1\n",
    "    for model in models:\n",
    "        clf = model['model']\n",
    "        model['i'].append(i)\n",
    "        #clf = SVC(kernel='rbf',probability=True)\n",
    "        clf.fit(ab_X[k_train],y[k_train])\n",
    "        predictions = clf.predict(ab_X[k_test])\n",
    "        model['e'].append(clf.score(ab_X[k_test],y[k_test]))\n",
    "        # Precision\n",
    "        model['p'].append(precision_score(predictions,y[k_test]))\n",
    "        # Recall\n",
    "        model['r'].append(recall_score(predictions,y[k_test]))"
   ]
  },
  {
   "cell_type": "code",
   "execution_count": 45,
   "metadata": {},
   "outputs": [
    {
     "name": "stderr",
     "output_type": "stream",
     "text": [
      "No handles with labels found to put in legend.\n",
      "No handles with labels found to put in legend.\n",
      "No handles with labels found to put in legend.\n"
     ]
    },
    {
     "data": {
      "image/png": "[encoded data removed]",
      "text/plain": [
       "<Figure size 900x562.5 with 3 Axes>"
      ]
     },
     "metadata": {},
     "output_type": "display_data"
    }
   ],
   "source": [
    "plt.rcParams['grid.linestyle'] = \"--\"\n",
    "fig, axs = plt.subplots(1,3,dpi=125,figsize=double_figure,sharey=True)\n",
    "for i, model in enumerate(models):\n",
    "    ax = axs[i]\n",
    "    ax.boxplot([model['p'],model['r'], model['e']])\n",
    "    \n",
    "    for i,s in enumerate(['p','r','e']):\n",
    "        y = model[s]\n",
    "        x = np.random.normal(i+1, 0.04, size=len(y))\n",
    "        ax.plot(x, y, 'r.', alpha=0.2)\n",
    "    \n",
    "    ax.set_xticklabels(['Precision', 'Recall','Accuracy'])\n",
    "    \n",
    "    ax.set_title(f'{model[\"title\"]} mean accuracy {np.mean(model[\"e\"]):.0%}')\n",
    "    ax.grid()\n",
    "    ax.legend()\n",
    "    \n",
    "plt.show()"
   ]
  },
  {
   "cell_type": "markdown",
   "metadata": {},
   "source": [
    "### We can choose the best performing model (for our purposes) and fit it on our unseen data, in order to predict the probability that our unseen documents are relevant"
   ]
  },
  {
   "cell_type": "code",
   "execution_count": 47,
   "metadata": {
    "collapsed": true
   },
   "outputs": [],
   "source": [
    "clf =  MLPClassifier(\n",
    "            solver='lbfgs', \n",
    "            alpha=0.1,\n",
    "            hidden_layer_sizes=(10), \n",
    "            random_state=1\n",
    "        )\n",
    "\n",
    "clf = SVC(kernel='linear',class_weight='balanced',probability=True)\n",
    "\n",
    "y = df['relevant']\n",
    "\n",
    "clf.fit(ab_X[seen_index],y[seen_index])\n",
    "\n",
    "y_pred = clf.predict_proba(ab_X[unseen_index])"
   ]
  },
  {
   "cell_type": "code",
   "execution_count": 48,
   "metadata": {},
   "outputs": [
    {
     "name": "stdout",
     "output_type": "stream",
     "text": [
      "77470 out of 92444 documents are predicted to be relevant\n"
     ]
    },
    {
     "data": {
      "image/png": "[encoded data removed]",
      "text/plain": [
       "<Figure size 432x288 with 1 Axes>"
      ]
     },
     "metadata": {},
     "output_type": "display_data"
    }
   ],
   "source": [
    "plt.close()\n",
    "\n",
    "df['prediction'] = None\n",
    "df.loc[unseen_index,'prediction'] = y_pred[:,1]\n",
    "\n",
    "fig, ax = plt.subplots()\n",
    "\n",
    "pdf = df.sort_values('prediction').reset_index(drop=True)\n",
    "ax.plot(pdf.index,pdf['prediction'])\n",
    "ax.axhline(0.5,linestyle=\"--\",color=\"grey\")\n",
    "\n",
    "rel = df[pdf['prediction']>0.5].shape[0]\n",
    "tot = pdf[pdf['prediction'].notna()].shape[0]\n",
    "\n",
    "\n",
    "print(f\"{rel} out of {tot} documents are predicted to be relevant\")\n",
    "\n",
    "plt.show()"
   ]
  },
  {
   "cell_type": "markdown",
   "metadata": {},
   "source": [
    "### Now we make a new random sample"
   ]
  },
  {
   "cell_type": "code",
   "execution_count": 59,
   "metadata": {},
   "outputs": [],
   "source": [
    "now = datetime.datetime.now().strftime(\"%Y-%m-%d %H:%M\")"
   ]
  },
  {
   "cell_type": "code",
   "execution_count": null,
   "metadata": {
    "scrolled": false
   },
   "outputs": [],
   "source": [
    "t1, created = Tag.objects.get_or_create(\n",
    "    title=\"predicted relevant sample {}\".format(now),\n",
    "    query=q\n",
    ")\n",
    "t1.save()\n",
    "\n",
    "tag = t1\n",
    "\n",
    "users = q.users.all()\n",
    "uc = len(users)\n",
    "max_docs = 500\n",
    "docs_added = 0\n",
    "for i, row in df.sort_values('prediction',ascending=False).head(3500).reset_index(drop=True).iterrows():\n",
    "    d = Doc.objects.get(id=row['id'])\n",
    "    if d.docownership_set.filter(query=q).exists():\n",
    "        continue\n",
    "    else:\n",
    "        if docs_added < max_docs:\n",
    "            d.tag.add(t1)\n",
    "            docs_added+=1\n",
    "        else:\n",
    "            break  \n",
    "\n",
    "    \n",
    "t1.update_tag()\n",
    "            \n",
    "t1.update_tag()"
   ]
  },
  {
   "cell_type": "markdown",
   "metadata": {},
   "source": [
    "## Now we try and predict mitigation"
   ]
  },
  {
   "cell_type": "code",
   "execution_count": 49,
   "metadata": {},
   "outputs": [
    {
     "data": {
      "image/png": "[encoded data removed]",
      "text/plain": [
       "<Figure size 432x288 with 1 Axes>"
      ]
     },
     "metadata": {},
     "output_type": "display_data"
    }
   ],
   "source": [
    "fig, ax = plt.subplots()\n",
    "n = seen_df.shape[0]\n",
    "for i, (name, group) in enumerate(df[df['seen']==1].groupby('Governance & policies')):\n",
    "    ax.bar(i, group.shape[0])\n",
    "    ax.text(i, group.shape[0]+n*0.02, f'{group.shape[0]/n:.0%}',ha=\"center\")"
   ]
  },
  {
   "cell_type": "code",
   "execution_count": 50,
   "metadata": {},
   "outputs": [],
   "source": [
    "y = df['Governance & policies']\n",
    "models = [\n",
    "    {\n",
    "        'title': 'SVM', \n",
    "        'model': SVC(kernel='linear',class_weight='balanced',probability=True)\n",
    "    },\n",
    "    {\n",
    "        'title':\"Neural Net\",\n",
    "        'model': MLPClassifier(\n",
    "            solver='lbfgs', \n",
    "            alpha=0.1,\n",
    "            hidden_layer_sizes=(10), \n",
    "            random_state=1\n",
    "        )\n",
    "    },\n",
    "    {\n",
    "        'title': 'Naive Bayes', \n",
    "        'model': MultinomialNB(alpha=0.1)     \n",
    "    }\n",
    "]\n",
    "\n",
    "for model in models:\n",
    "    model['p'] = []\n",
    "    model['r'] = []\n",
    "    model['e'] = []\n",
    "    model['i'] = []\n",
    "\n",
    "kf = KFold(n_splits=10)\n",
    "i=0\n",
    "for k_train, k_test in kf.split(seen_index):\n",
    "    k_train = seen_index[k_train]\n",
    "    k_test = seen_index[k_test]\n",
    "    i+=1\n",
    "    print(i)\n",
    "    for model in models:\n",
    "        clf = model['model']\n",
    "        model['i'].append(i)\n",
    "        #clf = SVC(kernel='rbf',probability=True)\n",
    "        clf.fit(ab_X[k_train],y[k_train])\n",
    "        predictions = clf.predict(ab_X[k_test])\n",
    "        model['e'].append(clf.score(ab_X[k_test],y[k_test]))\n",
    "        # Precision\n",
    "        model['p'].append(precision_score(predictions,y[k_test]))\n",
    "        # Recall\n",
    "        model['r'].append(recall_score(predictions,y[k_test]))"
   ]
  },
  {
   "cell_type": "code",
   "execution_count": 54,
   "metadata": {},
   "outputs": [
    {
     "name": "stderr",
     "output_type": "stream",
     "text": [
      "No handles with labels found to put in legend.\n",
      "No handles with labels found to put in legend.\n",
      "No handles with labels found to put in legend.\n"
     ]
    },
    {
     "data": {
      "image/png": "[encoded data removed]",
      "text/plain": [
       "<Figure size 900x562.5 with 3 Axes>"
      ]
     },
     "metadata": {},
     "output_type": "display_data"
    }
   ],
   "source": [
    "plt.rcParams['grid.linestyle'] = \"--\"\n",
    "fig, axs = plt.subplots(1,3,dpi=125,figsize=double_figure,sharey=True)\n",
    "for i, model in enumerate(models):\n",
    "    ax = axs[i]\n",
    "    ax.boxplot([model['p'],model['r'], model['e']])\n",
    "    \n",
    "    for i,s in enumerate(['p','r','e']):\n",
    "        ys = model[s]\n",
    "        x = np.random.normal(i+1, 0.04, size=len(ys))\n",
    "        ax.plot(x, ys, 'r.', alpha=0.2)\n",
    "    \n",
    "    ax.set_xticklabels(['Precision', 'Recall','Accuracy'])\n",
    "    \n",
    "    ax.set_title(f'{model[\"title\"]} mean accuracy {np.mean(model[\"e\"]):.0%}')\n",
    "    ax.grid()\n",
    "    ax.legend()\n",
    "    \n",
    "plt.show()"
   ]
  },
  {
   "cell_type": "code",
   "execution_count": 55,
   "metadata": {},
   "outputs": [],
   "source": [
    "clf =  MLPClassifier(\n",
    "            solver='lbfgs', \n",
    "            alpha=0.1,\n",
    "            hidden_layer_sizes=(10), \n",
    "            random_state=1\n",
    "        )\n",
    "\n",
    "clf = SVC(kernel='linear',class_weight='balanced',probability=True)\n",
    "\n",
    "\n",
    "clf.fit(ab_X[seen_index],y[seen_index])\n",
    "\n",
    "y_pred = clf.predict_proba(ab_X[unseen_index])"
   ]
  },
  {
   "cell_type": "code",
   "execution_count": 56,
   "metadata": {},
   "outputs": [
    {
     "name": "stdout",
     "output_type": "stream",
     "text": [
      "26853\n",
      "92444\n"
     ]
    },
    {
     "data": {
      "image/png": "[encoded data removed]",
      "text/plain": [
       "<Figure size 432x288 with 1 Axes>"
      ]
     },
     "metadata": {},
     "output_type": "display_data"
    }
   ],
   "source": [
    "plt.close()\n",
    "\n",
    "df['prediction'] = None\n",
    "df.loc[unseen_index,'prediction'] = y_pred[:,1]\n",
    "\n",
    "fig, ax = plt.subplots()\n",
    "\n",
    "pdf = df.sort_values('prediction').reset_index(drop=True)\n",
    "ax.plot(pdf.index,pdf['prediction'])\n",
    "ax.axhline(0.5,linestyle=\"--\",color=\"grey\")\n",
    "\n",
    "print(pdf[pdf['prediction']>0.5].shape[0])\n",
    "print(pdf[pdf['prediction'].notna()].shape[0])\n",
    "\n",
    "plt.show()"
   ]
  },
  {
   "cell_type": "code",
   "execution_count": null,
   "metadata": {},
   "outputs": [],
   "source": []
  },
  {
   "cell_type": "markdown",
   "metadata": {},
   "source": [
    "### Now we can make a new tag and screening decision objects with the x documents most likely to be relevant"
   ]
  },
  {
   "cell_type": "code",
   "execution_count": 57,
   "metadata": {},
   "outputs": [
    {
     "data": {
      "text/plain": [
       "<QuerySet [<User: maowenxin2014@163.com>]>"
      ]
     },
     "execution_count": 57,
     "metadata": {},
     "output_type": "execute_result"
    }
   ],
   "source": [
    "q = Query.objects.get(pk=qid)\n",
    "q.users.all()"
   ]
  },
  {
   "cell_type": "code",
   "execution_count": 60,
   "metadata": {},
   "outputs": [],
   "source": [
    "import datetime\n",
    "\n",
    "now=datetime.datetime.now()\n",
    "\n",
    "t1 = Tag(\n",
    "    title=\"predicted policy sample {}\".format(now),\n",
    "    query=q\n",
    ")\n",
    "t1.save()\n",
    "\n",
    "tag = t1\n",
    "\n",
    "users = q.users.all()\n",
    "uc = len(users)\n",
    "max_docs = 500\n",
    "docs_added = 0\n",
    "for i, row in df.sort_values('prediction',ascending=False).head(3500).reset_index(drop=True).iterrows():\n",
    "    d = Doc.objects.get(id=row['id'])\n",
    "    if d.docownership_set.filter(query=q).exists():\n",
    "        continue\n",
    "    else:\n",
    "        if docs_added < max_docs:\n",
    "            d.tag.add(t1)\n",
    "            docs_added+=1\n",
    "        else:\n",
    "            break  \n",
    "\n",
    "    \n",
    "t1.update_tag()\n"
   ]
  },
  {
   "cell_type": "code",
   "execution_count": 61,
   "metadata": {},
   "outputs": [],
   "source": [
    "df[['id','prediction']].to_csv(f'doctables/predictions_{now}.csv',index=False)"
   ]
  },
  {
   "cell_type": "code",
   "execution_count": null,
   "metadata": {},
   "outputs": [],
   "source": []
  }
 ],
 "metadata": {
  "kernelspec": {
   "display_name": "tmv",
   "language": "python",
   "name": "tmv"
  },
  "language_info": {
   "codemirror_mode": {
    "name": "ipython",
    "version": 3
   },
   "file_extension": ".py",
   "mimetype": "text/x-python",
   "name": "python",
   "nbconvert_exporter": "python",
   "pygments_lexer": "ipython3",
   "version": "3.6.7"
  },
  "varInspector": {
   "cols": {
    "lenName": 16,
    "lenType": 16,
    "lenVar": 40
   },
   "kernels_config": {
    "python": {
     "delete_cmd_postfix": "",
     "delete_cmd_prefix": "del ",
     "library": "var_list.py",
     "varRefreshCmd": "print(var_dic_list())"
    },
    "r": {
     "delete_cmd_postfix": ") ",
     "delete_cmd_prefix": "rm(",
     "library": "var_list.r",
     "varRefreshCmd": "cat(var_dic_list()) "
    }
   },
   "types_to_exclude": [
    "module",
    "function",
    "builtin_function_or_method",
    "instance",
    "_Feature"
   ],
   "window_display": false
  }
 },
 "nbformat": 4,
 "nbformat_minor": 2
}
